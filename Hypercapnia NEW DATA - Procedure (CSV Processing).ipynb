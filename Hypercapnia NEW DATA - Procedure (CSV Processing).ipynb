{
 "cells": [
  {
   "cell_type": "markdown",
   "id": "7ee9d9cf",
   "metadata": {},
   "source": [
    "# Procedure Preprocessing (NEW DATA)"
   ]
  },
  {
   "cell_type": "code",
   "execution_count": null,
   "id": "0b10efaa",
   "metadata": {
    "execution": {
     "iopub.execute_input": "2024-03-30T02:08:28.898159Z",
     "iopub.status.busy": "2024-03-30T02:08:28.897152Z",
     "iopub.status.idle": "2024-03-30T02:08:31.030617Z",
     "shell.execute_reply": "2024-03-30T02:08:31.030617Z"
    }
   },
   "outputs": [],
   "source": [
    "import os\n",
    "import numpy as np\n",
    "import matplotlib.pyplot as plt\n",
    "import pandas as pd\n",
    "import seaborn as sns\n",
    "from datetime import datetime\n",
    "import os\n",
    "import glob\n",
    "\n",
    "database_dir = r\"D:\\TriNetX\\Procedure\\\\\"   # Location where the database files are stored \n",
    "#working_dir = r\"D:\\TriNetX\\Procedure\\\"\n",
    "working_dir = r\"C:\\Users\\reblo\\Box\\Residency Personal Files\\Scholarly Work\\Locke Research Projects\\TriNetX Code\\Hypercapnia TriNetX CSV Processing\\Working\\\\\" #location where to read and right from (faster = better if space allows)\n",
    "print(working_dir)\n",
    "#num_spreadsheets = 5\n",
    "num_spreadsheets = 714"
   ]
  },
  {
   "cell_type": "markdown",
   "id": "464488f7",
   "metadata": {},
   "source": [
    "### ############################################################################################"
   ]
  },
  {
   "cell_type": "markdown",
   "id": "9bdb03f9",
   "metadata": {},
   "source": [
    "### Reformatting of CSVs"
   ]
  },
  {
   "cell_type": "code",
   "execution_count": null,
   "id": "6055b84e",
   "metadata": {
    "execution": {
     "iopub.execute_input": "2024-03-30T02:08:31.034623Z",
     "iopub.status.busy": "2024-03-30T02:08:31.034623Z",
     "iopub.status.idle": "2024-03-30T02:52:57.322526Z",
     "shell.execute_reply": "2024-03-30T02:52:57.322526Z"
    }
   },
   "outputs": [],
   "source": [
    "# split -l 100000000 procedure.csv\n",
    "# Adding new indexes; adding new column names; removing un-needed columns; reformatting column data types\n",
    "\n",
    "columns = [\"patient_id\",\"encounter_id\",\"code_system\",\"code\",\"principal_procedure_indicator\",\"date\",\"derived_by_TriNetX\",\"source_id\"]\n",
    "\n",
    "for i in range(1, num_spreadsheets+1):\n",
    "    print(f'{i:04}')\n",
    "    procedure = pd.read_csv(database_dir + \"procedure\"+f'{i:04}'+\".csv\",\n",
    "                            names = columns,\n",
    "                            dtype = {\"patient_id\":str,\"encounter_id\":str,\"code\":str},\n",
    "                            parse_dates = [\"date\"])\n",
    "    procedure = procedure.drop(columns = [\"code_system\",\"principal_procedure_indicator\",\"derived_by_TriNetX\",\"source_id\"])\n",
    "    procedure.to_csv(working_dir + \"procedure_NEW_\"+f'{i:04}'+\".csv\", index = False)\n",
    "    print(procedure.shape)\n",
    "    del procedure"
   ]
  },
  {
   "cell_type": "markdown",
   "id": "75185266",
   "metadata": {},
   "source": [
    "### ############################################################################################"
   ]
  },
  {
   "cell_type": "markdown",
   "id": "ad12fa2a",
   "metadata": {},
   "source": [
    "# CPT: 94660 - Continuous positive airway pressure ventilation (CPAP), initiation and management"
   ]
  },
  {
   "cell_type": "code",
   "execution_count": null,
   "id": "49723841",
   "metadata": {
    "execution": {
     "iopub.execute_input": "2024-03-30T02:52:57.326894Z",
     "iopub.status.busy": "2024-03-30T02:52:57.326894Z",
     "iopub.status.idle": "2024-03-30T03:00:17.450357Z",
     "shell.execute_reply": "2024-03-30T03:00:17.449350Z"
    }
   },
   "outputs": [],
   "source": [
    "# CPT: 94660 - Continuous positive airway pressure ventilation (CPAP), initiation and management\n",
    "\n",
    "sub_blocks = []\n",
    "for i in range(1, num_spreadsheets+1):\n",
    "    print(f'{i:04}')\n",
    "    procedure = pd.read_csv(working_dir + \"procedure_NEW_\"+f'{i:04}'+\".csv\", \n",
    "        dtype={\"patient_id\":str, \n",
    "               \"encounter_id\":str, \n",
    "               \"code\":'category', \n",
    "               \"date\":'category'}) \n",
    "    procedure = procedure[procedure[\"code\"].str.match(\"^94660$\")]\n",
    "    sub_blocks.append(procedure)\n",
    "    del procedure\n",
    "\n",
    "HAS_94660 = pd.concat(sub_blocks, ignore_index = True)\n",
    "HAS_94660.to_csv(working_dir +\"HAS_94660.csv\", index = False)\n",
    "print(HAS_94660.shape)\n",
    "print(\"\\n\")\n",
    "print(HAS_94660[\"code\"].value_counts())\n",
    "del HAS_94660"
   ]
  },
  {
   "cell_type": "markdown",
   "id": "aab4edc7",
   "metadata": {},
   "source": [
    "### ############################################################################################"
   ]
  },
  {
   "cell_type": "markdown",
   "id": "0b2c4a95",
   "metadata": {},
   "source": [
    "# TTE - Transthoracic Echocardiogram Procedures; Processing"
   ]
  },
  {
   "cell_type": "code",
   "execution_count": null,
   "id": "dd4dfffb",
   "metadata": {
    "execution": {
     "iopub.execute_input": "2024-03-30T03:00:17.454417Z",
     "iopub.status.busy": "2024-03-30T03:00:17.453415Z",
     "iopub.status.idle": "2024-03-30T03:07:57.795279Z",
     "shell.execute_reply": "2024-03-30T03:07:57.794547Z"
    }
   },
   "outputs": [],
   "source": [
    "# TTE - Transthoracic Echocardiogram Procedures\n",
    "# 99303, 99304, 93306, 93312, 93320, 93321, 93350, 93351, 93307, 93308, 93325, 93356\n",
    "\n",
    "sub_blocks = []\n",
    "for i in range(1, num_spreadsheets+1):\n",
    "    print(f'{i:04}')\n",
    "    procedure = pd.read_csv(working_dir + \"procedure_NEW_\"+f'{i:04}'+\".csv\", \n",
    "        dtype={\"patient_id\":str, \n",
    "               \"encounter_id\":str, \n",
    "               \"code\":'category', \n",
    "               \"date\":'category'}) \n",
    "    procedure = procedure[procedure[\"code\"].str.match(\"^99303$|^99304$|^93306$|^93312$|^93320$|^93321$|^93350$|^93351$|^93307$|^93308$|^93325$|^93356$\")]\n",
    "    sub_blocks.append(procedure)\n",
    "    del procedure\n",
    "\n",
    "HAS_TTE = pd.concat(sub_blocks, ignore_index = True)\n",
    "HAS_TTE.to_csv(working_dir +\"HAS_TTE.csv\", index = False)\n",
    "print(HAS_TTE.shape)\n",
    "print(\"\\n\")\n",
    "print(HAS_TTE[\"code\"].value_counts())\n",
    "del HAS_TTE\n"
   ]
  },
  {
   "cell_type": "markdown",
   "id": "9ce8226a",
   "metadata": {},
   "source": [
    "### ############################################################################################"
   ]
  },
  {
   "cell_type": "markdown",
   "id": "c29f6595",
   "metadata": {},
   "source": [
    "# 94640: Pressurized or non-pressurized inhalation treatment for acute airway obstruction for therapeutic purposes and/or for diagnostic purposes such as sputum induction with an aerosol generator, nebulizer, metered dose inhaler or intermittent positive pressure breathing (IPPB) device; Processing"
   ]
  },
  {
   "cell_type": "code",
   "execution_count": null,
   "id": "a353370b",
   "metadata": {
    "execution": {
     "iopub.execute_input": "2024-03-30T03:07:57.799748Z",
     "iopub.status.busy": "2024-03-30T03:07:57.798285Z",
     "iopub.status.idle": "2024-03-30T03:15:27.168115Z",
     "shell.execute_reply": "2024-03-30T03:15:27.168115Z"
    }
   },
   "outputs": [],
   "source": [
    "#94640: Pressurized or non-pressurized inhalation treatment for acute airway obstruction for therapeutic purposes\n",
    "#and/or for diagnostic purposes such as sputum induction with an aerosol generator, nebulizer, metered dose \n",
    "#inhaler or intermittent positive pressure breathing (IPPB) device\n",
    "\n",
    "sub_blocks = []\n",
    "for i in range(1, num_spreadsheets+1):\n",
    "    print(f'{i:04}')\n",
    "    procedure = pd.read_csv(working_dir + \"procedure_NEW_\"+f'{i:04}'+\".csv\", \n",
    "        dtype={\"patient_id\":str, \n",
    "               \"encounter_id\":str, \n",
    "               \"code\":'category', \n",
    "               \"date\":'category'}) \n",
    "    procedure = procedure[procedure[\"code\"].str.match(\"^94640$\")]\n",
    "    sub_blocks.append(procedure)\n",
    "    del procedure\n",
    "\n",
    "HAS_94640 = pd.concat(sub_blocks, ignore_index = True)\n",
    "HAS_94640.to_csv(working_dir +\"HAS_94640.csv\", index = False)\n",
    "print(HAS_94640.shape)\n",
    "print(\"\\n\")\n",
    "print(HAS_94640[\"code\"].value_counts())\n",
    "del HAS_94640"
   ]
  },
  {
   "cell_type": "markdown",
   "id": "156b0169",
   "metadata": {},
   "source": [
    "### ############################################################################################"
   ]
  },
  {
   "cell_type": "markdown",
   "id": "94a79d4f",
   "metadata": {},
   "source": [
    "# 94664: Inhaler Teaching; Processing"
   ]
  },
  {
   "cell_type": "code",
   "execution_count": null,
   "id": "3b7c7df3",
   "metadata": {
    "execution": {
     "iopub.execute_input": "2024-03-30T03:15:27.171194Z",
     "iopub.status.busy": "2024-03-30T03:15:27.171194Z",
     "iopub.status.idle": "2024-03-30T03:22:47.702857Z",
     "shell.execute_reply": "2024-03-30T03:22:47.702798Z"
    }
   },
   "outputs": [],
   "source": [
    "#94664: Inhaler Teaching \n",
    "\n",
    "sub_blocks = []\n",
    "for i in range(1, num_spreadsheets+1):\n",
    "    print(f'{i:04}')\n",
    "    procedure = pd.read_csv(working_dir + \"procedure_NEW_\"+f'{i:04}'+\".csv\", \n",
    "        dtype={\"patient_id\":str, \n",
    "               \"encounter_id\":str, \n",
    "               \"code\":'category', \n",
    "               \"date\":'category'}) \n",
    "    procedure = procedure[procedure[\"code\"].str.match(\"^94664$\")]\n",
    "    sub_blocks.append(procedure)\n",
    "    del procedure\n",
    "\n",
    "HAS_94664 = pd.concat(sub_blocks, ignore_index = True)\n",
    "HAS_94664.to_csv(working_dir +\"HAS_94664.csv\", index = False)\n",
    "print(HAS_94664.shape)\n",
    "print(\"\\n\")\n",
    "print(HAS_94664[\"code\"].value_counts())\n",
    "del HAS_94664"
   ]
  },
  {
   "cell_type": "markdown",
   "id": "7a878399",
   "metadata": {},
   "source": [
    "### ############################################################################################"
   ]
  },
  {
   "cell_type": "markdown",
   "id": "f2e26780",
   "metadata": {},
   "source": [
    "# 71045: Radiologic examination, 1 view CXR, chest; single view; Processing"
   ]
  },
  {
   "cell_type": "code",
   "execution_count": null,
   "id": "2ea5193e",
   "metadata": {
    "execution": {
     "iopub.execute_input": "2024-03-30T03:22:47.704858Z",
     "iopub.status.busy": "2024-03-30T03:22:47.704858Z",
     "iopub.status.idle": "2024-03-30T03:30:20.776868Z",
     "shell.execute_reply": "2024-03-30T03:30:20.776868Z"
    }
   },
   "outputs": [],
   "source": [
    "#71045: Radiologic examination, 1 view CXR, chest; single view\n",
    "\n",
    "sub_blocks = []\n",
    "for i in range(1, num_spreadsheets+1):\n",
    "    print(f'{i:04}')\n",
    "    procedure = pd.read_csv(working_dir + \"procedure_NEW_\"+f'{i:04}'+\".csv\", \n",
    "        dtype={\"patient_id\":str, \n",
    "               \"encounter_id\":str, \n",
    "               \"code\":'category', \n",
    "               \"date\":'category'}) \n",
    "    procedure = procedure[procedure[\"code\"].str.match(\"^71045$\")]\n",
    "    sub_blocks.append(procedure)\n",
    "    del procedure\n",
    "\n",
    "HAS_71045 = pd.concat(sub_blocks, ignore_index = True)\n",
    "HAS_71045.to_csv(working_dir +\"HAS_71045.csv\", index = False)\n",
    "print(HAS_71045.shape)\n",
    "print(\"\\n\")\n",
    "print(HAS_71045[\"code\"].value_counts())\n",
    "del HAS_71045"
   ]
  },
  {
   "cell_type": "markdown",
   "id": "fdb857a6",
   "metadata": {},
   "source": [
    "### ############################################################################################"
   ]
  },
  {
   "cell_type": "markdown",
   "id": "8e4bdd8c",
   "metadata": {},
   "source": [
    "# 71046: Radiologic examination, 2 view CXR, chest; 2 views; Processing"
   ]
  },
  {
   "cell_type": "code",
   "execution_count": null,
   "id": "a3d187aa",
   "metadata": {
    "execution": {
     "iopub.execute_input": "2024-03-30T03:30:20.780435Z",
     "iopub.status.busy": "2024-03-30T03:30:20.780435Z",
     "iopub.status.idle": "2024-03-30T03:37:52.641216Z",
     "shell.execute_reply": "2024-03-30T03:37:52.640863Z"
    }
   },
   "outputs": [],
   "source": [
    "#71046: Radiologic examination, 2 view CXR, chest; 2 views\n",
    "\n",
    "sub_blocks = []\n",
    "for i in range(1, num_spreadsheets+1):\n",
    "    print(f'{i:04}')\n",
    "    procedure = pd.read_csv(working_dir + \"procedure_NEW_\"+f'{i:04}'+\".csv\", \n",
    "        dtype={\"patient_id\":str, \n",
    "               \"encounter_id\":str, \n",
    "               \"code\":'category', \n",
    "               \"date\":'category'}) \n",
    "    procedure = procedure[procedure[\"code\"].str.match(\"^71046$\")]\n",
    "    sub_blocks.append(procedure)\n",
    "    del procedure\n",
    "\n",
    "HAS_71046 = pd.concat(sub_blocks, ignore_index = True)\n",
    "HAS_71046.to_csv(working_dir +\"HAS_71046.csv\", index = False)\n",
    "print(HAS_71046.shape)\n",
    "print(\"\\n\")\n",
    "print(HAS_71046[\"code\"].value_counts())\n",
    "del HAS_71046\n"
   ]
  },
  {
   "cell_type": "markdown",
   "id": "ed7fcd8a",
   "metadata": {},
   "source": [
    "### ############################################################################################"
   ]
  },
  {
   "cell_type": "markdown",
   "id": "d2240bd4",
   "metadata": {},
   "source": [
    "# 71250: Computed tomography, CT Chest, thorax, diagnostic; without contrast material; Processing"
   ]
  },
  {
   "cell_type": "code",
   "execution_count": null,
   "id": "e6aa68c0",
   "metadata": {
    "execution": {
     "iopub.execute_input": "2024-03-30T03:37:52.644230Z",
     "iopub.status.busy": "2024-03-30T03:37:52.644230Z",
     "iopub.status.idle": "2024-03-30T03:45:16.601763Z",
     "shell.execute_reply": "2024-03-30T03:45:16.601763Z"
    }
   },
   "outputs": [],
   "source": [
    "#71250: Computed tomography, CT Chest, thorax, diagnostic; without contrast material\n",
    "\n",
    "sub_blocks = []\n",
    "for i in range(1, num_spreadsheets+1):\n",
    "    print(f'{i:04}')\n",
    "    procedure = pd.read_csv(working_dir + \"procedure_NEW_\"+f'{i:04}'+\".csv\", \n",
    "        dtype={\"patient_id\":str, \n",
    "               \"encounter_id\":str, \n",
    "               \"code\":'category', \n",
    "               \"date\":'category'}) \n",
    "    procedure = procedure[procedure[\"code\"].str.match(\"^71250$\")]\n",
    "    sub_blocks.append(procedure)\n",
    "    del procedure\n",
    "\n",
    "HAS_71250 = pd.concat(sub_blocks, ignore_index = True)\n",
    "HAS_71250.to_csv(working_dir +\"HAS_71250.csv\", index = False)\n",
    "print(HAS_71250.shape)\n",
    "print(\"\\n\")\n",
    "print(HAS_71250[\"code\"].value_counts())\n",
    "del HAS_71250"
   ]
  },
  {
   "cell_type": "markdown",
   "id": "5ebae84a",
   "metadata": {},
   "source": [
    "### ############################################################################################"
   ]
  },
  {
   "cell_type": "markdown",
   "id": "3c116d4e",
   "metadata": {},
   "source": [
    "# 71260: Computed tomography, CT Chest with contrast, thorax, diagnostic; with contrast material(s); Processing"
   ]
  },
  {
   "cell_type": "code",
   "execution_count": null,
   "id": "7a31ea85",
   "metadata": {
    "execution": {
     "iopub.execute_input": "2024-03-30T03:45:16.604854Z",
     "iopub.status.busy": "2024-03-30T03:45:16.604854Z",
     "iopub.status.idle": "2024-03-30T03:52:40.731598Z",
     "shell.execute_reply": "2024-03-30T03:52:40.731598Z"
    }
   },
   "outputs": [],
   "source": [
    "#71260: Computed tomography, CT Chest with contrast, thorax, diagnostic; with contrast material(s)\n",
    "\n",
    "sub_blocks = []\n",
    "for i in range(1, num_spreadsheets+1):\n",
    "    print(f'{i:04}')\n",
    "    procedure = pd.read_csv(working_dir + \"procedure_NEW_\"+f'{i:04}'+\".csv\", \n",
    "        dtype={\"patient_id\":str, \n",
    "               \"encounter_id\":str, \n",
    "               \"code\":'category', \n",
    "               \"date\":'category'}) \n",
    "    procedure = procedure[procedure[\"code\"].str.match(\"^71260$\")]\n",
    "    sub_blocks.append(procedure)\n",
    "    del procedure\n",
    "\n",
    "HAS_71260 = pd.concat(sub_blocks, ignore_index = True)\n",
    "HAS_71260.to_csv(working_dir +\"HAS_71260.csv\", index = False)\n",
    "print(HAS_71260.shape)\n",
    "print(\"\\n\")\n",
    "print(HAS_71260[\"code\"].value_counts())\n",
    "del HAS_71260\n"
   ]
  },
  {
   "cell_type": "markdown",
   "id": "dc696af7",
   "metadata": {},
   "source": [
    "### ############################################################################################"
   ]
  },
  {
   "cell_type": "markdown",
   "id": "f4e57dfb",
   "metadata": {},
   "source": [
    "# 99291: Critical Care first 30-74 minutes; Processing"
   ]
  },
  {
   "cell_type": "code",
   "execution_count": null,
   "id": "161c96b6",
   "metadata": {
    "execution": {
     "iopub.execute_input": "2024-03-30T03:52:40.734659Z",
     "iopub.status.busy": "2024-03-30T03:52:40.734659Z",
     "iopub.status.idle": "2024-03-30T04:00:13.903096Z",
     "shell.execute_reply": "2024-03-30T04:00:13.902804Z"
    }
   },
   "outputs": [],
   "source": [
    "# 1013729 Critical Care Services\n",
    "# 1014309 Critical Care Seervices of ...\n",
    "# 99291 Critical Care first 30-74 minutes\n",
    "# 99292 add'n time\n",
    "\n",
    "\n",
    "sub_blocks = []\n",
    "for i in range(1, num_spreadsheets+1):\n",
    "    print(f'{i:04}')\n",
    "    procedure = pd.read_csv(working_dir + \"procedure_NEW_\"+f'{i:04}'+\".csv\", \n",
    "        dtype={\"patient_id\":str, \n",
    "               \"encounter_id\":str, \n",
    "               \"code\":'category', \n",
    "               \"date\":'category'}) \n",
    "    procedure = procedure[procedure[\"code\"].str.match(\"^99291$|^99292$|^1013729$|^1014309$\")]\n",
    "    sub_blocks.append(procedure)\n",
    "    del procedure\n",
    "\n",
    "HAS_99291 = pd.concat(sub_blocks, ignore_index = True)\n",
    "HAS_99291.to_csv(working_dir +\"HAS_99291.csv\", index = False)\n",
    "print(HAS_99291.shape)\n",
    "print(\"\\n\")\n",
    "print(HAS_99291[\"code\"].value_counts())\n",
    "del HAS_99291"
   ]
  },
  {
   "cell_type": "markdown",
   "id": "18781401",
   "metadata": {},
   "source": [
    "### ############################################################################################"
   ]
  },
  {
   "cell_type": "markdown",
   "id": "4c6d23b1",
   "metadata": {},
   "source": [
    "# 5A09458: Assistant with vent 24-96h; Processing"
   ]
  },
  {
   "cell_type": "code",
   "execution_count": null,
   "id": "111a3f3c",
   "metadata": {
    "execution": {
     "iopub.execute_input": "2024-03-30T04:00:13.906104Z",
     "iopub.status.busy": "2024-03-30T04:00:13.906104Z",
     "iopub.status.idle": "2024-03-30T04:07:29.724564Z",
     "shell.execute_reply": "2024-03-30T04:07:29.724564Z"
    }
   },
   "outputs": [],
   "source": [
    "# 5A09458: Assistant with vent 24-96h\n",
    "\n",
    "sub_blocks = []\n",
    "for i in range(1, num_spreadsheets+1):\n",
    "    print(f'{i:04}')\n",
    "    procedure = pd.read_csv(working_dir + \"procedure_NEW_\"+f'{i:04}'+\".csv\", \n",
    "        dtype={\"patient_id\":str, \n",
    "               \"encounter_id\":str, \n",
    "               \"code\":'category', \n",
    "               \"date\":'category'}) \n",
    "    procedure = procedure[procedure[\"code\"].str.match(\"^5A09458$\")]\n",
    "    sub_blocks.append(procedure)\n",
    "    del procedure\n",
    "\n",
    "HAS_5A09458 = pd.concat(sub_blocks, ignore_index = True)\n",
    "HAS_5A09458.to_csv(working_dir +\"HAS_5A09458.csv\", index = False)\n",
    "print(HAS_5A09458.shape)\n",
    "print(\"\\n\")\n",
    "print(HAS_5A09458[\"code\"].value_counts())\n",
    "del HAS_5A09458"
   ]
  },
  {
   "cell_type": "markdown",
   "id": "c7bf050f",
   "metadata": {},
   "source": [
    "### ############################################################################################"
   ]
  },
  {
   "cell_type": "markdown",
   "id": "c2d18f47",
   "metadata": {},
   "source": [
    "# 4302191008: Management of NIV; Processing"
   ]
  },
  {
   "cell_type": "code",
   "execution_count": null,
   "id": "18a264d9",
   "metadata": {
    "execution": {
     "iopub.execute_input": "2024-03-30T04:07:29.727569Z",
     "iopub.status.busy": "2024-03-30T04:07:29.727569Z",
     "iopub.status.idle": "2024-03-30T04:14:44.915865Z",
     "shell.execute_reply": "2024-03-30T04:14:44.915865Z"
    }
   },
   "outputs": [],
   "source": [
    "# 4302191008: Management of NIV\n",
    "\n",
    "sub_blocks = []\n",
    "for i in range(1, num_spreadsheets+1):\n",
    "    print(f'{i:04}')\n",
    "    procedure = pd.read_csv(working_dir + \"procedure_NEW_\"+f'{i:04}'+\".csv\", \n",
    "        dtype={\"patient_id\":str, \n",
    "               \"encounter_id\":str, \n",
    "               \"code\":'category', \n",
    "               \"date\":'category'}) \n",
    "    procedure = procedure[procedure[\"code\"].str.match(\"^430191008$\")]\n",
    "    sub_blocks.append(procedure)\n",
    "    del procedure\n",
    "\n",
    "HAS_430191008 = pd.concat(sub_blocks, ignore_index = True)\n",
    "HAS_430191008.to_csv(working_dir +\"HAS_430191008.csv\", index = False)\n",
    "print(HAS_430191008.shape)\n",
    "print(\"\\n\")\n",
    "print(HAS_430191008[\"code\"].value_counts())\n",
    "del HAS_430191008"
   ]
  },
  {
   "cell_type": "markdown",
   "id": "30a1558d",
   "metadata": {},
   "source": [
    "### ############################################################################################"
   ]
  },
  {
   "cell_type": "markdown",
   "id": "d2a7e933",
   "metadata": {},
   "source": [
    "# 5A09358 Assistant with vent <24; Processing"
   ]
  },
  {
   "cell_type": "code",
   "execution_count": null,
   "id": "09fc8cff",
   "metadata": {
    "execution": {
     "iopub.execute_input": "2024-03-30T04:14:44.919248Z",
     "iopub.status.busy": "2024-03-30T04:14:44.919248Z",
     "iopub.status.idle": "2024-03-30T04:22:00.388777Z",
     "shell.execute_reply": "2024-03-30T04:22:00.388777Z"
    }
   },
   "outputs": [],
   "source": [
    "# 5A09358 Assistant with vent <24\n",
    "\n",
    "sub_blocks = []\n",
    "for i in range(1, num_spreadsheets+1):\n",
    "    print(f'{i:04}')\n",
    "    procedure = pd.read_csv(working_dir + \"procedure_NEW_\"+f'{i:04}'+\".csv\", \n",
    "        dtype={\"patient_id\":str, \n",
    "               \"encounter_id\":str, \n",
    "               \"code\":'category', \n",
    "               \"date\":'category'}) \n",
    "    procedure = procedure[procedure[\"code\"].str.match(\"^5A09358$\")]\n",
    "    sub_blocks.append(procedure)\n",
    "    del procedure\n",
    "\n",
    "HAS_5A09358 = pd.concat(sub_blocks, ignore_index = True)\n",
    "HAS_5A09358.to_csv(working_dir +\"HAS_5A09358.csv\", index = False)\n",
    "print(HAS_5A09358.shape)\n",
    "print(\"\\n\")\n",
    "print(HAS_5A09358[\"code\"].value_counts())\n",
    "del HAS_5A09358"
   ]
  },
  {
   "cell_type": "markdown",
   "id": "188651dc",
   "metadata": {},
   "source": [
    "### ############################################################################################"
   ]
  },
  {
   "cell_type": "markdown",
   "id": "3815a38a",
   "metadata": {},
   "source": [
    "# 5A09558 Assistant with vent 96+; Processing"
   ]
  },
  {
   "cell_type": "code",
   "execution_count": null,
   "id": "39bf711d",
   "metadata": {
    "execution": {
     "iopub.execute_input": "2024-03-30T04:22:00.391783Z",
     "iopub.status.busy": "2024-03-30T04:22:00.390784Z",
     "iopub.status.idle": "2024-03-30T04:29:15.685008Z",
     "shell.execute_reply": "2024-03-30T04:29:15.685008Z"
    }
   },
   "outputs": [],
   "source": [
    "# 5A09558 Assistant with vent 96+\n",
    "\n",
    "sub_blocks = []\n",
    "for i in range(1, num_spreadsheets+1):\n",
    "    print(f'{i:04}')\n",
    "    procedure = pd.read_csv(working_dir + \"procedure_NEW_\"+f'{i:04}'+\".csv\", \n",
    "        dtype={\"patient_id\":str, \n",
    "               \"encounter_id\":str, \n",
    "               \"code\":'category', \n",
    "               \"date\":'category'}) \n",
    "    procedure = procedure[procedure[\"code\"].str.match(\"^5A09558$\")]\n",
    "    sub_blocks.append(procedure)\n",
    "    del procedure\n",
    "\n",
    "HAS_5A09558 = pd.concat(sub_blocks, ignore_index = True)\n",
    "HAS_5A09558.to_csv(working_dir +\"HAS_5A09558.csv\", index = False)\n",
    "print(HAS_5A09558.shape)\n",
    "print(\"\\n\")\n",
    "print(HAS_5A09558[\"code\"].value_counts())\n",
    "del HAS_5A09558\n"
   ]
  },
  {
   "cell_type": "markdown",
   "id": "3d7d66b2",
   "metadata": {},
   "source": [
    "### ############################################################################################"
   ]
  },
  {
   "cell_type": "markdown",
   "id": "832dd8c1",
   "metadata": {},
   "source": [
    "# 94002 Vent assist and mgmt, initial day; Processing"
   ]
  },
  {
   "cell_type": "code",
   "execution_count": null,
   "id": "78f3c0c8",
   "metadata": {
    "execution": {
     "iopub.execute_input": "2024-03-30T04:29:15.688095Z",
     "iopub.status.busy": "2024-03-30T04:29:15.687014Z",
     "iopub.status.idle": "2024-03-30T04:36:36.394837Z",
     "shell.execute_reply": "2024-03-30T04:36:36.394837Z"
    }
   },
   "outputs": [],
   "source": [
    "# 94002 Vent assist and mgmt, initial day\n",
    "\n",
    "sub_blocks = []\n",
    "for i in range(1, num_spreadsheets+1):\n",
    "    print(f'{i:04}')\n",
    "    procedure = pd.read_csv(working_dir + \"procedure_NEW_\"+f'{i:04}'+\".csv\", \n",
    "        dtype={\"patient_id\":str, \n",
    "               \"encounter_id\":str, \n",
    "               \"code\":'category', \n",
    "               \"date\":'category'}) \n",
    "    procedure = procedure[procedure[\"code\"].str.match(\"^94002$\")]\n",
    "    sub_blocks.append(procedure)\n",
    "    del procedure\n",
    "\n",
    "HAS_94002 = pd.concat(sub_blocks, ignore_index = True)\n",
    "HAS_94002.to_csv(working_dir +\"HAS_94002.csv\", index = False)\n",
    "print(HAS_94002.shape)\n",
    "print(\"\\n\")\n",
    "print(HAS_94002[\"code\"].value_counts())\n",
    "del HAS_94002"
   ]
  },
  {
   "cell_type": "markdown",
   "id": "cf3c41b0",
   "metadata": {},
   "source": [
    "### ############################################################################################"
   ]
  },
  {
   "cell_type": "markdown",
   "id": "19bbbfd8",
   "metadata": {},
   "source": [
    "# 94003 Vent assist and mgmt, consecutive day; Processing"
   ]
  },
  {
   "cell_type": "code",
   "execution_count": null,
   "id": "d84f605d",
   "metadata": {
    "execution": {
     "iopub.execute_input": "2024-03-30T04:36:36.397897Z",
     "iopub.status.busy": "2024-03-30T04:36:36.396896Z",
     "iopub.status.idle": "2024-03-30T04:43:56.788025Z",
     "shell.execute_reply": "2024-03-30T04:43:56.788025Z"
    }
   },
   "outputs": [],
   "source": [
    "# 94003 Vent assist and mgmt, consecutive day\n",
    "\n",
    "sub_blocks = []\n",
    "for i in range(1, num_spreadsheets+1):\n",
    "    print(f'{i:04}')\n",
    "    procedure = pd.read_csv(working_dir + \"procedure_NEW_\"+f'{i:04}'+\".csv\", \n",
    "        dtype={\"patient_id\":str, \n",
    "               \"encounter_id\":str, \n",
    "               \"code\":'category', \n",
    "               \"date\":'category'}) \n",
    "    procedure = procedure[procedure[\"code\"].str.match(\"^94003$\")]\n",
    "    sub_blocks.append(procedure)\n",
    "    del procedure\n",
    "\n",
    "HAS_94003 = pd.concat(sub_blocks, ignore_index = True)\n",
    "HAS_94003.to_csv(working_dir +\"HAS_94003.csv\", index = False)\n",
    "print(HAS_94003.shape)\n",
    "print(\"\\n\")\n",
    "print(HAS_94003[\"code\"].value_counts())\n",
    "del HAS_94003"
   ]
  },
  {
   "cell_type": "markdown",
   "id": "a9000f0b",
   "metadata": {},
   "source": [
    "### ############################################################################################"
   ]
  },
  {
   "cell_type": "markdown",
   "id": "5928e411",
   "metadata": {},
   "source": [
    "# 5A1945Z - Respiratory Ventilation, 24-96 Consecutive Hours; Processing"
   ]
  },
  {
   "cell_type": "code",
   "execution_count": null,
   "id": "01eac08e",
   "metadata": {
    "execution": {
     "iopub.execute_input": "2024-03-30T04:43:56.792091Z",
     "iopub.status.busy": "2024-03-30T04:43:56.792091Z",
     "iopub.status.idle": "2024-03-30T04:51:12.684863Z",
     "shell.execute_reply": "2024-03-30T04:51:12.684863Z"
    }
   },
   "outputs": [],
   "source": [
    "\n",
    "sub_blocks = []\n",
    "for i in range(1, num_spreadsheets+1):\n",
    "    print(f'{i:04}')\n",
    "    procedure = pd.read_csv(working_dir + \"procedure_NEW_\"+f'{i:04}'+\".csv\", \n",
    "        dtype={\"patient_id\":str, \n",
    "               \"encounter_id\":str, \n",
    "               \"code\":'category', \n",
    "               \"date\":'category'}) \n",
    "    procedure = procedure[procedure[\"code\"].str.match(\"^5A1945Z$\")]\n",
    "    sub_blocks.append(procedure)\n",
    "    del procedure\n",
    "\n",
    "HAS_5A1945Z = pd.concat(sub_blocks, ignore_index = True)\n",
    "HAS_5A1945Z.to_csv(working_dir +\"HAS_5A1945Z.csv\", index = False)\n",
    "print(HAS_5A1945Z.shape)\n",
    "print(\"\\n\")\n",
    "print(HAS_5A1945Z[\"code\"].value_counts())\n",
    "del HAS_5A1945Z"
   ]
  },
  {
   "cell_type": "markdown",
   "id": "dd5209db",
   "metadata": {},
   "source": [
    "### ############################################################################################"
   ]
  },
  {
   "cell_type": "markdown",
   "id": "00e80ffe",
   "metadata": {},
   "source": [
    "# 5A1935Z - Respiratory Ventilation, Less than 24 Consecutive Hours; Processing"
   ]
  },
  {
   "cell_type": "code",
   "execution_count": null,
   "id": "374031d0",
   "metadata": {
    "execution": {
     "iopub.execute_input": "2024-03-30T04:51:12.687868Z",
     "iopub.status.busy": "2024-03-30T04:51:12.686868Z",
     "iopub.status.idle": "2024-03-30T04:58:29.287759Z",
     "shell.execute_reply": "2024-03-30T04:58:29.287759Z"
    }
   },
   "outputs": [],
   "source": [
    "sub_blocks = []\n",
    "for i in range(1, num_spreadsheets+1):\n",
    "    print(f'{i:04}')\n",
    "    procedure = pd.read_csv(working_dir + \"procedure_NEW_\"+f'{i:04}'+\".csv\", \n",
    "        dtype={\"patient_id\":str, \n",
    "               \"encounter_id\":str, \n",
    "               \"code\":'category', \n",
    "               \"date\":'category'}) \n",
    "    procedure = procedure[procedure[\"code\"].str.match(\"^5A1935Z$\")]\n",
    "    sub_blocks.append(procedure)\n",
    "    del procedure\n",
    "\n",
    "HAS_5A1935Z = pd.concat(sub_blocks, ignore_index = True)\n",
    "HAS_5A1935Z.to_csv(working_dir +\"HAS_5A1935Z.csv\", index = False)\n",
    "print(HAS_5A1935Z.shape)\n",
    "print(\"\\n\")\n",
    "print(HAS_5A1935Z[\"code\"].value_counts())\n",
    "del HAS_5A1935Z"
   ]
  },
  {
   "cell_type": "markdown",
   "id": "5cbadfc7",
   "metadata": {},
   "source": [
    "### ############################################################################################"
   ]
  },
  {
   "cell_type": "markdown",
   "id": "1dc6f17f",
   "metadata": {},
   "source": [
    "# 5A1955Z - Respiratory Ventilation, Greater than 96 Consecutive Hours; Processing"
   ]
  },
  {
   "cell_type": "code",
   "execution_count": null,
   "id": "bb2b6bab",
   "metadata": {
    "execution": {
     "iopub.execute_input": "2024-03-30T04:58:29.290766Z",
     "iopub.status.busy": "2024-03-30T04:58:29.289765Z",
     "iopub.status.idle": "2024-03-30T05:05:46.276940Z",
     "shell.execute_reply": "2024-03-30T05:05:46.276940Z"
    }
   },
   "outputs": [],
   "source": [
    "sub_blocks = []\n",
    "for i in range(1, num_spreadsheets+1):\n",
    "    print(f'{i:04}')\n",
    "    procedure = pd.read_csv(working_dir + \"procedure_NEW_\"+f'{i:04}'+\".csv\", \n",
    "        dtype={\"patient_id\":str, \n",
    "               \"encounter_id\":str, \n",
    "               \"code\":'category', \n",
    "               \"date\":'category'}) \n",
    "    procedure = procedure[procedure[\"code\"].str.match(\"^5A1955Z$\")]\n",
    "    sub_blocks.append(procedure)\n",
    "    del procedure\n",
    "\n",
    "HAS_5A1955Z = pd.concat(sub_blocks, ignore_index = True)\n",
    "HAS_5A1955Z.to_csv(working_dir +\"HAS_5A1955Z.csv\", index = False)\n",
    "print(HAS_5A1955Z.shape)\n",
    "print(\"\\n\")\n",
    "print(HAS_5A1955Z[\"code\"].value_counts())\n",
    "del HAS_5A1955Z"
   ]
  },
  {
   "cell_type": "markdown",
   "id": "1b112aed",
   "metadata": {},
   "source": [
    "### ############################################################################################"
   ]
  },
  {
   "cell_type": "markdown",
   "id": "d01a8144",
   "metadata": {},
   "source": [
    "# 5A19054 - Respiratory Ventilation, Single, Nonmechanical; Processing"
   ]
  },
  {
   "cell_type": "code",
   "execution_count": null,
   "id": "196b5c4e",
   "metadata": {
    "execution": {
     "iopub.execute_input": "2024-03-30T05:05:46.279944Z",
     "iopub.status.busy": "2024-03-30T05:05:46.279944Z",
     "iopub.status.idle": "2024-03-30T05:13:01.264208Z",
     "shell.execute_reply": "2024-03-30T05:13:01.264208Z"
    }
   },
   "outputs": [],
   "source": [
    "sub_blocks = []\n",
    "for i in range(1, num_spreadsheets+1):\n",
    "    print(f'{i:04}')\n",
    "    procedure = pd.read_csv(working_dir + \"procedure_NEW_\"+f'{i:04}'+\".csv\", \n",
    "        dtype={\"patient_id\":str, \n",
    "               \"encounter_id\":str, \n",
    "               \"code\":'category', \n",
    "               \"date\":'category'}) \n",
    "    procedure = procedure[procedure[\"code\"].str.match(\"^5A19054$\")]\n",
    "    sub_blocks.append(procedure)\n",
    "    del procedure\n",
    "\n",
    "HAS_5A19054 = pd.concat(sub_blocks, ignore_index = True)\n",
    "HAS_5A19054.to_csv(working_dir +\"HAS_5A19054.csv\", index = False)\n",
    "print(HAS_5A19054.shape)\n",
    "print(\"\\n\")\n",
    "print(HAS_5A19054[\"code\"].value_counts())\n",
    "del HAS_5A19054"
   ]
  },
  {
   "cell_type": "markdown",
   "id": "26f20a21",
   "metadata": {},
   "source": [
    "### ############################################################################################"
   ]
  },
  {
   "cell_type": "markdown",
   "id": "8c60dc87",
   "metadata": {},
   "source": [
    "# 5A09357 - Assistance with Respiratory Ventilation, Less than 24 Consecutive Hours, Continuous Positive Airway Pressure; Processing"
   ]
  },
  {
   "cell_type": "code",
   "execution_count": null,
   "id": "6eef9b96",
   "metadata": {
    "execution": {
     "iopub.execute_input": "2024-03-30T05:13:01.267369Z",
     "iopub.status.busy": "2024-03-30T05:13:01.266367Z",
     "iopub.status.idle": "2024-03-30T05:20:16.091177Z",
     "shell.execute_reply": "2024-03-30T05:20:16.091177Z"
    }
   },
   "outputs": [],
   "source": [
    "sub_blocks = []\n",
    "for i in range(1, num_spreadsheets+1):\n",
    "    print(f'{i:04}')\n",
    "    procedure = pd.read_csv(working_dir + \"procedure_NEW_\"+f'{i:04}'+\".csv\", \n",
    "        dtype={\"patient_id\":str, \n",
    "               \"encounter_id\":str, \n",
    "               \"code\":'category', \n",
    "               \"date\":'category'}) \n",
    "    procedure = procedure[procedure[\"code\"].str.match(\"^5A09357$\")]\n",
    "    sub_blocks.append(procedure)\n",
    "    del procedure\n",
    "\n",
    "HAS_5A09357 = pd.concat(sub_blocks, ignore_index = True)\n",
    "HAS_5A09357.to_csv(working_dir +\"HAS_5A09357.csv\", index = False)\n",
    "print(HAS_5A09357.shape)\n",
    "print(\"\\n\")\n",
    "print(HAS_5A09357[\"code\"].value_counts())\n",
    "del HAS_5A09357"
   ]
  },
  {
   "cell_type": "markdown",
   "id": "a903c6ff",
   "metadata": {},
   "source": [
    "### ############################################################################################"
   ]
  },
  {
   "cell_type": "markdown",
   "id": "72d54d5e",
   "metadata": {},
   "source": [
    "# 5A09457 - Assistance with Respiratory Ventilation, 24-96 Consecutive Hours, Continuous Positive Airway Pressure; Processing"
   ]
  },
  {
   "cell_type": "code",
   "execution_count": null,
   "id": "06e676c3",
   "metadata": {
    "execution": {
     "iopub.execute_input": "2024-03-30T05:20:16.093180Z",
     "iopub.status.busy": "2024-03-30T05:20:16.093180Z",
     "iopub.status.idle": "2024-03-30T05:28:04.481188Z",
     "shell.execute_reply": "2024-03-30T05:28:04.481188Z"
    }
   },
   "outputs": [],
   "source": [
    "sub_blocks = []\n",
    "for i in range(1, num_spreadsheets+1):\n",
    "    print(f'{i:04}')\n",
    "    procedure = pd.read_csv(working_dir + \"procedure_NEW_\"+f'{i:04}'+\".csv\", \n",
    "        dtype={\"patient_id\":str, \n",
    "               \"encounter_id\":str, \n",
    "               \"code\":'category', \n",
    "               \"date\":'category'}) \n",
    "    procedure = procedure[procedure[\"code\"].str.match(\"^5A09457$\")]\n",
    "    sub_blocks.append(procedure)\n",
    "    del procedure\n",
    "\n",
    "HAS_5A09457 = pd.concat(sub_blocks, ignore_index = True)\n",
    "HAS_5A09457.to_csv(working_dir +\"HAS_5A09457.csv\", index = False)\n",
    "print(HAS_5A09457.shape)\n",
    "print(\"\\n\")\n",
    "print(HAS_5A09457[\"code\"].value_counts())\n",
    "del HAS_5A09457"
   ]
  },
  {
   "cell_type": "markdown",
   "id": "915324ed",
   "metadata": {},
   "source": [
    "### ############################################################################################"
   ]
  },
  {
   "cell_type": "markdown",
   "id": "55a217ee",
   "metadata": {},
   "source": [
    "# 5A09557 - Assistance with Respiratory Ventilation, Greater than 96 Consecutive Hours, Continuous Positive Airway Pressure; Processing"
   ]
  },
  {
   "cell_type": "code",
   "execution_count": null,
   "id": "50875e07",
   "metadata": {
    "execution": {
     "iopub.execute_input": "2024-03-30T05:28:04.483193Z",
     "iopub.status.busy": "2024-03-30T05:28:04.483193Z",
     "iopub.status.idle": "2024-03-30T05:35:19.464161Z",
     "shell.execute_reply": "2024-03-30T05:35:19.464161Z"
    }
   },
   "outputs": [],
   "source": [
    "sub_blocks = []\n",
    "for i in range(1, num_spreadsheets+1):\n",
    "    print(f'{i:04}')\n",
    "    procedure = pd.read_csv(working_dir + \"procedure_NEW_\"+f'{i:04}'+\".csv\", \n",
    "        dtype={\"patient_id\":str, \n",
    "               \"encounter_id\":str, \n",
    "               \"code\":'category', \n",
    "               \"date\":'category'}) \n",
    "    procedure = procedure[procedure[\"code\"].str.match(\"^5A09557$\")]\n",
    "    sub_blocks.append(procedure)\n",
    "    del procedure\n",
    "\n",
    "HAS_5A09557 = pd.concat(sub_blocks, ignore_index = True)\n",
    "HAS_5A09557.to_csv(working_dir +\"HAS_5A09557.csv\", index = False)\n",
    "print(HAS_5A09557.shape)\n",
    "print(\"\\n\")\n",
    "print(HAS_5A09557[\"code\"].value_counts())\n",
    "del HAS_5A09557"
   ]
  },
  {
   "cell_type": "markdown",
   "id": "aa12a35a",
   "metadata": {},
   "source": [
    "### ############################################################################################"
   ]
  },
  {
   "cell_type": "markdown",
   "id": "93b42c6d",
   "metadata": {},
   "source": [
    "### ############################################################################################"
   ]
  },
  {
   "cell_type": "markdown",
   "id": "00ce678c",
   "metadata": {},
   "source": [
    "# Blood gases, venous measurement - VBG measurement; Processing\n",
    "### SNOMED: 61911006 VBG Measurement"
   ]
  },
  {
   "cell_type": "code",
   "execution_count": null,
   "id": "7cc011bb",
   "metadata": {
    "execution": {
     "iopub.execute_input": "2024-03-30T05:35:19.467167Z",
     "iopub.status.busy": "2024-03-30T05:35:19.466169Z",
     "iopub.status.idle": "2024-03-30T05:42:40.272248Z",
     "shell.execute_reply": "2024-03-30T05:42:40.270827Z"
    }
   },
   "outputs": [],
   "source": [
    "# SNOMED: 61911006 VBG Measurement\n",
    "\n",
    "sub_blocks = []\n",
    "for i in range(1, num_spreadsheets+1):\n",
    "    print(f'{i:04}')\n",
    "    procedure = pd.read_csv(working_dir + \"procedure_NEW_\"+f'{i:04}'+\".csv\", \n",
    "        dtype={\"patient_id\":str, \n",
    "               \"encounter_id\":str, \n",
    "               \"code\":'category', \n",
    "               \"date\":'category'}) \n",
    "    procedure = procedure[procedure[\"code\"].str.match(\"^61911006$\")]\n",
    "    sub_blocks.append(procedure)\n",
    "    del procedure\n",
    "\n",
    "HAS_61911006 = pd.concat(sub_blocks, ignore_index = True)\n",
    "HAS_61911006.to_csv(working_dir +\"HAS_61911006.csv\", index = False)\n",
    "print(HAS_61911006.shape)\n",
    "print(\"\\n\")\n",
    "print(HAS_61911006[\"code\"].value_counts())\n",
    "del HAS_61911006"
   ]
  },
  {
   "cell_type": "markdown",
   "id": "3629d80c",
   "metadata": {},
   "source": [
    "### ############################################################################################"
   ]
  },
  {
   "cell_type": "markdown",
   "id": "d778e8ed",
   "metadata": {},
   "source": [
    "# Blood gases, arterial measurement - ABG measurement; Processing\n",
    "### SNOMED: 91308007 ABG measurement"
   ]
  },
  {
   "cell_type": "code",
   "execution_count": null,
   "id": "2a9df878",
   "metadata": {
    "execution": {
     "iopub.execute_input": "2024-03-30T05:42:40.274253Z",
     "iopub.status.busy": "2024-03-30T05:42:40.274253Z",
     "iopub.status.idle": "2024-03-30T05:50:02.395315Z",
     "shell.execute_reply": "2024-03-30T05:50:02.394308Z"
    }
   },
   "outputs": [],
   "source": [
    "# SNOMED: 91308007 ABG measurement\n",
    "sub_blocks = []\n",
    "for i in range(1, num_spreadsheets+1):\n",
    "    print(f'{i:04}')\n",
    "    procedure = pd.read_csv(working_dir + \"procedure_NEW_\"+f'{i:04}'+\".csv\", \n",
    "        dtype={\"patient_id\":str, \n",
    "               \"encounter_id\":str, \n",
    "               \"code\":'category', \n",
    "               \"date\":'category'}) \n",
    "    procedure = procedure[procedure[\"code\"].str.match(\"^91308007$\")]\n",
    "    sub_blocks.append(procedure)\n",
    "    del procedure\n",
    "\n",
    "HAS_91308007 = pd.concat(sub_blocks, ignore_index = True)\n",
    "HAS_91308007.to_csv(working_dir +\"HAS_91308007.csv\", index = False)\n",
    "print(HAS_91308007.shape)\n",
    "print(\"\\n\")\n",
    "print(HAS_91308007[\"code\"].value_counts())\n",
    "del HAS_91308007"
   ]
  },
  {
   "cell_type": "markdown",
   "id": "2a651260",
   "metadata": {},
   "source": [
    "### ############################################################################################"
   ]
  },
  {
   "cell_type": "markdown",
   "id": "d47aaf7f",
   "metadata": {},
   "source": [
    "# Culture, Bacterial; Processing\n",
    "### CPT: 87040"
   ]
  },
  {
   "cell_type": "code",
   "execution_count": null,
   "id": "bbba01fd",
   "metadata": {
    "execution": {
     "iopub.execute_input": "2024-03-30T05:50:02.397314Z",
     "iopub.status.busy": "2024-03-30T05:50:02.397314Z",
     "iopub.status.idle": "2024-03-30T05:57:26.464475Z",
     "shell.execute_reply": "2024-03-30T05:57:26.464475Z"
    }
   },
   "outputs": [],
   "source": [
    "# CPT: 87040\n",
    "\n",
    "sub_blocks = []\n",
    "for i in range(1, num_spreadsheets+1):\n",
    "    print(f'{i:04}')\n",
    "    procedure = pd.read_csv(working_dir + \"procedure_NEW_\"+f'{i:04}'+\".csv\", \n",
    "        dtype={\"patient_id\":str, \n",
    "               \"encounter_id\":str, \n",
    "               \"code\":'category', \n",
    "               \"date\":'category'}) \n",
    "    procedure = procedure[procedure[\"code\"].str.match(\"^87040$\")]\n",
    "    sub_blocks.append(procedure)\n",
    "    del procedure\n",
    "\n",
    "HAS_87040 = pd.concat(sub_blocks, ignore_index = True)\n",
    "HAS_87040.to_csv(working_dir +\"HAS_87040.csv\", index = False)\n",
    "print(HAS_87040.shape)\n",
    "print(\"\\n\")\n",
    "print(HAS_87040[\"code\"].value_counts())\n",
    "del HAS_87040"
   ]
  },
  {
   "cell_type": "markdown",
   "id": "86473f31",
   "metadata": {},
   "source": [
    "### ############################################################################################"
   ]
  },
  {
   "cell_type": "markdown",
   "id": "a9e68368",
   "metadata": {},
   "source": [
    "# Arterial Blood Puncture - Arterial Procedures; Processing\n",
    "### CPT: 36600 "
   ]
  },
  {
   "cell_type": "code",
   "execution_count": null,
   "id": "ece09134",
   "metadata": {
    "execution": {
     "iopub.execute_input": "2024-03-30T05:57:26.466484Z",
     "iopub.status.busy": "2024-03-30T05:57:26.466484Z",
     "iopub.status.idle": "2024-03-30T06:04:47.453741Z",
     "shell.execute_reply": "2024-03-30T06:04:47.453741Z"
    }
   },
   "outputs": [],
   "source": [
    "# CPT: 36600\n",
    "\n",
    "sub_blocks = []\n",
    "for i in range(1, num_spreadsheets+1):\n",
    "    print(f'{i:04}')\n",
    "    procedure = pd.read_csv(working_dir + \"procedure_NEW_\"+f'{i:04}'+\".csv\", \n",
    "        dtype={\"patient_id\":str, \n",
    "               \"encounter_id\":str, \n",
    "               \"code\":'category', \n",
    "               \"date\":'category'}) \n",
    "    procedure = procedure[procedure[\"code\"].str.match(\"^36600$\")]\n",
    "    sub_blocks.append(procedure)\n",
    "    del procedure\n",
    "\n",
    "HAS_36600 = pd.concat(sub_blocks, ignore_index = True)\n",
    "HAS_36600.to_csv(working_dir +\"HAS_36600.csv\", index = False)\n",
    "print(HAS_36600.shape)\n",
    "print(\"\\n\")\n",
    "print(HAS_36600[\"code\"].value_counts())\n",
    "del HAS_36600"
   ]
  },
  {
   "cell_type": "markdown",
   "id": "0572ff39",
   "metadata": {},
   "source": [
    "### ############################################################################################"
   ]
  },
  {
   "cell_type": "markdown",
   "id": "5d9423f4",
   "metadata": {},
   "source": [
    "# CT Abdomen (with or without contrast)\n",
    "### CPT: 74150 \n",
    "### CPT: 74176 \n",
    "### CPT: 74160    \n",
    "### CPT: 74170\n",
    "### LOINC: 36813-4  \n",
    "### LOINC: 36267-3\n",
    "### SNOMED: 169070004\n",
    "### SNOMED: 419394006\n",
    "### ICD-10-PCS: BW20ZZZ"
   ]
  },
  {
   "cell_type": "code",
   "execution_count": null,
   "id": "8b449aca",
   "metadata": {
    "execution": {
     "iopub.execute_input": "2024-03-30T06:04:47.455750Z",
     "iopub.status.busy": "2024-03-30T06:04:47.455750Z",
     "iopub.status.idle": "2024-03-30T06:12:20.303138Z",
     "shell.execute_reply": "2024-03-30T06:12:20.303138Z"
    }
   },
   "outputs": [],
   "source": [
    "# CPT: 74150 \n",
    "# CPT: 74176 \n",
    "# CPT: 74160    \n",
    "# CPT: 74170\n",
    "# LOINC: 36813-4  \n",
    "# LOINC: 36267-3\n",
    "# SNOMED: 169070004\n",
    "# SNOMED: 419394006\n",
    "# ICD-10-PCS: BW20ZZZ\n",
    "\n",
    "sub_blocks = []\n",
    "for i in range(1, num_spreadsheets+1):\n",
    "    print(f'{i:04}')\n",
    "    procedure = pd.read_csv(working_dir + \"procedure_NEW_\"+f'{i:04}'+\".csv\", \n",
    "        dtype={\"patient_id\":str, \n",
    "               \"encounter_id\":str, \n",
    "               \"code\":'category', \n",
    "               \"date\":'category'}) \n",
    "    procedure = procedure[procedure[\"code\"].str.match(\"^74150$|^74176$|^74160$|^74170$|^36813-4$|^36267-3$|^169070004$|^419394006$|^BW20ZZZ$\")]\n",
    "    sub_blocks.append(procedure)\n",
    "    del procedure\n",
    "\n",
    "HAS_CT_ABDM  = pd.concat(sub_blocks, ignore_index = True)\n",
    "HAS_CT_ABDM .to_csv(working_dir +\"HAS_CT_ABDM.csv\", index = False)\n",
    "print(HAS_CT_ABDM .shape)\n",
    "print(\"\\n\")\n",
    "print(HAS_CT_ABDM [\"code\"].value_counts())\n",
    "del HAS_CT_ABDM "
   ]
  },
  {
   "cell_type": "markdown",
   "id": "87bc8477",
   "metadata": {},
   "source": [
    "# Clean Up"
   ]
  },
  {
   "cell_type": "code",
   "execution_count": null,
   "id": "77dea9ca",
   "metadata": {
    "execution": {
     "iopub.execute_input": "2024-03-30T06:12:20.306144Z",
     "iopub.status.busy": "2024-03-30T06:12:20.306144Z",
     "iopub.status.idle": "2024-03-30T06:12:20.359196Z",
     "shell.execute_reply": "2024-03-30T06:12:20.359196Z"
    }
   },
   "outputs": [],
   "source": [
    "# Construct the pattern to match the files\n",
    "# This pattern matches \"procedure_NEW_NEW_\" followed by exactly 4 digits and \".csv\"\n",
    "pattern = os.path.join(working_dir, \"procedure_NEW_????\"+\".csv\")\n",
    "\n",
    "# Use glob.glob to find all files that match the pattern\n",
    "matching_files = glob.glob(pattern)\n",
    "\n",
    "# Iterate over the list of matching files and delete each one\n",
    "for file_path in matching_files:\n",
    "    try:\n",
    "        #os.remove(file_path)\n",
    "        print(f\"Deleted file: {file_path}\")\n",
    "    except Exception as e:\n",
    "        print(f\"Error deleting file {file_path}: {e}\")"
   ]
  }
 ],
 "metadata": {
  "kernelspec": {
   "display_name": "Python 3 (ipykernel)",
   "language": "python",
   "name": "python3"
  },
  "language_info": {
   "codemirror_mode": {
    "name": "ipython",
    "version": 3
   },
   "file_extension": ".py",
   "mimetype": "text/x-python",
   "name": "python",
   "nbconvert_exporter": "python",
   "pygments_lexer": "ipython3",
   "version": "3.11.7"
  }
 },
 "nbformat": 4,
 "nbformat_minor": 5
}
