{
 "cells": [
  {
   "cell_type": "markdown",
   "metadata": {},
   "source": [
    "# Code to Run Entire Preprocessing Pipelin"
   ]
  },
  {
   "cell_type": "markdown",
   "metadata": {},
   "source": [
    "### Windows vs Mac working directories. "
   ]
  },
  {
   "cell_type": "code",
   "execution_count": 1,
   "metadata": {},
   "outputs": [],
   "source": [
    "#Mac\n",
    "notebook_dir = r\"/Users/blocke/TriNetX Working/Notebooks\"\n",
    "\n",
    "# Windows\n",
    "#notebook_dir = r\"C:\\Users\\reblo\\TriNetX Preprocessing\\Notebooks\""
   ]
  },
  {
   "cell_type": "code",
   "execution_count": 3,
   "metadata": {},
   "outputs": [],
   "source": [
    "import os\n",
    "import numpy as np\n",
    "import matplotlib.pyplot as plt\n",
    "import pandas as pd\n",
    "from datetime import datetime\n",
    "import glob\n",
    "import nbformat\n",
    "from nbconvert.preprocessors import ExecutePreprocessor\n",
    "from nbconvert import NotebookExporter\n",
    "from pathlib import Path\n",
    "\n",
    "# Function to execute a notebook and save the output\n",
    "def execute_notebook(notebook_path):\n",
    "    # Load the notebook\n",
    "    with open(notebook_path) as f:\n",
    "        nb = nbformat.read(f, as_version=4)\n",
    "        \n",
    "    # Create an ExecutePreprocessor instance\n",
    "    ep = ExecutePreprocessor(timeout=-1, kernel_name='python3')\n",
    "    \n",
    "    # Execute the notebook\n",
    "    try:\n",
    "        ep.preprocess(nb, {'metadata': {'path': './'}})\n",
    "        print(f\"Successfully executed {notebook_path}\")\n",
    "    except Exception as e:\n",
    "        print(f\"Error executing {notebook_path}: {e}\")\n",
    "        return\n",
    "    \n",
    "    # Save the notebook with the executed cells\n",
    "    with open(notebook_path, 'wt') as f:\n",
    "        nbformat.write(nb, f)\n",
    "\n",
    "\n",
    "\n",
    "def execute_notebook_with_variables(notebook_path, output_path, variables_dict):\n",
    "    # Load the notebook\n",
    "    with open(notebook_path) as f:\n",
    "        nb = nbformat.read(f, as_version=4)\n",
    "    \n",
    "    # Create a new code cell to define the variables\n",
    "    code = '\\n'.join(f\"{key} = {repr(value)}\" for key, value in variables_dict.items())\n",
    "    new_cell = nbformat.v4.new_code_cell(source=code)\n",
    "    \n",
    "    # Insert the new cell at the beginning of the notebook\n",
    "    nb['cells'].insert(0, new_cell)\n",
    "    \n",
    "    # Create an ExecutePreprocessor instance\n",
    "    ep = ExecutePreprocessor(timeout=-1, kernel_name='python3') \n",
    "    # Execute the notebook\n",
    "    try:\n",
    "        ep.preprocess(nb, {'metadata': {'path': './'}})\n",
    "        print(f\"Successfully executed {notebook_path}\")\n",
    "    except Exception as e:\n",
    "        print(f\"Error executing {notebook_path}: {e}\")\n",
    "        return\n",
    "\n",
    "\n",
    "    # Save the executed notebook\n",
    "    with open(output_path, 'wt') as f:\n",
    "        nbformat.write(nb, f)\n",
    "    \n",
    "    print(f\"Notebook executed and saved to {output_path}\")\n"
   ]
  },
  {
   "cell_type": "code",
   "execution_count": 10,
   "metadata": {},
   "outputs": [
    {
     "name": "stdout",
     "output_type": "stream",
     "text": [
      "C:\\Users\\reblo\\TriNetX Preprocessing\\Notebooks/Hypercapnia NEW DATA - Encounter (CSV Processing).ipynb\n"
     ]
    }
   ],
   "source": [
    "#Test\n",
    "print(os.path.join(notebook_dir, r\"Hypercapnia NEW DATA - Encounter (CSV Processing).ipynb\"))"
   ]
  },
  {
   "cell_type": "markdown",
   "metadata": {},
   "source": [
    "Encounters"
   ]
  },
  {
   "cell_type": "code",
   "execution_count": null,
   "metadata": {},
   "outputs": [],
   "source": [
    "execute_notebook(os.path.join(notebook_dir, r\"Hypercapnia NEW DATA - Encounter (CSV Processing).ipynb\"))"
   ]
  },
  {
   "cell_type": "markdown",
   "metadata": {},
   "source": [
    "Prior Diagnosis"
   ]
  },
  {
   "cell_type": "code",
   "execution_count": null,
   "metadata": {},
   "outputs": [],
   "source": [
    "# Prior diagnosis\n",
    "execute_notebook(os.path.join(notebook_dir, r\"Hypercapnia NEW DATA - Prior Diagnosis (CSV Processing).ipynb\"))"
   ]
  },
  {
   "cell_type": "markdown",
   "metadata": {},
   "source": [
    "Current Diagnosis"
   ]
  },
  {
   "cell_type": "code",
   "execution_count": null,
   "metadata": {},
   "outputs": [],
   "source": [
    "# Current Diagnosis\n",
    "execute_notebook(os.path.join(notebook_dir, r\"Hypercapnia NEW DATA - Current Diagnosis (CSV Processing).ipynb\"))"
   ]
  },
  {
   "cell_type": "markdown",
   "metadata": {},
   "source": [
    "Medication"
   ]
  },
  {
   "cell_type": "code",
   "execution_count": null,
   "metadata": {},
   "outputs": [],
   "source": [
    "# Medications\n",
    "execute_notebook(os.path.join(notebook_dir, r\"Hypercapnia NEW DATA - Medication (CSV Processing).ipynb\"))"
   ]
  },
  {
   "cell_type": "markdown",
   "metadata": {},
   "source": [
    "Vital Signs"
   ]
  },
  {
   "cell_type": "code",
   "execution_count": null,
   "metadata": {},
   "outputs": [],
   "source": [
    "#Vital Signs\n",
    "execute_notebook(os.path.join(notebook_dir, r\"Hypercapnia NEW DATA - Vital Signs (CSV Processing).ipynb\"))"
   ]
  },
  {
   "cell_type": "markdown",
   "metadata": {},
   "source": [
    "Procedures"
   ]
  },
  {
   "cell_type": "code",
   "execution_count": null,
   "metadata": {},
   "outputs": [],
   "source": [
    "#Procedures \n",
    "execute_notebook(os.path.join(notebook_dir, r\"Hypercapnia NEW DATA - Procedure (CSV Processing).ipynb\"))"
   ]
  },
  {
   "cell_type": "markdown",
   "metadata": {},
   "source": [
    "Lab Results"
   ]
  },
  {
   "cell_type": "code",
   "execution_count": null,
   "metadata": {},
   "outputs": [],
   "source": [
    "execute_notebook(os.path.join(notebook_dir, r\"Hypercapnia NEW DATA - Lab Results (CSV Processing).ipynb\"))"
   ]
  },
  {
   "cell_type": "markdown",
   "metadata": {},
   "source": [
    "RFS Processing"
   ]
  },
  {
   "cell_type": "code",
   "execution_count": null,
   "metadata": {},
   "outputs": [],
   "source": [
    "execute_notebook(os.path.join(notebook_dir, r\"Hypercapnia NEW DATA - RFS Processing.ipynb\"))\n"
   ]
  },
  {
   "cell_type": "markdown",
   "metadata": {},
   "source": [
    "RFS ABG, EMER"
   ]
  },
  {
   "cell_type": "code",
   "execution_count": null,
   "metadata": {},
   "outputs": [],
   "source": [
    "execute_notebook(os.path.join(notebook_dir, r\"Hypercapnia Final Dataset Generation - RFS_ABG_ENC_EMER - Legacy.ipynb\"))"
   ]
  },
  {
   "cell_type": "markdown",
   "metadata": {},
   "source": [
    "RFS ABG, INP"
   ]
  },
  {
   "cell_type": "code",
   "execution_count": null,
   "metadata": {},
   "outputs": [],
   "source": [
    "execute_notebook(os.path.join(notebook_dir, r\"Hypercapnia Final Dataset Generation - RFS_ABG_ENC_INPAT - Legacy.ipynb\"))"
   ]
  },
  {
   "cell_type": "markdown",
   "metadata": {},
   "source": [
    "RFS ABG, AMB"
   ]
  },
  {
   "cell_type": "code",
   "execution_count": null,
   "metadata": {},
   "outputs": [],
   "source": [
    "execute_notebook(os.path.join(notebook_dir, r\"Hypercapnia Final Dataset Generation - RFS_ABG_ENC_AMB - Legacy.ipynb\"))"
   ]
  },
  {
   "cell_type": "markdown",
   "metadata": {},
   "source": [
    "RFS OBESITY, AMB"
   ]
  },
  {
   "cell_type": "code",
   "execution_count": 4,
   "metadata": {},
   "outputs": [
    {
     "name": "stdout",
     "output_type": "stream",
     "text": [
      "Error executing /Users/blocke/TriNetX Working/Notebooks/Hypercapnia Final Dataset Generation - Master.ipynb: An error occurred while executing the following cell:\n",
      "------------------\n",
      "\n",
      "# Operationalization: Check to see if a patient has had, during the encounter of interest, at least one of ANY \n",
      "# diagnosis (current) or lab results (current) recorded (even if it’s not a feature that we queried for), \n",
      "# else drop the encounter.\n",
      "start_time = time.time()\n",
      "# The following process is repeated for all variables - Will only annotate the first variable\n",
      "\n",
      "##############################\n",
      "\n",
      "# Create empty list to hold all qualifying Lab Results patient_ids\n",
      "lab_results_patients = []\n",
      "\n",
      "# These conversions are for more efficient merging\n",
      "#master_encounter_df = pd.DataFrame(master_encounter_list, columns=['encounter_id'])\n",
      "#master_patient_df = pd.DataFrame(master_patient_list, columns=['patient_id'])\n",
      "\n",
      "#num_lab_spreadsheets = 50\n",
      "num_lab_spreadsheets = 2334\n",
      "lab_cols = [\"patient_id\", \"encounter_id\", \"code\"]\n",
      "lab_d_type_spec = {\"patient_id\":str, \"encounter_id\":str, \"code\":'category', \"date\":str, \"lab_result_num_val\":np.float32}\n",
      "lab_columns = [\"patient_id\",\"encounter_id\", \"code\",\"date\",\"lab_result_num_val\"]\n",
      "for i in range(1, num_lab_spreadsheets+1):\n",
      "    ##### lab_results1 #####\n",
      "    # Call in the lab_results1 Dataframe\n",
      "    print(f'{i:04}')\n",
      "    lab_results = pd.read_csv(working_dir + r\"lab_results_NEW_\"+f'{i:04}'+\".csv\", \n",
      "                              names = lab_columns,\n",
      "                              usecols = lab_cols, \n",
      "                              dtype = lab_d_type_spec)\n",
      "    # Check to see if the patient is in the master_patient_list\n",
      "    lab_results = lab_results[lab_results[\"patient_id\"].isin(master_patient_list)]\n",
      "    # Check to see if the encounter took place during the encounter of interest (master_encounter_list)\n",
      "    lab_results = lab_results[lab_results[\"encounter_id\"].isin(master_encounter_list)]\n",
      "    #lab_results = pd.merge(lab_results, master_patient_df, on=\"patient_id\", how=\"inner\") \n",
      "    #lab_results = pd.merge(lab_results, master_encounter_df, on=\"encounter_id\", how=\"inner\") \n",
      "\n",
      "\n",
      "    # Check to see if the patient has had at least one of ANY diagnosis (current) or lab results (current) recorded\n",
      "    # during the encounter of interest, even if it’s not a feature that we queried for. Since we already know they have \n",
      "    # had one of these diagnosis (current) or lab results (current) during the encounter of interest, look for any\n",
      "    # codes BUT these.\n",
      "\n",
      "    exact_codes = [\"2019-8\", \"2744-1\", \"2746-6\", \"1960-4\", \"14627-4\", \"2951-2\", \"2160-0\", \"718-7\", \"11557-6\", \"32771-8\", \"20565-8\", \n",
      "                   \"1963-8\", \"1959-6\", \"1962-0\", \"2028-9\", \"77138-6\", \"2075-0\", \"2693-4\", \"2021-4\", \"40619-9\", \"2524-7\", \"34705-4\", \n",
      "                   \"11557-6\", \"6298-4\", \"2823-3\", \"77142-8\", \"19258-3\", \"39486-6\", \"2705-2\", \"2519-7\", \"30241-4\", \"48391-7\", \"2703-7\", \n",
      "                   \"19255-9\", \"33254-4\", \"2518-9\", \"11558-4\", \"11556-8\", \"26464-8\", \"26515-7\", \"42637-9\", \"30934-4\", \"2774-8\", \"2777-1\",\n",
      "                    \"49765-1\", \"17861-6\", \"2862-1\", \"1751-7\", \"61152-5\", \"61151-7\", \"2885-2\", \"26515-7\", \"778-1\", \"777-3\", \"49497-1\", \n",
      "                    \"26464-8\", \"49498-9\", \"6690-2\", \"804-5$\"]\n",
      "    lab_results2 = lab_results[~lab_results[\"code\"].isin(exact_codes)]\n",
      "    print(lab_results2.shape)\n",
      "    del lab_results2\n",
      "    lab_results = lab_results[~lab_results[\"code\"].str.match(\"^2019-8$|^2744-1$|^2746-6$|^1960-4$|^14627-4$|^2951-2$|^2160-0$|^718-7$|^11557-6$|^32771-8$|^20565-8$|^1963-8$|^1959-6$|^1962-0$|^2028-9$|^77138-6$|^2075-0$|^32693-4$|^2021-4$|^40619-9$|^2524-7$|^34705-4$|^11557-6$|^6298-4$|^2823-3$|^77142-8$|^19258-3$|^39486-6$|^2705-2$|^2519-7$|^30241-4$|^48391-7$|^2703-7$|^19255-9$|^33254-4$|^2518-9$|^11558-4$|^11556-8$|^26464-8$|^26515-7$|^42637-9$|^30934-4$|^2774-8$|^2777-1$|^49765-1$|^17861-6|^2862-1$|^1751-7$|^61152-5$|^61151-7$|^2885-2$|^26515-7$|^778-1$|^777-3$|^49497-1$|^26464-8$|^49498-9$|^6690-2$|^804-5$\")]\n",
      "    print(lab_results.shape)\n",
      "    \n",
      "    # Drop all duplicate patients\n",
      "    lab_results = lab_results.drop_duplicates(subset = [\"patient_id\"], keep = \"first\")\n",
      "    # Add these patients to a list\n",
      "    lab_results_patients.extend(lab_results[\"patient_id\"].tolist())\n",
      "    # Delete unused variable\n",
      "    del lab_results\n",
      "\n",
      "\n",
      "###############################################################################################################\n",
      "\n",
      "diagnosis_patients = []\n",
      "#num_diag_spreadsheets = 50\n",
      "num_diag_spreadsheets = 1273\n",
      "diag_cols = [\"patient_id\", \"encounter_id\", \"code\"]\n",
      "diag_d_type_spec = {\"patient_id\":str, \"encounter_id\":str, \"code\":'category'}\n",
      "diag_columns = [\"patient_id\",\"encounter_id\",\"code\",\"principal_diagnosis_indicator\",\"admitting_diagnosis\",\"reason_for_visit\",\"date\"]\n",
      "\n",
      "for i in range(1, num_diag_spreadsheets+1):\n",
      "    print(f'{i:04}')\n",
      "    diagnosis = pd.read_csv(working_dir + r\"diagnosis_NEW_\"+f'{i:04}'+\".csv\", \n",
      "                              names = diag_columns,\n",
      "                              usecols = diag_cols, \n",
      "                              dtype = diag_d_type_spec)\n",
      "    diagnosis = diagnosis[diagnosis[\"patient_id\"].isin(master_patient_list)]\n",
      "    diagnosis = diagnosis[diagnosis[\"encounter_id\"].isin(master_encounter_list)]\n",
      "    #diagnosis = pd.merge(diagnosis, master_patient_df, on=\"patient_id\", how=\"inner\") \n",
      "    #diagnosis = pd.merge(diagnosis, master_encounter_df, on=\"encounter_id\", how=\"inner\") \n",
      "\n",
      "\n",
      "    exact_codes = [\n",
      "        \"J96.12\", \"J96.22\", \"J96.02\", \"J96.92\", \"E66.2\", \"J96.00\", \"J96.01\",\n",
      "        \"J96.1\", \"J96.10\", \"J96.11\", \"J96.2\", \"J96.20\", \"J96.21\", \"J96.90\",\n",
      "        \"J96.91\", \"R06\", \"R06.0\", \"R06.00\", \"R06.01\", \"R06.02\", \"R06.03\",\n",
      "        \"R06.09\", \"R06.1\", \"R06.2\", \"R06.3\", \"R06.4\", \"R06.5\", \"R06.6\",\n",
      "        \"R06.7\", \"R06.8\", \"R06.81\", \"R06.82\", \"R06.83\", \"R06.89\", \"R06.9\",\n",
      "        \"I50.33\", \"I50.31\", \"I50.23\", \"I50.21\", \"I50.43\", \"I50.41\", \"J44.0\",\n",
      "        \"J44.1\", \"J45.91\", \"J45.92\", \"J45.21\", \"J45.22\", \"J45.31\", \"J45.32\",\n",
      "        \"J45.41\", \"J45.51\", \"J45.52\", \"Z79.891\", \"E935.2\", \"F11.10\", \"F19.982\",\n",
      "        \"E87.29\", \"G47.34\", \"G47.35\", \"G47.36\", \"E87.20\"\n",
      "    ]\n",
      "    prefixes = [\"J81\", \"J9\", \"J10\", \"J11\", \"J12\", \"J13\", \"J14\", \"J15\", \"J16\", \"J17\", \"J18\", \"E84\", \"T40\", \"G61\", \"A41\", \"R40\", \"R41\", \"R53\", \"R51\", \"G44\"]\n",
      "    filter_exact = ~diagnosis['code'].isin(exact_codes)\n",
      "    filter_prefix = ~diagnosis['code'].apply(lambda x: any(x.startswith(prefix) for prefix in prefixes))\n",
      "    diagnosis_filtered = diagnosis[filter_exact & filter_prefix]\n",
      "    print(\"new: \", diagnosis_filtered.shape)\n",
      "    del diagnosis_filtered\n",
      "\n",
      "    diagnosis = diagnosis[~diagnosis[\"code\"].str.match(\"^J96.12$|^J96.22$|^J96.02$|^J96.92$|^E66.2$|^J96.00$|^J96.01$|^J96.1$|^J96.10$|^J96.11$|^J96.2$|^J96.20$|^J96.21$|^J96.90$|^J96.91$|^R06$|^R06.0$|^R06.00$|^R06.01$|^R06.02$|^R06.03$|^R06.09$|^R06.1$|^R06.2$|^R06.3$|^R06.4$|^R06.5$|^R06.6$|^R06.7$|^R06.8$|^R06.81$|^R06.82$|^R06.83$|^R06.89$|^R06.9$|J81.*|J9.*|J10.*|J11.*|J12.*|J13.*|J14.*|J15.*|J16.*|J17.*|J18.*|E84.*|^I50.33$|^I50.31$|^I50.23$|^I50.21$|^I50.43$|^I50.41$|^J44.0$|^J44.1$|J21.*|^J45.91$|^J45.92$|^J45.21$|^J45.22$|^J45.31$|^J45.32$|^J45.41$|^J45.32$|^J45.51$|^J45.52$|^Z79.891$|^E935.2$|^F11.10$|T40.*|^F19.982$|G61.*|A41.*|R40.*|R41.*|R53.*|^E87.29$|^G47.34$|^G47.35$|^G47.36$|^R06.89$|^E87.20$|^R51.*|^G44.*\")]\n",
      "    #diagnosis = diagnosis[~diagnosis[\"code\"].str.match(\"^([a-tA-T]|[v-zV-Z])\\d[a-zA-Z0-9](\\.[a-zA-Z0-9]{1,4})?$\")]\n",
      "    print(\"old: \", diagnosis.shape)\n",
      "    diagnosis = diagnosis.drop_duplicates(subset = [\"patient_id\"], keep = \"first\")\n",
      "    diagnosis_patients.extend(diagnosis[\"patient_id\"].tolist())\n",
      "    del diagnosis\n",
      "\n",
      "data_quality_check_FINAL_patients = list(set(lab_results_patients) & set(diagnosis_patients))\n",
      "\n",
      "# Print the number of unique patients who passed the data quality check\n",
      "print(\"Number of Unique Patients in data_quality_check_FINAL_patients List:\", len(set(data_quality_check_FINAL_patients)))\n",
      "print(\"Prefilter: \")\n",
      "print(RFS_ABG_ENC_AMB.shape)\n",
      "# Filter out patients who did not pass the data quality check\n",
      "RFS_ABG_ENC_AMB = RFS_ABG_ENC_AMB[RFS_ABG_ENC_AMB[\"patient_id\"].isin(data_quality_check_FINAL_patients)]\n",
      "\n",
      "print(\"\\n\")\n",
      "display(RFS_ABG_ENC_AMB.head())\n",
      "print(RFS_ABG_ENC_AMB.shape)\n",
      "print(RFS_ABG_ENC_AMB.isna().sum().sum())\n",
      "\n",
      "del master_patient_list, master_encounter_list\n",
      "\n",
      "end_time = time.time()\n",
      "execution_time = end_time - start_time\n",
      "hours = int(execution_time // 3600)\n",
      "minutes = int((execution_time % 3600) // 60)\n",
      "seconds = execution_time % 60\n",
      "print(f\"Executed in {hours} hours, {minutes} minutes, and {seconds:.2f} seconds.\")\n",
      "gc.collect()\n",
      "------------------\n",
      "\n",
      "----- stdout -----\n",
      "0001\n",
      "------------------\n",
      "\n",
      "\u001b[0;31m---------------------------------------------------------------------------\u001b[0m\n",
      "\u001b[0;31mFileNotFoundError\u001b[0m                         Traceback (most recent call last)\n",
      "Cell \u001b[0;32mIn[18], line 25\u001b[0m\n",
      "\u001b[1;32m     21\u001b[0m \u001b[38;5;28;01mfor\u001b[39;00m i \u001b[38;5;129;01min\u001b[39;00m \u001b[38;5;28mrange\u001b[39m(\u001b[38;5;241m1\u001b[39m, num_lab_spreadsheets\u001b[38;5;241m+\u001b[39m\u001b[38;5;241m1\u001b[39m):\n",
      "\u001b[1;32m     22\u001b[0m     \u001b[38;5;66;03m##### lab_results1 #####\u001b[39;00m\n",
      "\u001b[1;32m     23\u001b[0m     \u001b[38;5;66;03m# Call in the lab_results1 Dataframe\u001b[39;00m\n",
      "\u001b[1;32m     24\u001b[0m     \u001b[38;5;28mprint\u001b[39m(\u001b[38;5;124mf\u001b[39m\u001b[38;5;124m'\u001b[39m\u001b[38;5;132;01m{\u001b[39;00mi\u001b[38;5;132;01m:\u001b[39;00m\u001b[38;5;124m04\u001b[39m\u001b[38;5;132;01m}\u001b[39;00m\u001b[38;5;124m'\u001b[39m)\n",
      "\u001b[0;32m---> 25\u001b[0m     lab_results \u001b[38;5;241m=\u001b[39m \u001b[43mpd\u001b[49m\u001b[38;5;241;43m.\u001b[39;49m\u001b[43mread_csv\u001b[49m\u001b[43m(\u001b[49m\u001b[43mworking_dir\u001b[49m\u001b[43m \u001b[49m\u001b[38;5;241;43m+\u001b[39;49m\u001b[43m \u001b[49m\u001b[38;5;124;43mr\u001b[39;49m\u001b[38;5;124;43m\"\u001b[39;49m\u001b[38;5;124;43mlab_results_NEW_\u001b[39;49m\u001b[38;5;124;43m\"\u001b[39;49m\u001b[38;5;241;43m+\u001b[39;49m\u001b[38;5;124;43mf\u001b[39;49m\u001b[38;5;124;43m'\u001b[39;49m\u001b[38;5;132;43;01m{\u001b[39;49;00m\u001b[43mi\u001b[49m\u001b[38;5;132;43;01m:\u001b[39;49;00m\u001b[38;5;124;43m04\u001b[39;49m\u001b[38;5;132;43;01m}\u001b[39;49;00m\u001b[38;5;124;43m'\u001b[39;49m\u001b[38;5;241;43m+\u001b[39;49m\u001b[38;5;124;43m\"\u001b[39;49m\u001b[38;5;124;43m.csv\u001b[39;49m\u001b[38;5;124;43m\"\u001b[39;49m\u001b[43m,\u001b[49m\u001b[43m \u001b[49m\n",
      "\u001b[1;32m     26\u001b[0m \u001b[43m                              \u001b[49m\u001b[43mnames\u001b[49m\u001b[43m \u001b[49m\u001b[38;5;241;43m=\u001b[39;49m\u001b[43m \u001b[49m\u001b[43mlab_columns\u001b[49m\u001b[43m,\u001b[49m\n",
      "\u001b[1;32m     27\u001b[0m \u001b[43m                              \u001b[49m\u001b[43musecols\u001b[49m\u001b[43m \u001b[49m\u001b[38;5;241;43m=\u001b[39;49m\u001b[43m \u001b[49m\u001b[43mlab_cols\u001b[49m\u001b[43m,\u001b[49m\u001b[43m \u001b[49m\n",
      "\u001b[1;32m     28\u001b[0m \u001b[43m                              \u001b[49m\u001b[43mdtype\u001b[49m\u001b[43m \u001b[49m\u001b[38;5;241;43m=\u001b[39;49m\u001b[43m \u001b[49m\u001b[43mlab_d_type_spec\u001b[49m\u001b[43m)\u001b[49m\n",
      "\u001b[1;32m     29\u001b[0m     \u001b[38;5;66;03m# Check to see if the patient is in the master_patient_list\u001b[39;00m\n",
      "\u001b[1;32m     30\u001b[0m     lab_results \u001b[38;5;241m=\u001b[39m lab_results[lab_results[\u001b[38;5;124m\"\u001b[39m\u001b[38;5;124mpatient_id\u001b[39m\u001b[38;5;124m\"\u001b[39m]\u001b[38;5;241m.\u001b[39misin(master_patient_list)]\n",
      "\n",
      "File \u001b[0;32m~/Box Sync/Residency Personal Files/Scholarly Work/Locke Research Projects/TriNetX Code/.conda/lib/python3.10/site-packages/pandas/io/parsers/readers.py:1026\u001b[0m, in \u001b[0;36mread_csv\u001b[0;34m(filepath_or_buffer, sep, delimiter, header, names, index_col, usecols, dtype, engine, converters, true_values, false_values, skipinitialspace, skiprows, skipfooter, nrows, na_values, keep_default_na, na_filter, verbose, skip_blank_lines, parse_dates, infer_datetime_format, keep_date_col, date_parser, date_format, dayfirst, cache_dates, iterator, chunksize, compression, thousands, decimal, lineterminator, quotechar, quoting, doublequote, escapechar, comment, encoding, encoding_errors, dialect, on_bad_lines, delim_whitespace, low_memory, memory_map, float_precision, storage_options, dtype_backend)\u001b[0m\n",
      "\u001b[1;32m   1013\u001b[0m kwds_defaults \u001b[38;5;241m=\u001b[39m _refine_defaults_read(\n",
      "\u001b[1;32m   1014\u001b[0m     dialect,\n",
      "\u001b[1;32m   1015\u001b[0m     delimiter,\n",
      "\u001b[0;32m   (...)\u001b[0m\n",
      "\u001b[1;32m   1022\u001b[0m     dtype_backend\u001b[38;5;241m=\u001b[39mdtype_backend,\n",
      "\u001b[1;32m   1023\u001b[0m )\n",
      "\u001b[1;32m   1024\u001b[0m kwds\u001b[38;5;241m.\u001b[39mupdate(kwds_defaults)\n",
      "\u001b[0;32m-> 1026\u001b[0m \u001b[38;5;28;01mreturn\u001b[39;00m \u001b[43m_read\u001b[49m\u001b[43m(\u001b[49m\u001b[43mfilepath_or_buffer\u001b[49m\u001b[43m,\u001b[49m\u001b[43m \u001b[49m\u001b[43mkwds\u001b[49m\u001b[43m)\u001b[49m\n",
      "\n",
      "File \u001b[0;32m~/Box Sync/Residency Personal Files/Scholarly Work/Locke Research Projects/TriNetX Code/.conda/lib/python3.10/site-packages/pandas/io/parsers/readers.py:620\u001b[0m, in \u001b[0;36m_read\u001b[0;34m(filepath_or_buffer, kwds)\u001b[0m\n",
      "\u001b[1;32m    617\u001b[0m _validate_names(kwds\u001b[38;5;241m.\u001b[39mget(\u001b[38;5;124m\"\u001b[39m\u001b[38;5;124mnames\u001b[39m\u001b[38;5;124m\"\u001b[39m, \u001b[38;5;28;01mNone\u001b[39;00m))\n",
      "\u001b[1;32m    619\u001b[0m \u001b[38;5;66;03m# Create the parser.\u001b[39;00m\n",
      "\u001b[0;32m--> 620\u001b[0m parser \u001b[38;5;241m=\u001b[39m \u001b[43mTextFileReader\u001b[49m\u001b[43m(\u001b[49m\u001b[43mfilepath_or_buffer\u001b[49m\u001b[43m,\u001b[49m\u001b[43m \u001b[49m\u001b[38;5;241;43m*\u001b[39;49m\u001b[38;5;241;43m*\u001b[39;49m\u001b[43mkwds\u001b[49m\u001b[43m)\u001b[49m\n",
      "\u001b[1;32m    622\u001b[0m \u001b[38;5;28;01mif\u001b[39;00m chunksize \u001b[38;5;129;01mor\u001b[39;00m iterator:\n",
      "\u001b[1;32m    623\u001b[0m     \u001b[38;5;28;01mreturn\u001b[39;00m parser\n",
      "\n",
      "File \u001b[0;32m~/Box Sync/Residency Personal Files/Scholarly Work/Locke Research Projects/TriNetX Code/.conda/lib/python3.10/site-packages/pandas/io/parsers/readers.py:1620\u001b[0m, in \u001b[0;36mTextFileReader.__init__\u001b[0;34m(self, f, engine, **kwds)\u001b[0m\n",
      "\u001b[1;32m   1617\u001b[0m     \u001b[38;5;28mself\u001b[39m\u001b[38;5;241m.\u001b[39moptions[\u001b[38;5;124m\"\u001b[39m\u001b[38;5;124mhas_index_names\u001b[39m\u001b[38;5;124m\"\u001b[39m] \u001b[38;5;241m=\u001b[39m kwds[\u001b[38;5;124m\"\u001b[39m\u001b[38;5;124mhas_index_names\u001b[39m\u001b[38;5;124m\"\u001b[39m]\n",
      "\u001b[1;32m   1619\u001b[0m \u001b[38;5;28mself\u001b[39m\u001b[38;5;241m.\u001b[39mhandles: IOHandles \u001b[38;5;241m|\u001b[39m \u001b[38;5;28;01mNone\u001b[39;00m \u001b[38;5;241m=\u001b[39m \u001b[38;5;28;01mNone\u001b[39;00m\n",
      "\u001b[0;32m-> 1620\u001b[0m \u001b[38;5;28mself\u001b[39m\u001b[38;5;241m.\u001b[39m_engine \u001b[38;5;241m=\u001b[39m \u001b[38;5;28;43mself\u001b[39;49m\u001b[38;5;241;43m.\u001b[39;49m\u001b[43m_make_engine\u001b[49m\u001b[43m(\u001b[49m\u001b[43mf\u001b[49m\u001b[43m,\u001b[49m\u001b[43m \u001b[49m\u001b[38;5;28;43mself\u001b[39;49m\u001b[38;5;241;43m.\u001b[39;49m\u001b[43mengine\u001b[49m\u001b[43m)\u001b[49m\n",
      "\n",
      "File \u001b[0;32m~/Box Sync/Residency Personal Files/Scholarly Work/Locke Research Projects/TriNetX Code/.conda/lib/python3.10/site-packages/pandas/io/parsers/readers.py:1880\u001b[0m, in \u001b[0;36mTextFileReader._make_engine\u001b[0;34m(self, f, engine)\u001b[0m\n",
      "\u001b[1;32m   1878\u001b[0m     \u001b[38;5;28;01mif\u001b[39;00m \u001b[38;5;124m\"\u001b[39m\u001b[38;5;124mb\u001b[39m\u001b[38;5;124m\"\u001b[39m \u001b[38;5;129;01mnot\u001b[39;00m \u001b[38;5;129;01min\u001b[39;00m mode:\n",
      "\u001b[1;32m   1879\u001b[0m         mode \u001b[38;5;241m+\u001b[39m\u001b[38;5;241m=\u001b[39m \u001b[38;5;124m\"\u001b[39m\u001b[38;5;124mb\u001b[39m\u001b[38;5;124m\"\u001b[39m\n",
      "\u001b[0;32m-> 1880\u001b[0m \u001b[38;5;28mself\u001b[39m\u001b[38;5;241m.\u001b[39mhandles \u001b[38;5;241m=\u001b[39m \u001b[43mget_handle\u001b[49m\u001b[43m(\u001b[49m\n",
      "\u001b[1;32m   1881\u001b[0m \u001b[43m    \u001b[49m\u001b[43mf\u001b[49m\u001b[43m,\u001b[49m\n",
      "\u001b[1;32m   1882\u001b[0m \u001b[43m    \u001b[49m\u001b[43mmode\u001b[49m\u001b[43m,\u001b[49m\n",
      "\u001b[1;32m   1883\u001b[0m \u001b[43m    \u001b[49m\u001b[43mencoding\u001b[49m\u001b[38;5;241;43m=\u001b[39;49m\u001b[38;5;28;43mself\u001b[39;49m\u001b[38;5;241;43m.\u001b[39;49m\u001b[43moptions\u001b[49m\u001b[38;5;241;43m.\u001b[39;49m\u001b[43mget\u001b[49m\u001b[43m(\u001b[49m\u001b[38;5;124;43m\"\u001b[39;49m\u001b[38;5;124;43mencoding\u001b[39;49m\u001b[38;5;124;43m\"\u001b[39;49m\u001b[43m,\u001b[49m\u001b[43m \u001b[49m\u001b[38;5;28;43;01mNone\u001b[39;49;00m\u001b[43m)\u001b[49m\u001b[43m,\u001b[49m\n",
      "\u001b[1;32m   1884\u001b[0m \u001b[43m    \u001b[49m\u001b[43mcompression\u001b[49m\u001b[38;5;241;43m=\u001b[39;49m\u001b[38;5;28;43mself\u001b[39;49m\u001b[38;5;241;43m.\u001b[39;49m\u001b[43moptions\u001b[49m\u001b[38;5;241;43m.\u001b[39;49m\u001b[43mget\u001b[49m\u001b[43m(\u001b[49m\u001b[38;5;124;43m\"\u001b[39;49m\u001b[38;5;124;43mcompression\u001b[39;49m\u001b[38;5;124;43m\"\u001b[39;49m\u001b[43m,\u001b[49m\u001b[43m \u001b[49m\u001b[38;5;28;43;01mNone\u001b[39;49;00m\u001b[43m)\u001b[49m\u001b[43m,\u001b[49m\n",
      "\u001b[1;32m   1885\u001b[0m \u001b[43m    \u001b[49m\u001b[43mmemory_map\u001b[49m\u001b[38;5;241;43m=\u001b[39;49m\u001b[38;5;28;43mself\u001b[39;49m\u001b[38;5;241;43m.\u001b[39;49m\u001b[43moptions\u001b[49m\u001b[38;5;241;43m.\u001b[39;49m\u001b[43mget\u001b[49m\u001b[43m(\u001b[49m\u001b[38;5;124;43m\"\u001b[39;49m\u001b[38;5;124;43mmemory_map\u001b[39;49m\u001b[38;5;124;43m\"\u001b[39;49m\u001b[43m,\u001b[49m\u001b[43m \u001b[49m\u001b[38;5;28;43;01mFalse\u001b[39;49;00m\u001b[43m)\u001b[49m\u001b[43m,\u001b[49m\n",
      "\u001b[1;32m   1886\u001b[0m \u001b[43m    \u001b[49m\u001b[43mis_text\u001b[49m\u001b[38;5;241;43m=\u001b[39;49m\u001b[43mis_text\u001b[49m\u001b[43m,\u001b[49m\n",
      "\u001b[1;32m   1887\u001b[0m \u001b[43m    \u001b[49m\u001b[43merrors\u001b[49m\u001b[38;5;241;43m=\u001b[39;49m\u001b[38;5;28;43mself\u001b[39;49m\u001b[38;5;241;43m.\u001b[39;49m\u001b[43moptions\u001b[49m\u001b[38;5;241;43m.\u001b[39;49m\u001b[43mget\u001b[49m\u001b[43m(\u001b[49m\u001b[38;5;124;43m\"\u001b[39;49m\u001b[38;5;124;43mencoding_errors\u001b[39;49m\u001b[38;5;124;43m\"\u001b[39;49m\u001b[43m,\u001b[49m\u001b[43m \u001b[49m\u001b[38;5;124;43m\"\u001b[39;49m\u001b[38;5;124;43mstrict\u001b[39;49m\u001b[38;5;124;43m\"\u001b[39;49m\u001b[43m)\u001b[49m\u001b[43m,\u001b[49m\n",
      "\u001b[1;32m   1888\u001b[0m \u001b[43m    \u001b[49m\u001b[43mstorage_options\u001b[49m\u001b[38;5;241;43m=\u001b[39;49m\u001b[38;5;28;43mself\u001b[39;49m\u001b[38;5;241;43m.\u001b[39;49m\u001b[43moptions\u001b[49m\u001b[38;5;241;43m.\u001b[39;49m\u001b[43mget\u001b[49m\u001b[43m(\u001b[49m\u001b[38;5;124;43m\"\u001b[39;49m\u001b[38;5;124;43mstorage_options\u001b[39;49m\u001b[38;5;124;43m\"\u001b[39;49m\u001b[43m,\u001b[49m\u001b[43m \u001b[49m\u001b[38;5;28;43;01mNone\u001b[39;49;00m\u001b[43m)\u001b[49m\u001b[43m,\u001b[49m\n",
      "\u001b[1;32m   1889\u001b[0m \u001b[43m\u001b[49m\u001b[43m)\u001b[49m\n",
      "\u001b[1;32m   1890\u001b[0m \u001b[38;5;28;01massert\u001b[39;00m \u001b[38;5;28mself\u001b[39m\u001b[38;5;241m.\u001b[39mhandles \u001b[38;5;129;01mis\u001b[39;00m \u001b[38;5;129;01mnot\u001b[39;00m \u001b[38;5;28;01mNone\u001b[39;00m\n",
      "\u001b[1;32m   1891\u001b[0m f \u001b[38;5;241m=\u001b[39m \u001b[38;5;28mself\u001b[39m\u001b[38;5;241m.\u001b[39mhandles\u001b[38;5;241m.\u001b[39mhandle\n",
      "\n",
      "File \u001b[0;32m~/Box Sync/Residency Personal Files/Scholarly Work/Locke Research Projects/TriNetX Code/.conda/lib/python3.10/site-packages/pandas/io/common.py:873\u001b[0m, in \u001b[0;36mget_handle\u001b[0;34m(path_or_buf, mode, encoding, compression, memory_map, is_text, errors, storage_options)\u001b[0m\n",
      "\u001b[1;32m    868\u001b[0m \u001b[38;5;28;01melif\u001b[39;00m \u001b[38;5;28misinstance\u001b[39m(handle, \u001b[38;5;28mstr\u001b[39m):\n",
      "\u001b[1;32m    869\u001b[0m     \u001b[38;5;66;03m# Check whether the filename is to be opened in binary mode.\u001b[39;00m\n",
      "\u001b[1;32m    870\u001b[0m     \u001b[38;5;66;03m# Binary mode does not support 'encoding' and 'newline'.\u001b[39;00m\n",
      "\u001b[1;32m    871\u001b[0m     \u001b[38;5;28;01mif\u001b[39;00m ioargs\u001b[38;5;241m.\u001b[39mencoding \u001b[38;5;129;01mand\u001b[39;00m \u001b[38;5;124m\"\u001b[39m\u001b[38;5;124mb\u001b[39m\u001b[38;5;124m\"\u001b[39m \u001b[38;5;129;01mnot\u001b[39;00m \u001b[38;5;129;01min\u001b[39;00m ioargs\u001b[38;5;241m.\u001b[39mmode:\n",
      "\u001b[1;32m    872\u001b[0m         \u001b[38;5;66;03m# Encoding\u001b[39;00m\n",
      "\u001b[0;32m--> 873\u001b[0m         handle \u001b[38;5;241m=\u001b[39m \u001b[38;5;28;43mopen\u001b[39;49m\u001b[43m(\u001b[49m\n",
      "\u001b[1;32m    874\u001b[0m \u001b[43m            \u001b[49m\u001b[43mhandle\u001b[49m\u001b[43m,\u001b[49m\n",
      "\u001b[1;32m    875\u001b[0m \u001b[43m            \u001b[49m\u001b[43mioargs\u001b[49m\u001b[38;5;241;43m.\u001b[39;49m\u001b[43mmode\u001b[49m\u001b[43m,\u001b[49m\n",
      "\u001b[1;32m    876\u001b[0m \u001b[43m            \u001b[49m\u001b[43mencoding\u001b[49m\u001b[38;5;241;43m=\u001b[39;49m\u001b[43mioargs\u001b[49m\u001b[38;5;241;43m.\u001b[39;49m\u001b[43mencoding\u001b[49m\u001b[43m,\u001b[49m\n",
      "\u001b[1;32m    877\u001b[0m \u001b[43m            \u001b[49m\u001b[43merrors\u001b[49m\u001b[38;5;241;43m=\u001b[39;49m\u001b[43merrors\u001b[49m\u001b[43m,\u001b[49m\n",
      "\u001b[1;32m    878\u001b[0m \u001b[43m            \u001b[49m\u001b[43mnewline\u001b[49m\u001b[38;5;241;43m=\u001b[39;49m\u001b[38;5;124;43m\"\u001b[39;49m\u001b[38;5;124;43m\"\u001b[39;49m\u001b[43m,\u001b[49m\n",
      "\u001b[1;32m    879\u001b[0m \u001b[43m        \u001b[49m\u001b[43m)\u001b[49m\n",
      "\u001b[1;32m    880\u001b[0m     \u001b[38;5;28;01melse\u001b[39;00m:\n",
      "\u001b[1;32m    881\u001b[0m         \u001b[38;5;66;03m# Binary mode\u001b[39;00m\n",
      "\u001b[1;32m    882\u001b[0m         handle \u001b[38;5;241m=\u001b[39m \u001b[38;5;28mopen\u001b[39m(handle, ioargs\u001b[38;5;241m.\u001b[39mmode)\n",
      "\n",
      "\u001b[0;31mFileNotFoundError\u001b[0m: [Errno 2] No such file or directory: '/Users/blocke/TriNetX Working/lab_results_NEW_0001.csv'\n",
      "\n"
     ]
    }
   ],
   "source": [
    "notebook_path = os.path.join(notebook_dir, r\"Hypercapnia Final Dataset Generation - Master.ipynb\")\n",
    "output_path = os.path.join(notebook_dir, r\"Hypercapnia Final Dataset Generation - RFS_OBESITY_ENC_AMB.ipynb\")\n",
    "variables_dict = {'output_dir': \"AMBULATORY\", 'setting': \"AMB\", 'rfs':\"OBESITY\"}\n",
    "execute_notebook_with_variables(notebook_path, output_path, variables_dict)"
   ]
  },
  {
   "cell_type": "markdown",
   "metadata": {},
   "source": [
    "RFS OBESITY, EMER"
   ]
  },
  {
   "cell_type": "code",
   "execution_count": 5,
   "metadata": {},
   "outputs": [
    {
     "ename": "SyntaxError",
     "evalue": "invalid syntax. Perhaps you forgot a comma? (1891779654.py, line 1)",
     "output_type": "error",
     "traceback": [
      "\u001b[0;36m  Cell \u001b[0;32mIn[5], line 1\u001b[0;36m\u001b[0m\n\u001b[0;31m    notebook_path = os.path.join(notebook_dir, r\"Hypercapnia Final Dataset Generation - Master.ipynb\"\u001b[0m\n\u001b[0m                                               ^\u001b[0m\n\u001b[0;31mSyntaxError\u001b[0m\u001b[0;31m:\u001b[0m invalid syntax. Perhaps you forgot a comma?\n"
     ]
    }
   ],
   "source": [
    "notebook_path = os.path.join(notebook_dir, r\"Hypercapnia Final Dataset Generation - Master.ipynb\"\n",
    "output_path = os.path.join(notebook_dir, r\"Hypercapnia Final Dataset Generation - RFS_OBESITY_ENC_EMER.ipynb\"\n",
    "variables_dict = {'output_dir': \"EMERGENCY\", 'setting': \"EMER\", 'rfs':\"OBESITY\"}\n",
    "execute_notebook_with_variables(notebook_path, output_path, variables_dict)"
   ]
  },
  {
   "cell_type": "markdown",
   "metadata": {},
   "source": [
    "RFS OBESITY, INP"
   ]
  },
  {
   "cell_type": "code",
   "execution_count": null,
   "metadata": {},
   "outputs": [],
   "source": [
    "notebook_path = os.path.join(notebook_dir, r\"Hypercapnia Final Dataset Generation - Master.ipynb\")\n",
    "output_path = os.path.join(notebook_dir, r\"Hypercapnia Final Dataset Generation - RFS_OBESITY_ENC_INPAT.ipynb\")\n",
    "variables_dict = {'output_dir': \"INPATIENT\", 'setting': \"INPAT\", 'rfs':\"OBESITY\"}\n",
    "execute_notebook_with_variables(notebook_path, output_path, variables_dict)"
   ]
  },
  {
   "cell_type": "markdown",
   "metadata": {},
   "source": [
    "RFS PREDISPOSITION, AMB"
   ]
  },
  {
   "cell_type": "code",
   "execution_count": null,
   "metadata": {},
   "outputs": [],
   "source": [
    "notebook_path = os.path.join(notebook_dir, r\"Hypercapnia Final Dataset Generation - Master.ipynb\"\n",
    "output_path = os.path.join(notebook_dir, r\"Hypercapnia Final Dataset Generation - RFS_PREDISPOSITION_ENC_AMB.ipynb\"\n",
    "variables_dict = {'output_dir': \"AMBULATORY\", 'setting': \"AMB\", 'rfs':\"PREDISPOSITION\"}\n",
    "execute_notebook_with_variables(notebook_path, output_path, variables_dict)"
   ]
  },
  {
   "cell_type": "markdown",
   "metadata": {},
   "source": [
    "RFS PREDISPOSITION, EMER"
   ]
  },
  {
   "cell_type": "code",
   "execution_count": null,
   "metadata": {},
   "outputs": [],
   "source": [
    "notebook_path = os.path.join(notebook_dir, r\"Hypercapnia Final Dataset Generation - Master.ipynb\")\n",
    "output_path = os.path.join(notebook_dir, r\"Hypercapnia Final Dataset Generation - RFS_PREDISPOSITION_ENC_EMER.ipynb\")\n",
    "variables_dict = {'output_dir': \"EMERGENCY\", 'setting': \"EMER\", 'rfs':\"PREDISPOSITION\"}\n",
    "execute_notebook_with_variables(notebook_path, output_path, variables_dict)"
   ]
  },
  {
   "cell_type": "markdown",
   "metadata": {},
   "source": [
    "RFS PREDISPOSITION, INP"
   ]
  },
  {
   "cell_type": "code",
   "execution_count": null,
   "metadata": {},
   "outputs": [],
   "source": [
    "notebook_path = os.path.join(notebook_dir, r\"Hypercapnia Final Dataset Generation - Master.ipynb\"\n",
    "output_path = os.path.join(notebook_dir, r\"Hypercapnia Final Dataset Generation - RFS_PREDISPOSITION_ENC_INPAT.ipynb\"\n",
    "variables_dict = {'output_dir': \"INPATIENT\", 'setting': \"INPAT\", 'rfs':\"PREDISPOSITION\"}\n",
    "execute_notebook_with_variables(notebook_path, output_path, variables_dict)"
   ]
  },
  {
   "cell_type": "markdown",
   "metadata": {},
   "source": [
    "RFS RESPFAIL, AMB"
   ]
  },
  {
   "cell_type": "code",
   "execution_count": null,
   "metadata": {},
   "outputs": [
    {
     "name": "stdout",
     "output_type": "stream",
     "text": [
      "Successfully executed /Users/blocke/TriNetX Working/Notebooks/Hypercapnia Final Dataset Generation - Master.ipynb\n",
      "Notebook executed and saved to /Users/blocke/TriNetX Working/Notebooks/Hypercapnia Final Dataset Generation - RFS_RESPFAIL_ENC_AMB.ipynb\n"
     ]
    }
   ],
   "source": [
    "notebook_path = os.path.join(notebook_dir, r\"Hypercapnia Final Dataset Generation - Master.ipynb\")\n",
    "output_path = os.path.join(notebook_dir, r\"Hypercapnia Final Dataset Generation - RFS_RESPFAIL_ENC_AMB.ipynb\")\n",
    "variables_dict = {'output_dir': \"AMBULATORY\", 'setting': \"AMB\", 'rfs':\"RESPFAIL\"}\n",
    "execute_notebook_with_variables(notebook_path, output_path, variables_dict)"
   ]
  },
  {
   "cell_type": "markdown",
   "metadata": {},
   "source": [
    "RFS RESPFAIL, EMER"
   ]
  },
  {
   "cell_type": "code",
   "execution_count": null,
   "metadata": {},
   "outputs": [],
   "source": [
    "notebook_path = os.path.join(notebook_dir, r\"Hypercapnia Final Dataset Generation - Master.ipynb\")\n",
    "output_path = os.path.join(notebook_dir, r\"Hypercapnia Final Dataset Generation - RFS_RESPFAIL_ENC_EMER.ipynb\")\n",
    "variables_dict = {'output_dir': \"EMERGENCY\", 'setting': \"EMER\", 'rfs':\"RESPFAIL\"}\n",
    "execute_notebook_with_variables(notebook_path, output_path, variables_dict)"
   ]
  },
  {
   "cell_type": "markdown",
   "metadata": {},
   "source": [
    "RFS RESPFAIL, INP"
   ]
  },
  {
   "cell_type": "code",
   "execution_count": null,
   "metadata": {},
   "outputs": [
    {
     "name": "stdout",
     "output_type": "stream",
     "text": [
      "Successfully executed /Users/blocke/TriNetX Working/Notebooks/Hypercapnia Final Dataset Generation - Master.ipynb\n",
      "Notebook executed and saved to /Users/blocke/TriNetX Working/Notebooks/Hypercapnia Final Dataset Generation - RFS_RESPFAIL_ENC_INPAT.ipynb\n"
     ]
    }
   ],
   "source": [
    "notebook_path = os.path.join(notebook_dir, r\"Hypercapnia Final Dataset Generation - Master.ipynb\") \n",
    "output_path = os.path.join(notebook_dir, r\"Hypercapnia Final Dataset Generation - RFS_RESPFAIL_ENC_INPAT.ipynb\")\n",
    "variables_dict = {'output_dir': \"INPATIENT\", 'setting': \"INPAT\", 'rfs':\"RESPFAIL\"}\n",
    "execute_notebook_with_variables(notebook_path, output_path, variables_dict)"
   ]
  },
  {
   "cell_type": "markdown",
   "metadata": {},
   "source": [
    "RFS VBG, AMB"
   ]
  },
  {
   "cell_type": "code",
   "execution_count": null,
   "metadata": {},
   "outputs": [
    {
     "name": "stdout",
     "output_type": "stream",
     "text": [
      "Successfully executed /Users/blocke/TriNetX Working/Notebooks/Hypercapnia Final Dataset Generation - Master.ipynb\n",
      "Notebook executed and saved to /Users/blocke/TriNetX Working/Notebooks/Hypercapnia Final Dataset Generation - RFS_VBG_ENC_AMB.ipynb\n"
     ]
    }
   ],
   "source": [
    "notebook_path = os.path.join(notebook_dir, r\"Hypercapnia Final Dataset Generation - Master.ipynb\")\n",
    "output_path = os.path.join(notebook_dir, r\"Hypercapnia Final Dataset Generation - RFS_VBG_ENC_AMB.ipynb\")\n",
    "variables_dict = {'output_dir': \"AMBULATORY\", 'setting': \"AMB\", 'rfs':\"VBG\"}\n",
    "execute_notebook_with_variables(notebook_path, output_path, variables_dict)"
   ]
  },
  {
   "cell_type": "markdown",
   "metadata": {},
   "source": [
    "RFS VBG, EMER"
   ]
  },
  {
   "cell_type": "code",
   "execution_count": null,
   "metadata": {},
   "outputs": [],
   "source": [
    "notebook_path = os.path.join(notebook_dir, r\"Hypercapnia Final Dataset Generation - Master.ipynb\")\n",
    "output_path = os.path.join(notebook_dir, r\"Hypercapnia Final Dataset Generation - RFS_VBG_ENC_EMER.ipynb\")\n",
    "variables_dict = {'output_dir': \"EMERGENCY\", 'setting': \"EMER\", 'rfs':\"VBG\"}\n",
    "execute_notebook_with_variables(notebook_path, output_path, variables_dict)"
   ]
  },
  {
   "cell_type": "markdown",
   "metadata": {},
   "source": [
    "RFS VBG, INP"
   ]
  },
  {
   "cell_type": "code",
   "execution_count": null,
   "metadata": {},
   "outputs": [
    {
     "name": "stdout",
     "output_type": "stream",
     "text": [
      "Successfully executed /Users/blocke/TriNetX Working/Notebooks/Hypercapnia Final Dataset Generation - Master.ipynb\n",
      "Notebook executed and saved to /Users/blocke/TriNetX Working/Notebooks/Hypercapnia Final Dataset Generation - RFS_VBG_ENC_INPAT.ipynb\n"
     ]
    }
   ],
   "source": [
    "notebook_path = os.path.join(notebook_dir, r\"Hypercapnia Final Dataset Generation - Master.ipynb\")\n",
    "output_path = os.path.join(notebook_dir, r\"Hypercapnia Final Dataset Generation - RFS_VBG_ENC_INPAT.ipynb\")\n",
    "variables_dict = {'output_dir': \"INPATIENT\", 'setting': \"INPAT\", 'rfs':\"VBG\"}\n",
    "execute_notebook_with_variables(notebook_path, output_path, variables_dict)"
   ]
  },
  {
   "cell_type": "markdown",
   "metadata": {},
   "source": [
    "RFS VENT, AMB"
   ]
  },
  {
   "cell_type": "code",
   "execution_count": null,
   "metadata": {},
   "outputs": [
    {
     "name": "stdout",
     "output_type": "stream",
     "text": [
      "Successfully executed /Users/blocke/TriNetX Working/Notebooks/Hypercapnia Final Dataset Generation - Master.ipynb\n",
      "Notebook executed and saved to /Users/blocke/TriNetX Working/Notebooks/Hypercapnia Final Dataset Generation - RFS_VENTSUPPORT_ENC_AMB.ipynb\n"
     ]
    }
   ],
   "source": [
    "notebook_path = os.path.join(notebook_dir, r\"Hypercapnia Final Dataset Generation - Master.ipynb\")\n",
    "output_path = os.path.join(notebook_dir, r\"Hypercapnia Final Dataset Generation - RFS_VENTSUPPORT_ENC_AMB.ipynb\")\n",
    "variables_dict = {'output_dir': \"AMBULATORY\", 'setting': \"AMB\", 'rfs':\"VENTSUPPORT\"}\n",
    "execute_notebook_with_variables(notebook_path, output_path, variables_dict)"
   ]
  },
  {
   "cell_type": "markdown",
   "metadata": {},
   "source": [
    "RFS VENT, EMER"
   ]
  },
  {
   "cell_type": "code",
   "execution_count": null,
   "metadata": {},
   "outputs": [
    {
     "name": "stdout",
     "output_type": "stream",
     "text": [
      "Successfully executed /Users/blocke/TriNetX Working/Notebooks/Hypercapnia Final Dataset Generation - Master.ipynb\n",
      "Notebook executed and saved to /Users/blocke/TriNetX Working/Notebooks/Hypercapnia Final Dataset Generation - RFS_VENTSUPPORT_ENC_EMER.ipynb\n"
     ]
    }
   ],
   "source": [
    "notebook_path = os.path.join(notebook_dir, r\"Hypercapnia Final Dataset Generation - Master.ipynb\")\n",
    "output_path = os.path.join(notebook_dir, r\"Hypercapnia Final Dataset Generation - RFS_VENTSUPPORT_ENC_EMER.ipynb\")\n",
    "variables_dict = {'output_dir': \"EMERGENCY\", 'setting': \"EMER\", 'rfs':\"VENTSUPPORT\"}\n",
    "execute_notebook_with_variables(notebook_path, output_path, variables_dict)"
   ]
  },
  {
   "cell_type": "markdown",
   "metadata": {},
   "source": [
    "RFS VENT, INP"
   ]
  },
  {
   "cell_type": "code",
   "execution_count": null,
   "metadata": {},
   "outputs": [
    {
     "name": "stdout",
     "output_type": "stream",
     "text": [
      "Successfully executed /Users/blocke/TriNetX Working/Notebooks/Hypercapnia Final Dataset Generation - Master.ipynb\n",
      "Notebook executed and saved to /Users/blocke/TriNetX Working/Notebooks/Hypercapnia Final Dataset Generation - RFS_VENTSUPPORT_ENC_INPAT.ipynb\n"
     ]
    }
   ],
   "source": [
    "notebook_path = os.path.join(notebook_dir, r\"Hypercapnia Final Dataset Generation - Master.ipynb\")\n",
    "output_path = os.path.join(notebook_dir, r\"Hypercapnia Final Dataset Generation - RFS_VENTSUPPORT_ENC_INPAT.ipynb\")\n",
    "variables_dict = {'output_dir': \"INPATIENT\", 'setting': \"INPAT\", 'rfs':\"VENTSUPPORT\"}\n",
    "execute_notebook_with_variables(notebook_path, output_path, variables_dict)"
   ]
  },
  {
   "cell_type": "markdown",
   "metadata": {},
   "source": [
    "RFS ABG, AMB"
   ]
  },
  {
   "cell_type": "code",
   "execution_count": null,
   "metadata": {},
   "outputs": [],
   "source": [
    "notebook_path = os.path.join(notebook_dir, r\"Hypercapnia Final Dataset Generation - Master.ipynb\"\n",
    "output_path = os.path.join(notebook_dir, r\"Hypercapnia Final Dataset Generation - RFS_ABG_ENC_AMB2.ipynb\"\n",
    "variables_dict = {'output_dir': \"AMBULATORY\", 'setting': \"AMB\", 'rfs':\"ABG\"}\n",
    "execute_notebook_with_variables(notebook_path, output_path, variables_dict)"
   ]
  },
  {
   "cell_type": "markdown",
   "metadata": {},
   "source": [
    "RFS ABG, EMER"
   ]
  },
  {
   "cell_type": "code",
   "execution_count": null,
   "metadata": {},
   "outputs": [
    {
     "name": "stdout",
     "output_type": "stream",
     "text": [
      "Successfully executed /Users/blocke/TriNetX Working/Notebooks/Hypercapnia Final Dataset Generation - Master.ipynb\n",
      "Notebook executed and saved to /Users/blocke/TriNetX Working/Notebooks/Hypercapnia Final Dataset Generation - RFS_ABG_ENC_EMER2.ipynb\n"
     ]
    }
   ],
   "source": [
    "notebook_path = os.path.join(notebook_dir, r\"Hypercapnia Final Dataset Generation - Master.ipynb\")\n",
    "output_path = os.path.join(notebook_dir, r\"Hypercapnia Final Dataset Generation - RFS_ABG_ENC_EMER2.ipynb\")\n",
    "variables_dict = {'output_dir': \"EMERGENCY\", 'setting': \"EMER\", 'rfs':\"ABG\"}\n",
    "execute_notebook_with_variables(notebook_path, output_path, variables_dict)"
   ]
  },
  {
   "cell_type": "markdown",
   "metadata": {},
   "source": [
    "RFS AMB, INPAT"
   ]
  },
  {
   "cell_type": "code",
   "execution_count": null,
   "metadata": {},
   "outputs": [
    {
     "name": "stdout",
     "output_type": "stream",
     "text": [
      "Successfully executed /Users/blocke/TriNetX Working/Notebooks/Hypercapnia Final Dataset Generation - Master.ipynb\n",
      "Notebook executed and saved to /Users/blocke/TriNetX Working/Notebooks/Hypercapnia Final Dataset Generation - RFS_ABG_ENC_INPAT2.ipynb\n"
     ]
    }
   ],
   "source": [
    "notebook_path = os.path.join(notebook_dir, r\"Hypercapnia Final Dataset Generation - Master.ipynb\")\n",
    "output_path = os.path.join(notebook_dir, r\"Hypercapnia Final Dataset Generation - RFS_ABG_ENC_INPAT2.ipynb\")\n",
    "variables_dict = {'output_dir': \"INPATIENT\", 'setting': \"INPAT\", 'rfs':\"ABG\"}\n",
    "execute_notebook_with_variables(notebook_path, output_path, variables_dict)"
   ]
  }
 ],
 "metadata": {
  "kernelspec": {
   "display_name": "base",
   "language": "python",
   "name": "python3"
  },
  "language_info": {
   "codemirror_mode": {
    "name": "ipython",
    "version": 3
   },
   "file_extension": ".py",
   "mimetype": "text/x-python",
   "name": "python",
   "nbconvert_exporter": "python",
   "pygments_lexer": "ipython3",
   "version": "3.10.13"
  }
 },
 "nbformat": 4,
 "nbformat_minor": 2
}
