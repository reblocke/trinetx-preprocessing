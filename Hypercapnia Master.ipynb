{
 "cells": [
  {
   "cell_type": "markdown",
   "metadata": {},
   "source": [
    "# Code to Run Entire Preprocessing Pipeline"
   ]
  },
  {
   "cell_type": "markdown",
   "metadata": {},
   "source": [
    "### Windows vs Mac working directories. "
   ]
  },
  {
   "cell_type": "code",
   "execution_count": null,
   "metadata": {},
   "outputs": [],
   "source": [
    "#Mac\n",
    "#notebook_dir = r\"/Users/blocke/TriNetX Working/Notebooks\"\n",
    "\n",
    "# Windows\n",
    "#notebook_dir = r\"C:\\Users\\reblo\\TriNetX Preprocessing\\Notebooks\"\n",
    "notebook_dir = r\"C:\\Users\\reblo\\Box\\Residency Personal Files\\Scholarly Work\\Locke Research Projects\\TriNetX Code\\Hypercapnia TriNetX CSV Processing\\trinetx-preprocessing\""
   ]
  },
  {
   "cell_type": "code",
   "execution_count": null,
   "metadata": {},
   "outputs": [],
   "source": [
    "import os\n",
    "import numpy as np\n",
    "import matplotlib.pyplot as plt\n",
    "import pandas as pd\n",
    "from datetime import datetime\n",
    "import glob\n",
    "import nbformat\n",
    "from nbconvert.preprocessors import ExecutePreprocessor\n",
    "from nbconvert import NotebookExporter\n",
    "from pathlib import Path\n",
    "\n",
    "# Function to execute a notebook and save the output\n",
    "def execute_notebook(notebook_path):\n",
    "    # Load the notebook\n",
    "    with open(notebook_path) as f:\n",
    "        nb = nbformat.read(f, as_version=4)\n",
    "        \n",
    "    # Create an ExecutePreprocessor instance\n",
    "    ep = ExecutePreprocessor(timeout=-1, kernel_name='python3')\n",
    "    \n",
    "    # Execute the notebook\n",
    "    try:\n",
    "        ep.preprocess(nb, {'metadata': {'path': './'}})\n",
    "        print(f\"Successfully executed {notebook_path}\")\n",
    "    except Exception as e:\n",
    "        print(f\"Error executing {notebook_path}: {e}\")\n",
    "        return\n",
    "    \n",
    "    # Save the notebook with the executed cells\n",
    "    with open(notebook_path, 'wt') as f:\n",
    "        nbformat.write(nb, f)\n",
    "\n",
    "\n",
    "\n",
    "def execute_notebook_with_variables(notebook_path, output_path, variables_dict):\n",
    "    # Load the notebook\n",
    "    with open(notebook_path) as f:\n",
    "        nb = nbformat.read(f, as_version=4)\n",
    "    \n",
    "    # Create a new code cell to define the variables\n",
    "    code = '\\n'.join(f\"{key} = {repr(value)}\" for key, value in variables_dict.items())\n",
    "    new_cell = nbformat.v4.new_code_cell(source=code)\n",
    "    \n",
    "    # Insert the new cell at the beginning of the notebook\n",
    "    nb['cells'].insert(0, new_cell)\n",
    "    \n",
    "    # Create an ExecutePreprocessor instance\n",
    "    ep = ExecutePreprocessor(timeout=-1, kernel_name='python3') \n",
    "    # Execute the notebook\n",
    "    try:\n",
    "        ep.preprocess(nb, {'metadata': {'path': './'}})\n",
    "        print(f\"Successfully executed {notebook_path}\")\n",
    "    except Exception as e:\n",
    "        print(f\"Error executing {notebook_path}: {e}\")\n",
    "        return\n",
    "\n",
    "\n",
    "    # Save the executed notebook\n",
    "    with open(output_path, 'wt') as f:\n",
    "        nbformat.write(nb, f)\n",
    "    \n",
    "    print(f\"Notebook executed and saved to {output_path}\")\n"
   ]
  },
  {
   "cell_type": "code",
   "execution_count": null,
   "metadata": {},
   "outputs": [],
   "source": [
    "#Test\n",
    "print(os.path.join(notebook_dir, r\"Hypercapnia NEW DATA - Encounter (CSV Processing).ipynb\"))"
   ]
  },
  {
   "cell_type": "markdown",
   "metadata": {},
   "source": [
    "Encounters"
   ]
  },
  {
   "cell_type": "code",
   "execution_count": null,
   "metadata": {},
   "outputs": [],
   "source": [
    "execute_notebook(os.path.join(notebook_dir, r\"Hypercapnia NEW DATA - Encounter (CSV Processing).ipynb\"))"
   ]
  },
  {
   "cell_type": "markdown",
   "metadata": {},
   "source": [
    "Prior Diagnosis"
   ]
  },
  {
   "cell_type": "code",
   "execution_count": null,
   "metadata": {},
   "outputs": [],
   "source": [
    "execute_notebook(os.path.join(notebook_dir, r\"Hypercapnia NEW DATA - Prior Diagnosis (CSV Processing).ipynb\"))"
   ]
  },
  {
   "cell_type": "markdown",
   "metadata": {},
   "source": [
    "Current Diagnosis"
   ]
  },
  {
   "cell_type": "code",
   "execution_count": null,
   "metadata": {},
   "outputs": [],
   "source": [
    "execute_notebook(os.path.join(notebook_dir, r\"Hypercapnia NEW DATA - Current Diagnosis (CSV Processing).ipynb\"))"
   ]
  },
  {
   "cell_type": "markdown",
   "metadata": {},
   "source": [
    "Medication"
   ]
  },
  {
   "cell_type": "code",
   "execution_count": null,
   "metadata": {},
   "outputs": [],
   "source": [
    "execute_notebook(os.path.join(notebook_dir, r\"Hypercapnia NEW DATA - Medication (CSV Processing).ipynb\"))"
   ]
  },
  {
   "cell_type": "markdown",
   "metadata": {},
   "source": [
    "Vital Signs"
   ]
  },
  {
   "cell_type": "code",
   "execution_count": null,
   "metadata": {},
   "outputs": [],
   "source": [
    "execute_notebook(os.path.join(notebook_dir, r\"Hypercapnia NEW DATA - Vital Signs (CSV Processing).ipynb\"))"
   ]
  },
  {
   "cell_type": "markdown",
   "metadata": {},
   "source": [
    "Procedures"
   ]
  },
  {
   "cell_type": "code",
   "execution_count": null,
   "metadata": {},
   "outputs": [],
   "source": [
    "#Procedures \n",
    "execute_notebook(os.path.join(notebook_dir, r\"Hypercapnia NEW DATA - Procedure (CSV Processing).ipynb\"))"
   ]
  },
  {
   "cell_type": "markdown",
   "metadata": {},
   "source": [
    "Lab Results"
   ]
  },
  {
   "cell_type": "code",
   "execution_count": null,
   "metadata": {},
   "outputs": [],
   "source": [
    "execute_notebook(os.path.join(notebook_dir, r\"Hypercapnia NEW DATA - Lab Results (CSV Processing).ipynb\"))"
   ]
  },
  {
   "cell_type": "markdown",
   "metadata": {},
   "source": [
    "RFS Processing"
   ]
  },
  {
   "cell_type": "code",
   "execution_count": null,
   "metadata": {},
   "outputs": [],
   "source": [
    "execute_notebook(os.path.join(notebook_dir, r\"Hypercapnia NEW DATA - RFS Processing.ipynb\"))\n"
   ]
  },
  {
   "cell_type": "markdown",
   "metadata": {},
   "source": [
    "RFS ABG, EMER"
   ]
  },
  {
   "cell_type": "code",
   "execution_count": null,
   "metadata": {},
   "outputs": [],
   "source": [
    "execute_notebook(os.path.join(notebook_dir, r\"Hypercapnia Final Dataset Generation - RFS_ABG_ENC_EMER - Legacy.ipynb\"))"
   ]
  },
  {
   "cell_type": "markdown",
   "metadata": {},
   "source": [
    "RFS ABG, INP"
   ]
  },
  {
   "cell_type": "code",
   "execution_count": null,
   "metadata": {},
   "outputs": [],
   "source": [
    "execute_notebook(os.path.join(notebook_dir, r\"Hypercapnia Final Dataset Generation - RFS_ABG_ENC_INPAT - Legacy.ipynb\"))"
   ]
  },
  {
   "cell_type": "markdown",
   "metadata": {},
   "source": [
    "RFS ABG, AMB"
   ]
  },
  {
   "cell_type": "code",
   "execution_count": null,
   "metadata": {},
   "outputs": [],
   "source": [
    "execute_notebook(os.path.join(notebook_dir, r\"Hypercapnia Final Dataset Generation - RFS_ABG_ENC_AMB - Legacy.ipynb\"))"
   ]
  },
  {
   "cell_type": "markdown",
   "metadata": {},
   "source": [
    "Generate Data Check Files"
   ]
  },
  {
   "cell_type": "code",
   "execution_count": null,
   "metadata": {},
   "outputs": [],
   "source": [
    "# Data Check Call. All RFS/Permutations must have been generated, \n",
    "# and this must be done before any data checks on the below calls have been performed\n",
    "notebook_path = os.path.join(notebook_dir, r\"Hypercapnia Data Checks.ipynb\")\n",
    "output_path = os.path.join(notebook_dir, r\"Hypercapnia Data Checks - Executed.ipynb\")\n",
    "variables_dict = {'database_dir': r\"E:\\TriNetX\\\\\", 'working_dir': r\"C:\\Users\\reblo\\Box\\Residency Personal Files\\Scholarly Work\\Locke Research Projects\\TriNetX Code\\Hypercapnia TriNetX CSV Processing\\Working\\\\\"}\n",
    "execute_notebook_with_variables(notebook_path, output_path, variables_dict)"
   ]
  },
  {
   "cell_type": "markdown",
   "metadata": {},
   "source": [
    "RFS OBESITY, AMB"
   ]
  },
  {
   "cell_type": "code",
   "execution_count": null,
   "metadata": {},
   "outputs": [],
   "source": [
    "notebook_path = os.path.join(notebook_dir, r\"Hypercapnia Final Dataset Generation - Master.ipynb\")\n",
    "output_path = os.path.join(notebook_dir, r\"Hypercapnia Final Dataset Generation - RFS_OBESITY_ENC_AMB.ipynb\")\n",
    "variables_dict = {'output_dir': \"AMBULATORY\", 'setting': \"AMB\", 'rfs':\"OBESITY\"}\n",
    "execute_notebook_with_variables(notebook_path, output_path, variables_dict)"
   ]
  },
  {
   "cell_type": "markdown",
   "metadata": {},
   "source": [
    "RFS OBESITY, EMER"
   ]
  },
  {
   "cell_type": "code",
   "execution_count": null,
   "metadata": {},
   "outputs": [],
   "source": [
    "notebook_path = os.path.join(notebook_dir, r\"Hypercapnia Final Dataset Generation - Master.ipynb\")\n",
    "output_path = os.path.join(notebook_dir, r\"Hypercapnia Final Dataset Generation - RFS_OBESITY_ENC_EMER.ipynb\")\n",
    "variables_dict = {'output_dir': \"EMERGENCY\", 'setting': \"EMER\", 'rfs':\"OBESITY\"}\n",
    "execute_notebook_with_variables(notebook_path, output_path, variables_dict)"
   ]
  },
  {
   "cell_type": "markdown",
   "metadata": {},
   "source": [
    "RFS OBESITY, INP"
   ]
  },
  {
   "cell_type": "code",
   "execution_count": null,
   "metadata": {},
   "outputs": [],
   "source": [
    "notebook_path = os.path.join(notebook_dir, r\"Hypercapnia Final Dataset Generation - Master.ipynb\")\n",
    "output_path = os.path.join(notebook_dir, r\"Hypercapnia Final Dataset Generation - RFS_OBESITY_ENC_INPAT.ipynb\")\n",
    "variables_dict = {'output_dir': \"INPATIENT\", 'setting': \"INPAT\", 'rfs':\"OBESITY\"}\n",
    "execute_notebook_with_variables(notebook_path, output_path, variables_dict)"
   ]
  },
  {
   "cell_type": "markdown",
   "metadata": {},
   "source": [
    "RFS PREDISPOSITION, AMB"
   ]
  },
  {
   "cell_type": "code",
   "execution_count": null,
   "metadata": {},
   "outputs": [],
   "source": [
    "#this is the biggest one.\n",
    "notebook_path = os.path.join(notebook_dir, r\"Hypercapnia Final Dataset Generation - Master.ipynb\")\n",
    "output_path = os.path.join(notebook_dir, r\"Hypercapnia Final Dataset Generation - RFS_PREDISPOSITION_ENC_AMB.ipynb\")\n",
    "variables_dict = {'output_dir': \"AMBULATORY\", 'setting': \"AMB\", 'rfs':\"PREDISPOSITION\"}\n",
    "execute_notebook_with_variables(notebook_path, output_path, variables_dict)"
   ]
  },
  {
   "cell_type": "markdown",
   "metadata": {},
   "source": [
    "RFS PREDISPOSITION, EMER"
   ]
  },
  {
   "cell_type": "code",
   "execution_count": null,
   "metadata": {},
   "outputs": [],
   "source": [
    "notebook_path = os.path.join(notebook_dir, r\"Hypercapnia Final Dataset Generation - Master.ipynb\")\n",
    "output_path = os.path.join(notebook_dir, r\"Hypercapnia Final Dataset Generation - RFS_PREDISPOSITION_ENC_EMER.ipynb\")\n",
    "variables_dict = {'output_dir': \"EMERGENCY\", 'setting': \"EMER\", 'rfs':\"PREDISPOSITION\"}\n",
    "execute_notebook_with_variables(notebook_path, output_path, variables_dict)"
   ]
  },
  {
   "cell_type": "markdown",
   "metadata": {},
   "source": [
    "RFS PREDISPOSITION, INP"
   ]
  },
  {
   "cell_type": "code",
   "execution_count": null,
   "metadata": {},
   "outputs": [],
   "source": [
    "notebook_path = os.path.join(notebook_dir, r\"Hypercapnia Final Dataset Generation - Master.ipynb\")\n",
    "output_path = os.path.join(notebook_dir, r\"Hypercapnia Final Dataset Generation - RFS_PREDISPOSITION_ENC_INPAT.ipynb\")\n",
    "variables_dict = {'output_dir': \"INPATIENT\", 'setting': \"INPAT\", 'rfs':\"PREDISPOSITION\"}\n",
    "execute_notebook_with_variables(notebook_path, output_path, variables_dict)"
   ]
  },
  {
   "cell_type": "markdown",
   "metadata": {},
   "source": [
    "RFS RESPFAIL, AMB"
   ]
  },
  {
   "cell_type": "code",
   "execution_count": null,
   "metadata": {},
   "outputs": [],
   "source": [
    "notebook_path = os.path.join(notebook_dir, r\"Hypercapnia Final Dataset Generation - Master.ipynb\")\n",
    "output_path = os.path.join(notebook_dir, r\"Hypercapnia Final Dataset Generation - RFS_RESPFAIL_ENC_AMB.ipynb\")\n",
    "variables_dict = {'output_dir': \"AMBULATORY\", 'setting': \"AMB\", 'rfs':\"RESPFAIL\"}\n",
    "execute_notebook_with_variables(notebook_path, output_path, variables_dict)"
   ]
  },
  {
   "cell_type": "markdown",
   "metadata": {},
   "source": [
    "RFS RESPFAIL, EMER"
   ]
  },
  {
   "cell_type": "code",
   "execution_count": null,
   "metadata": {},
   "outputs": [],
   "source": [
    "notebook_path = os.path.join(notebook_dir, r\"Hypercapnia Final Dataset Generation - Master.ipynb\")\n",
    "output_path = os.path.join(notebook_dir, r\"Hypercapnia Final Dataset Generation - RFS_RESPFAIL_ENC_EMER.ipynb\")\n",
    "variables_dict = {'output_dir': \"EMERGENCY\", 'setting': \"EMER\", 'rfs':\"RESPFAIL\"}\n",
    "execute_notebook_with_variables(notebook_path, output_path, variables_dict)"
   ]
  },
  {
   "cell_type": "markdown",
   "metadata": {},
   "source": [
    "RFS RESPFAIL, INP"
   ]
  },
  {
   "cell_type": "code",
   "execution_count": null,
   "metadata": {},
   "outputs": [],
   "source": [
    "notebook_path = os.path.join(notebook_dir, r\"Hypercapnia Final Dataset Generation - Master.ipynb\") \n",
    "output_path = os.path.join(notebook_dir, r\"Hypercapnia Final Dataset Generation - RFS_RESPFAIL_ENC_INPAT.ipynb\")\n",
    "variables_dict = {'output_dir': \"INPATIENT\", 'setting': \"INPAT\", 'rfs':\"RESPFAIL\"}\n",
    "execute_notebook_with_variables(notebook_path, output_path, variables_dict)"
   ]
  },
  {
   "cell_type": "markdown",
   "metadata": {},
   "source": [
    "RFS VBG, AMB"
   ]
  },
  {
   "cell_type": "code",
   "execution_count": null,
   "metadata": {},
   "outputs": [],
   "source": [
    "notebook_path = os.path.join(notebook_dir, r\"Hypercapnia Final Dataset Generation - Master.ipynb\")\n",
    "output_path = os.path.join(notebook_dir, r\"Hypercapnia Final Dataset Generation - RFS_VBG_ENC_AMB.ipynb\")\n",
    "variables_dict = {'output_dir': \"AMBULATORY\", 'setting': \"AMB\", 'rfs':\"VBG\"}\n",
    "execute_notebook_with_variables(notebook_path, output_path, variables_dict)"
   ]
  },
  {
   "cell_type": "markdown",
   "metadata": {},
   "source": [
    "RFS VBG, EMER"
   ]
  },
  {
   "cell_type": "code",
   "execution_count": null,
   "metadata": {},
   "outputs": [],
   "source": [
    "notebook_path = os.path.join(notebook_dir, r\"Hypercapnia Final Dataset Generation - Master.ipynb\")\n",
    "output_path = os.path.join(notebook_dir, r\"Hypercapnia Final Dataset Generation - RFS_VBG_ENC_EMER.ipynb\")\n",
    "variables_dict = {'output_dir': \"EMERGENCY\", 'setting': \"EMER\", 'rfs':\"VBG\"}\n",
    "execute_notebook_with_variables(notebook_path, output_path, variables_dict)"
   ]
  },
  {
   "cell_type": "markdown",
   "metadata": {},
   "source": [
    "RFS VBG, INP"
   ]
  },
  {
   "cell_type": "code",
   "execution_count": null,
   "metadata": {},
   "outputs": [],
   "source": [
    "notebook_path = os.path.join(notebook_dir, r\"Hypercapnia Final Dataset Generation - Master.ipynb\")\n",
    "output_path = os.path.join(notebook_dir, r\"Hypercapnia Final Dataset Generation - RFS_VBG_ENC_INPAT.ipynb\")\n",
    "variables_dict = {'output_dir': \"INPATIENT\", 'setting': \"INPAT\", 'rfs':\"VBG\"}\n",
    "execute_notebook_with_variables(notebook_path, output_path, variables_dict)"
   ]
  },
  {
   "cell_type": "markdown",
   "metadata": {},
   "source": [
    "RFS VENT, AMB"
   ]
  },
  {
   "cell_type": "code",
   "execution_count": null,
   "metadata": {},
   "outputs": [],
   "source": [
    "notebook_path = os.path.join(notebook_dir, r\"Hypercapnia Final Dataset Generation - Master.ipynb\")\n",
    "output_path = os.path.join(notebook_dir, r\"Hypercapnia Final Dataset Generation - RFS_VENTSUPPORT_ENC_AMB.ipynb\")\n",
    "variables_dict = {'output_dir': \"AMBULATORY\", 'setting': \"AMB\", 'rfs':\"VENTSUPPORT\"}\n",
    "execute_notebook_with_variables(notebook_path, output_path, variables_dict)"
   ]
  },
  {
   "cell_type": "markdown",
   "metadata": {},
   "source": [
    "RFS VENT, EMER"
   ]
  },
  {
   "cell_type": "code",
   "execution_count": null,
   "metadata": {},
   "outputs": [],
   "source": [
    "notebook_path = os.path.join(notebook_dir, r\"Hypercapnia Final Dataset Generation - Master.ipynb\")\n",
    "output_path = os.path.join(notebook_dir, r\"Hypercapnia Final Dataset Generation - RFS_VENTSUPPORT_ENC_EMER.ipynb\")\n",
    "variables_dict = {'output_dir': \"EMERGENCY\", 'setting': \"EMER\", 'rfs':\"VENTSUPPORT\"}\n",
    "execute_notebook_with_variables(notebook_path, output_path, variables_dict)"
   ]
  },
  {
   "cell_type": "markdown",
   "metadata": {},
   "source": [
    "RFS VENT, INP"
   ]
  },
  {
   "cell_type": "code",
   "execution_count": null,
   "metadata": {},
   "outputs": [],
   "source": [
    "notebook_path = os.path.join(notebook_dir, r\"Hypercapnia Final Dataset Generation - Master.ipynb\")\n",
    "output_path = os.path.join(notebook_dir, r\"Hypercapnia Final Dataset Generation - RFS_VENTSUPPORT_ENC_INPAT.ipynb\")\n",
    "variables_dict = {'output_dir': \"INPATIENT\", 'setting': \"INPAT\", 'rfs':\"VENTSUPPORT\"}\n",
    "execute_notebook_with_variables(notebook_path, output_path, variables_dict)"
   ]
  },
  {
   "cell_type": "markdown",
   "metadata": {},
   "source": [
    "RFS ABG, AMB"
   ]
  },
  {
   "cell_type": "code",
   "execution_count": null,
   "metadata": {},
   "outputs": [],
   "source": [
    "notebook_path = os.path.join(notebook_dir, r\"Hypercapnia Final Dataset Generation - Master.ipynb\")\n",
    "output_path = os.path.join(notebook_dir, r\"Hypercapnia Final Dataset Generation - RFS_ABG_ENC_AMB2.ipynb\")\n",
    "variables_dict = {'output_dir': \"AMBULATORY\", 'setting': \"AMB\", 'rfs':\"ABG\"}\n",
    "execute_notebook_with_variables(notebook_path, output_path, variables_dict)"
   ]
  },
  {
   "cell_type": "markdown",
   "metadata": {},
   "source": [
    "RFS ABG, EMER"
   ]
  },
  {
   "cell_type": "code",
   "execution_count": null,
   "metadata": {},
   "outputs": [],
   "source": [
    "notebook_path = os.path.join(notebook_dir, r\"Hypercapnia Final Dataset Generation - Master.ipynb\")\n",
    "output_path = os.path.join(notebook_dir, r\"Hypercapnia Final Dataset Generation - RFS_ABG_ENC_EMER2.ipynb\")\n",
    "variables_dict = {'output_dir': \"EMERGENCY\", 'setting': \"EMER\", 'rfs':\"ABG\"}\n",
    "execute_notebook_with_variables(notebook_path, output_path, variables_dict)"
   ]
  },
  {
   "cell_type": "markdown",
   "metadata": {},
   "source": [
    "RFS AMB, INPAT"
   ]
  },
  {
   "cell_type": "code",
   "execution_count": null,
   "metadata": {},
   "outputs": [],
   "source": [
    "notebook_path = os.path.join(notebook_dir, r\"Hypercapnia Final Dataset Generation - Master.ipynb\")\n",
    "output_path = os.path.join(notebook_dir, r\"Hypercapnia Final Dataset Generation - RFS_ABG_ENC_INPAT2.ipynb\")\n",
    "variables_dict = {'output_dir': \"INPATIENT\", 'setting': \"INPAT\", 'rfs':\"ABG\"}\n",
    "execute_notebook_with_variables(notebook_path, output_path, variables_dict)"
   ]
  }
 ],
 "metadata": {
  "kernelspec": {
   "display_name": "base",
   "language": "python",
   "name": "python3"
  },
  "language_info": {
   "codemirror_mode": {
    "name": "ipython",
    "version": 3
   },
   "file_extension": ".py",
   "mimetype": "text/x-python",
   "name": "python",
   "nbconvert_exporter": "python",
   "pygments_lexer": "ipython3",
   "version": "3.11.7"
  }
 },
 "nbformat": 4,
 "nbformat_minor": 2
}
