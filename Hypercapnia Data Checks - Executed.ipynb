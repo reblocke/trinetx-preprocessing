{
 "cells": [
  {
   "cell_type": "code",
   "execution_count": 1,
   "id": "e33b1198",
   "metadata": {
    "execution": {
     "iopub.execute_input": "2024-05-12T20:30:52.412534Z",
     "iopub.status.busy": "2024-05-12T20:30:52.412534Z",
     "iopub.status.idle": "2024-05-12T20:30:52.418887Z",
     "shell.execute_reply": "2024-05-12T20:30:52.418887Z"
    }
   },
   "outputs": [],
   "source": [
    "database_dir = 'E:\\\\TriNetX\\\\\\\\'\n",
    "working_dir = 'C:\\\\Users\\\\reblo\\\\Box\\\\Residency Personal Files\\\\Scholarly Work\\\\Locke Research Projects\\\\TriNetX Code\\\\Hypercapnia TriNetX CSV Processing\\\\Working\\\\\\\\'"
   ]
  },
  {
   "cell_type": "markdown",
   "metadata": {},
   "source": [
    "## Generate the Data Check Documents for the Proper Data Control Insurance Checks"
   ]
  },
  {
   "cell_type": "code",
   "execution_count": 2,
   "metadata": {
    "execution": {
     "iopub.execute_input": "2024-05-12T20:30:52.420922Z",
     "iopub.status.busy": "2024-05-12T20:30:52.420922Z",
     "iopub.status.idle": "2024-05-12T20:30:52.424848Z",
     "shell.execute_reply": "2024-05-12T20:30:52.424848Z"
    }
   },
   "outputs": [],
   "source": [
    "# Note: output files will be placed in the working dir\n",
    "\n",
    "#PC: \n",
    "database_dir = r\"E:\\TriNetX\\\\\"   # Location where the database files are stored \n",
    "working_dir = r\"C:\\Users\\reblo\\Box\\Residency Personal Files\\Scholarly Work\\Locke Research Projects\\TriNetX Code\\Hypercapnia TriNetX CSV Processing\\Working\\\\\" #location where to read and right from (faster = better if space allows)\n",
    "\n",
    "#Mac \n",
    "#database_dir = r\"/Volumes/LOCKE STUDY/TriNetX\"   # Location where the database files are stored \n",
    "#working_dir = r\"/Users/blocke/TriNetX Working/\""
   ]
  },
  {
   "cell_type": "code",
   "execution_count": 3,
   "metadata": {
    "execution": {
     "iopub.execute_input": "2024-05-12T20:30:52.424848Z",
     "iopub.status.busy": "2024-05-12T20:30:52.424848Z",
     "iopub.status.idle": "2024-05-12T20:30:53.538890Z",
     "shell.execute_reply": "2024-05-12T20:30:53.538890Z"
    }
   },
   "outputs": [],
   "source": [
    "import time\n",
    "import os\n",
    "import numpy as np\n",
    "import matplotlib.pyplot as plt\n",
    "import pandas as pd\n",
    "import seaborn as sns\n",
    "from datetime import datetime\n",
    "import gc\n",
    "import csv\n",
    "\n",
    "#Create an output directory if it's not already there\n",
    "os.makedirs(os.path.join(working_dir[:-1], \"data_checks\"), exist_ok=True)\n",
    "\n",
    "#Code to decrease the memory size for all needed calcs\n",
    "def convert_32_dtypes(df):\n",
    "    for col in df.select_dtypes(include='float64').columns:\n",
    "        df[col] = df[col].astype(np.float32)\n",
    "    for col in df.select_dtypes(include='int64').columns:\n",
    "        df[col] = df[col].astype(np.int32)\n",
    "    return df"
   ]
  },
  {
   "cell_type": "markdown",
   "metadata": {},
   "source": [
    "Vital Signs"
   ]
  },
  {
   "cell_type": "code",
   "execution_count": 4,
   "metadata": {
    "execution": {
     "iopub.execute_input": "2024-05-12T20:30:53.538890Z",
     "iopub.status.busy": "2024-05-12T20:30:53.538890Z",
     "iopub.status.idle": "2024-05-12T20:30:53.546688Z",
     "shell.execute_reply": "2024-05-12T20:30:53.546688Z"
    }
   },
   "outputs": [
    {
     "data": {
      "text/plain": [
       "'\\nstart_time = time.time()\\n#num_spreadsheets = 10\\nnum_spreadsheets = 853\\ncolumns = [\"patient_id\",\"encounter_id\",\"code_system\",\"code\",\"date\",\"value\",\"text_value\",\"units_of_measure\",\"derived_by_TriNetX\",\"source_id\"]\\nunique_chunks = []\\nfor i in range(1, num_spreadsheets+1):\\n    print(f\\'{i:04}\\')\\n    vital_signs = pd.read_csv(database_dir + r\"Vital Signs\\x0bital_signs\"+f\\'{i:04}\\'+\".csv\",\\n                            names = columns,\\n                            usecols = [\"encounter_id\"],\\n                            dtype = {\"encounter_id\":str})\\n    unique_chunk = vital_signs[\"encounter_id\"].unique().tolist()\\n    unique_chunks.append(unique_chunk)\\n    del unique_chunk\\nunique_vs_encounters = list(set([item for sublist in unique_chunks for item in sublist]))\\nprint(\"Vitals\", len(unique_vs_encounters))\\n\\noutput_file = os.path.join(working_dir[:-1], \"data_checks\", \"vitals_encounters.csv\")\\nwith open(output_file, mode=\\'w\\', newline=\\'\\') as file:\\n    writer = csv.writer(file)\\n    writer.writerow([\"encounter_id\"])  # Write the header\\n    for encounter_id in unique_vs_encounters:\\n        writer.writerow([encounter_id])\\nprint(f\"Unique encounter IDs with vital signs reported are written to {output_file}\")\\n\\nend_time = time.time()\\nexecution_time = end_time - start_time\\nhours = int(execution_time // 3600)\\nminutes = int((execution_time % 3600) // 60)\\nseconds = execution_time % 60\\nprint(f\"Executed in {hours} hours, {minutes} minutes, and {seconds:.2f} seconds.\")\\ngc.collect()\\n'"
      ]
     },
     "execution_count": 4,
     "metadata": {},
     "output_type": "execute_result"
    }
   ],
   "source": [
    "\"\"\"\n",
    "start_time = time.time()\n",
    "#num_spreadsheets = 10\n",
    "num_spreadsheets = 853\n",
    "columns = [\"patient_id\",\"encounter_id\",\"code_system\",\"code\",\"date\",\"value\",\"text_value\",\"units_of_measure\",\"derived_by_TriNetX\",\"source_id\"]\n",
    "unique_chunks = []\n",
    "for i in range(1, num_spreadsheets+1):\n",
    "    print(f'{i:04}')\n",
    "    vital_signs = pd.read_csv(database_dir + r\"Vital Signs\\vital_signs\"+f'{i:04}'+\".csv\",\n",
    "                            names = columns,\n",
    "                            usecols = [\"encounter_id\"],\n",
    "                            dtype = {\"encounter_id\":str})\n",
    "    unique_chunk = vital_signs[\"encounter_id\"].unique().tolist()\n",
    "    unique_chunks.append(unique_chunk)\n",
    "    del unique_chunk\n",
    "unique_vs_encounters = list(set([item for sublist in unique_chunks for item in sublist]))\n",
    "print(\"Vitals\", len(unique_vs_encounters))\n",
    "\n",
    "output_file = os.path.join(working_dir[:-1], \"data_checks\", \"vitals_encounters.csv\")\n",
    "with open(output_file, mode='w', newline='') as file:\n",
    "    writer = csv.writer(file)\n",
    "    writer.writerow([\"encounter_id\"])  # Write the header\n",
    "    for encounter_id in unique_vs_encounters:\n",
    "        writer.writerow([encounter_id])\n",
    "print(f\"Unique encounter IDs with vital signs reported are written to {output_file}\")\n",
    "\n",
    "end_time = time.time()\n",
    "execution_time = end_time - start_time\n",
    "hours = int(execution_time // 3600)\n",
    "minutes = int((execution_time % 3600) // 60)\n",
    "seconds = execution_time % 60\n",
    "print(f\"Executed in {hours} hours, {minutes} minutes, and {seconds:.2f} seconds.\")\n",
    "gc.collect()\n",
    "\"\"\""
   ]
  },
  {
   "cell_type": "code",
   "execution_count": 5,
   "metadata": {
    "execution": {
     "iopub.execute_input": "2024-05-12T20:30:53.546688Z",
     "iopub.status.busy": "2024-05-12T20:30:53.546688Z",
     "iopub.status.idle": "2024-05-12T20:31:12.482454Z",
     "shell.execute_reply": "2024-05-12T20:31:12.482454Z"
    }
   },
   "outputs": [
    {
     "name": "stdout",
     "output_type": "stream",
     "text": [
      "0001\n"
     ]
    },
    {
     "name": "stdout",
     "output_type": "stream",
     "text": [
      "0002\n"
     ]
    },
    {
     "name": "stdout",
     "output_type": "stream",
     "text": [
      "0003\n"
     ]
    },
    {
     "name": "stdout",
     "output_type": "stream",
     "text": [
      "0004\n"
     ]
    },
    {
     "name": "stdout",
     "output_type": "stream",
     "text": [
      "0005\n"
     ]
    },
    {
     "name": "stdout",
     "output_type": "stream",
     "text": [
      "0006\n"
     ]
    },
    {
     "name": "stdout",
     "output_type": "stream",
     "text": [
      "0007\n"
     ]
    },
    {
     "name": "stdout",
     "output_type": "stream",
     "text": [
      "0008\n"
     ]
    },
    {
     "name": "stdout",
     "output_type": "stream",
     "text": [
      "0009\n"
     ]
    },
    {
     "name": "stdout",
     "output_type": "stream",
     "text": [
      "0010\n"
     ]
    },
    {
     "name": "stdout",
     "output_type": "stream",
     "text": [
      "Vitals 1075066\n"
     ]
    },
    {
     "name": "stdout",
     "output_type": "stream",
     "text": [
      "Unique encounter IDs with vital signs reported are written to C:\\Users\\reblo\\Box\\Residency Personal Files\\Scholarly Work\\Locke Research Projects\\TriNetX Code\\Hypercapnia TriNetX CSV Processing\\Working\\data_checks\\vitals_encounters.csv\n",
      "Executed in 0 hours, 0 minutes, and 18.86 seconds.\n"
     ]
    },
    {
     "data": {
      "text/plain": [
       "0"
      ]
     },
     "execution_count": 5,
     "metadata": {},
     "output_type": "execute_result"
    }
   ],
   "source": [
    "start_time = time.time()\n",
    "num_spreadsheets = 10\n",
    "#num_spreadsheets = 853\n",
    "\n",
    "columns = [\"patient_id\",\"encounter_id\",\"code_system\",\"code\",\"date\",\"value\",\"text_value\",\"units_of_measure\",\"derived_by_TriNetX\",\"source_id\"]\n",
    "\n",
    "unique_vs_encounters = set()\n",
    "\n",
    "for i in range(1, num_spreadsheets + 1):\n",
    "    print(f'{i:04}')  \n",
    "    vital_signs = pd.read_csv(\n",
    "        database_dir + r\"Vital Signs\\vital_signs\" + f'{i:04}' + \".csv\",\n",
    "        names=columns,          # Override column names\n",
    "        usecols=[\"encounter_id\"],  # Only read the \"encounter_id\" column\n",
    "        dtype={\"encounter_id\": str}  # Ensure \"encounter_id\" is read as a string\n",
    "    )\n",
    "    unique_vs_encounters.update(vital_signs[\"encounter_id\"].unique())\n",
    "\n",
    "print(\"Vitals\", len(unique_vs_encounters))\n",
    "\n",
    "# This block fo code converts the set to a dataframe because the write command is faster.\n",
    "df_unique_encounters = pd.DataFrame(list(unique_vs_encounters), columns=[\"encounter_id\"])\n",
    "output_file = os.path.join(working_dir[:-1], \"data_checks\", \"vitals_encounters.csv\")\n",
    "df_unique_encounters.to_csv(output_file, index=False)\n",
    "\n",
    "print(f\"Unique encounter IDs with vital signs reported are written to {output_file}\")\n",
    "\n",
    "end_time = time.time()\n",
    "execution_time = end_time - start_time\n",
    "hours = int(execution_time // 3600)\n",
    "minutes = int((execution_time % 3600) // 60)\n",
    "seconds = execution_time % 60\n",
    "print(f\"Executed in {hours} hours, {minutes} minutes, and {seconds:.2f} seconds.\")\n",
    "gc.collect()\n"
   ]
  },
  {
   "cell_type": "code",
   "execution_count": 6,
   "metadata": {
    "execution": {
     "iopub.execute_input": "2024-05-12T20:31:12.482454Z",
     "iopub.status.busy": "2024-05-12T20:31:12.482454Z",
     "iopub.status.idle": "2024-05-12T20:31:12.876479Z",
     "shell.execute_reply": "2024-05-12T20:31:12.876479Z"
    }
   },
   "outputs": [
    {
     "name": "stdout",
     "output_type": "stream",
     "text": [
      "Vitals 1075066\n"
     ]
    }
   ],
   "source": [
    "# Tests\n",
    "unique_vs_encounters_list = list(pd.read_csv(os.path.join(working_dir[:-1], \"data_checks\", \"vitals_encounters.csv\"))[\"encounter_id\"])\n",
    "print(\"Vitals\", len(unique_vs_encounters_list))"
   ]
  },
  {
   "cell_type": "markdown",
   "metadata": {},
   "source": [
    "Diagnoses"
   ]
  },
  {
   "cell_type": "code",
   "execution_count": 7,
   "metadata": {
    "execution": {
     "iopub.execute_input": "2024-05-12T20:31:12.876479Z",
     "iopub.status.busy": "2024-05-12T20:31:12.876479Z",
     "iopub.status.idle": "2024-05-12T20:31:33.683850Z",
     "shell.execute_reply": "2024-05-12T20:31:33.683850Z"
    }
   },
   "outputs": [
    {
     "name": "stdout",
     "output_type": "stream",
     "text": [
      "0001\n"
     ]
    },
    {
     "name": "stdout",
     "output_type": "stream",
     "text": [
      "0002\n"
     ]
    },
    {
     "name": "stdout",
     "output_type": "stream",
     "text": [
      "0003\n"
     ]
    },
    {
     "name": "stdout",
     "output_type": "stream",
     "text": [
      "0004\n"
     ]
    },
    {
     "name": "stdout",
     "output_type": "stream",
     "text": [
      "0005\n"
     ]
    },
    {
     "name": "stdout",
     "output_type": "stream",
     "text": [
      "0006\n"
     ]
    },
    {
     "name": "stdout",
     "output_type": "stream",
     "text": [
      "0007\n"
     ]
    },
    {
     "name": "stdout",
     "output_type": "stream",
     "text": [
      "0008\n"
     ]
    },
    {
     "name": "stdout",
     "output_type": "stream",
     "text": [
      "0009\n"
     ]
    },
    {
     "name": "stdout",
     "output_type": "stream",
     "text": [
      "0010\n"
     ]
    },
    {
     "name": "stdout",
     "output_type": "stream",
     "text": [
      "Diagnoses  2407805\n"
     ]
    },
    {
     "name": "stdout",
     "output_type": "stream",
     "text": [
      "Unique encounter IDs with diagnoses reported are written to C:\\Users\\reblo\\Box\\Residency Personal Files\\Scholarly Work\\Locke Research Projects\\TriNetX Code\\Hypercapnia TriNetX CSV Processing\\Working\\data_checks\\diagnosis_encounters.csv\n",
      "Executed in 0 hours, 0 minutes, and 39.97 seconds.\n"
     ]
    },
    {
     "data": {
      "text/plain": [
       "0"
      ]
     },
     "execution_count": 7,
     "metadata": {},
     "output_type": "execute_result"
    }
   ],
   "source": [
    "num_spreadsheets = 10\n",
    "#num_spreadsheets = 1273\n",
    "columns = [\"patient_id\",\"encounter_id\",\"code_system\",\"code\",\"principal_diagnosis_indicator\",\"admitting_diagnosis\",\"reason_for_visit\",\"date\",\"derived_by_TriNetX\",\"source_id\"]\n",
    "\n",
    "unique_diag_encounters = set()\n",
    "\n",
    "for i in range(1, num_spreadsheets + 1):\n",
    "    print(f'{i:04}')  \n",
    "    diagnoses = pd.read_csv(\n",
    "        database_dir + r\"Diagnosis\\diagnosis\"+f'{i:04}'+\".csv\",\n",
    "        names=columns,          # Override column names\n",
    "        usecols=[\"encounter_id\"],  # Only read the \"encounter_id\" column\n",
    "        dtype={\"encounter_id\": str}  # Ensure \"encounter_id\" is read as a string\n",
    "    )\n",
    "    unique_diag_encounters.update(diagnoses[\"encounter_id\"].unique())\n",
    "\n",
    "print(\"Diagnoses \", len(unique_diag_encounters))\n",
    "\n",
    "# This block fo code converts the set to a dataframe because the write command is faster.\n",
    "df_unique_encounters = pd.DataFrame(list(unique_diag_encounters), columns=[\"encounter_id\"])\n",
    "output_file = os.path.join(working_dir[:-1], \"data_checks\", \"diagnosis_encounters.csv\")\n",
    "df_unique_encounters.to_csv(output_file, index=False)\n",
    "\n",
    "print(f\"Unique encounter IDs with diagnoses reported are written to {output_file}\")\n",
    "\n",
    "end_time = time.time()\n",
    "execution_time = end_time - start_time\n",
    "hours = int(execution_time // 3600)\n",
    "minutes = int((execution_time % 3600) // 60)\n",
    "seconds = execution_time % 60\n",
    "print(f\"Executed in {hours} hours, {minutes} minutes, and {seconds:.2f} seconds.\")\n",
    "gc.collect()"
   ]
  },
  {
   "cell_type": "code",
   "execution_count": 8,
   "metadata": {
    "execution": {
     "iopub.execute_input": "2024-05-12T20:31:33.683850Z",
     "iopub.status.busy": "2024-05-12T20:31:33.683850Z",
     "iopub.status.idle": "2024-05-12T20:31:34.561181Z",
     "shell.execute_reply": "2024-05-12T20:31:34.561181Z"
    }
   },
   "outputs": [
    {
     "name": "stdout",
     "output_type": "stream",
     "text": [
      "Diagnosis 2407805\n"
     ]
    }
   ],
   "source": [
    "# Tests\n",
    "unique_diag_encounters_list = list(pd.read_csv(os.path.join(working_dir[:-1], \"data_checks\", \"diagnosis_encounters.csv\"))[\"encounter_id\"])\n",
    "print(\"Diagnosis\", len(unique_diag_encounters_list))"
   ]
  },
  {
   "cell_type": "markdown",
   "metadata": {},
   "source": [
    "Lab Results"
   ]
  },
  {
   "cell_type": "code",
   "execution_count": 9,
   "metadata": {
    "execution": {
     "iopub.execute_input": "2024-05-12T20:31:34.563189Z",
     "iopub.status.busy": "2024-05-12T20:31:34.563189Z",
     "iopub.status.idle": "2024-05-12T20:31:53.456579Z",
     "shell.execute_reply": "2024-05-12T20:31:53.456579Z"
    }
   },
   "outputs": [
    {
     "name": "stdout",
     "output_type": "stream",
     "text": [
      "0001\n"
     ]
    },
    {
     "name": "stdout",
     "output_type": "stream",
     "text": [
      "0002\n"
     ]
    },
    {
     "name": "stdout",
     "output_type": "stream",
     "text": [
      "0003\n"
     ]
    },
    {
     "name": "stdout",
     "output_type": "stream",
     "text": [
      "0004\n"
     ]
    },
    {
     "name": "stdout",
     "output_type": "stream",
     "text": [
      "0005\n"
     ]
    },
    {
     "name": "stdout",
     "output_type": "stream",
     "text": [
      "0006\n"
     ]
    },
    {
     "name": "stdout",
     "output_type": "stream",
     "text": [
      "0007\n"
     ]
    },
    {
     "name": "stdout",
     "output_type": "stream",
     "text": [
      "0008\n"
     ]
    },
    {
     "name": "stdout",
     "output_type": "stream",
     "text": [
      "0009\n"
     ]
    },
    {
     "name": "stdout",
     "output_type": "stream",
     "text": [
      "0010\n"
     ]
    },
    {
     "name": "stdout",
     "output_type": "stream",
     "text": [
      "Lab 728906\n"
     ]
    },
    {
     "name": "stdout",
     "output_type": "stream",
     "text": [
      "Unique encounter IDs with diagnoses reported are written to C:\\Users\\reblo\\Box\\Residency Personal Files\\Scholarly Work\\Locke Research Projects\\TriNetX Code\\Hypercapnia TriNetX CSV Processing\\Working\\data_checks\\labs_encounters.csv\n",
      "Executed in 0 hours, 0 minutes, and 59.52 seconds.\n"
     ]
    },
    {
     "data": {
      "text/plain": [
       "0"
      ]
     },
     "execution_count": 9,
     "metadata": {},
     "output_type": "execute_result"
    }
   ],
   "source": [
    "num_spreadsheets = 10\n",
    "#num_spreadsheets = 2334\n",
    "columns = [\"patient_id\",\"encounter_id\",\"code_system\",\"code\",\"date\",\"value\",\"text_value\",\"units_of_measure\",\"derived_by_TriNetX\",\"source_id\"]\n",
    "\n",
    "unique_lab_encounters = set()\n",
    "\n",
    "for i in range(1, num_spreadsheets + 1):\n",
    "    print(f'{i:04}')  \n",
    "    labs = pd.read_csv(\n",
    "        database_dir + r\"Lab Results\\lab_results\"+f'{i:04}'+\".csv\",\n",
    "        names=columns,          # Override column names\n",
    "        usecols=[\"encounter_id\"],  # Only read the \"encounter_id\" column\n",
    "        dtype={\"encounter_id\": str}  # Ensure \"encounter_id\" is read as a string\n",
    "    )\n",
    "    unique_lab_encounters.update(labs[\"encounter_id\"].unique())\n",
    "\n",
    "print(\"Lab\", len(unique_lab_encounters))\n",
    "\n",
    "# This block fo code converts the set to a dataframe because the write command is faster.\n",
    "df_unique_encounters = pd.DataFrame(list(unique_lab_encounters), columns=[\"encounter_id\"])\n",
    "output_file = os.path.join(working_dir[:-1], \"data_checks\", \"labs_encounters.csv\")\n",
    "df_unique_encounters.to_csv(output_file, index=False)\n",
    "\n",
    "print(f\"Unique encounter IDs with diagnoses reported are written to {output_file}\")\n",
    "\n",
    "end_time = time.time()\n",
    "execution_time = end_time - start_time\n",
    "hours = int(execution_time // 3600)\n",
    "minutes = int((execution_time % 3600) // 60)\n",
    "seconds = execution_time % 60\n",
    "print(f\"Executed in {hours} hours, {minutes} minutes, and {seconds:.2f} seconds.\")\n",
    "gc.collect()"
   ]
  },
  {
   "cell_type": "code",
   "execution_count": 10,
   "metadata": {
    "execution": {
     "iopub.execute_input": "2024-05-12T20:31:53.456579Z",
     "iopub.status.busy": "2024-05-12T20:31:53.456579Z",
     "iopub.status.idle": "2024-05-12T20:31:53.747193Z",
     "shell.execute_reply": "2024-05-12T20:31:53.747193Z"
    }
   },
   "outputs": [
    {
     "name": "stdout",
     "output_type": "stream",
     "text": [
      "Diagnosis 728906\n"
     ]
    }
   ],
   "source": [
    "# Tests\n",
    "unique_lab_encounters_list = list(pd.read_csv(os.path.join(working_dir[:-1], \"data_checks\", \"labs_encounters.csv\"))[\"encounter_id\"])\n",
    "print(\"Diagnosis\", len(unique_lab_encounters_list))"
   ]
  },
  {
   "cell_type": "markdown",
   "metadata": {},
   "source": [
    "Procedures"
   ]
  },
  {
   "cell_type": "code",
   "execution_count": 11,
   "metadata": {
    "execution": {
     "iopub.execute_input": "2024-05-12T20:31:53.750218Z",
     "iopub.status.busy": "2024-05-12T20:31:53.750218Z",
     "iopub.status.idle": "2024-05-12T20:32:12.663714Z",
     "shell.execute_reply": "2024-05-12T20:32:12.663714Z"
    }
   },
   "outputs": [
    {
     "name": "stdout",
     "output_type": "stream",
     "text": [
      "0001\n"
     ]
    },
    {
     "name": "stdout",
     "output_type": "stream",
     "text": [
      "0002\n"
     ]
    },
    {
     "name": "stdout",
     "output_type": "stream",
     "text": [
      "0003\n"
     ]
    },
    {
     "name": "stdout",
     "output_type": "stream",
     "text": [
      "0004\n"
     ]
    },
    {
     "name": "stdout",
     "output_type": "stream",
     "text": [
      "0005\n"
     ]
    },
    {
     "name": "stdout",
     "output_type": "stream",
     "text": [
      "0006\n"
     ]
    },
    {
     "name": "stdout",
     "output_type": "stream",
     "text": [
      "0007\n"
     ]
    },
    {
     "name": "stdout",
     "output_type": "stream",
     "text": [
      "0008\n"
     ]
    },
    {
     "name": "stdout",
     "output_type": "stream",
     "text": [
      "0009\n"
     ]
    },
    {
     "name": "stdout",
     "output_type": "stream",
     "text": [
      "0010\n"
     ]
    },
    {
     "name": "stdout",
     "output_type": "stream",
     "text": [
      "Procedure 2745337\n"
     ]
    },
    {
     "name": "stdout",
     "output_type": "stream",
     "text": [
      "Unique encounter IDs with diagnoses reported are written to C:\\Users\\reblo\\Box\\Residency Personal Files\\Scholarly Work\\Locke Research Projects\\TriNetX Code\\Hypercapnia TriNetX CSV Processing\\Working\\data_checks\\procedure_encounters.csv\n"
     ]
    },
    {
     "data": {
      "text/plain": [
       "0"
      ]
     },
     "execution_count": 11,
     "metadata": {},
     "output_type": "execute_result"
    }
   ],
   "source": [
    "num_spreadsheets = 10\n",
    "#num_spreadsheets = 714\n",
    "columns = [\"patient_id\",\"encounter_id\",\"code_system\",\"code\",\"principal_procedure_indicator\",\"date\",\"derived_by_TriNetX\",\"source_id\"]\n",
    "\n",
    "unique_proc_encounters = set()\n",
    "\n",
    "for i in range(1, num_spreadsheets + 1):\n",
    "    print(f'{i:04}')  \n",
    "    labs = pd.read_csv(\n",
    "        database_dir + r\"Procedure\\procedure\"+f'{i:04}'+\".csv\",\n",
    "        names=columns,          # Override column names\n",
    "        usecols=[\"encounter_id\"],  # Only read the \"encounter_id\" column\n",
    "        dtype={\"encounter_id\": str}  # Ensure \"encounter_id\" is read as a string\n",
    "    )\n",
    "    unique_proc_encounters.update(labs[\"encounter_id\"].unique())\n",
    "\n",
    "print(\"Procedure\", len(unique_proc_encounters))\n",
    "\n",
    "df_unique_encounters = pd.DataFrame(list(unique_proc_encounters), columns=[\"encounter_id\"])\n",
    "output_file = os.path.join(working_dir[:-1], \"data_checks\", \"procedure_encounters.csv\")\n",
    "df_unique_encounters.to_csv(output_file, index=False)\n",
    "\n",
    "print(f\"Unique encounter IDs with diagnoses reported are written to {output_file}\")\n",
    "gc.collect()"
   ]
  },
  {
   "cell_type": "code",
   "execution_count": 12,
   "metadata": {
    "execution": {
     "iopub.execute_input": "2024-05-12T20:32:12.665719Z",
     "iopub.status.busy": "2024-05-12T20:32:12.665719Z",
     "iopub.status.idle": "2024-05-12T20:32:13.559355Z",
     "shell.execute_reply": "2024-05-12T20:32:13.559355Z"
    }
   },
   "outputs": [
    {
     "name": "stdout",
     "output_type": "stream",
     "text": [
      "Diagnosis 2745337\n"
     ]
    }
   ],
   "source": [
    "# Tests\n",
    "unique_proc_encounters_list = list(pd.read_csv(os.path.join(working_dir[:-1], \"data_checks\", \"procedure_encounters.csv\"))[\"encounter_id\"])\n",
    "print(\"Diagnosis\", len(unique_proc_encounters_list))"
   ]
  },
  {
   "cell_type": "markdown",
   "metadata": {},
   "source": [
    "Medications"
   ]
  },
  {
   "cell_type": "code",
   "execution_count": 13,
   "metadata": {
    "execution": {
     "iopub.execute_input": "2024-05-12T20:32:13.559355Z",
     "iopub.status.busy": "2024-05-12T20:32:13.559355Z",
     "iopub.status.idle": "2024-05-12T20:32:38.838750Z",
     "shell.execute_reply": "2024-05-12T20:32:38.838750Z"
    }
   },
   "outputs": [
    {
     "name": "stdout",
     "output_type": "stream",
     "text": [
      "0001\n"
     ]
    },
    {
     "name": "stdout",
     "output_type": "stream",
     "text": [
      "0002\n"
     ]
    },
    {
     "name": "stdout",
     "output_type": "stream",
     "text": [
      "0003\n"
     ]
    },
    {
     "name": "stdout",
     "output_type": "stream",
     "text": [
      "0004\n"
     ]
    },
    {
     "name": "stdout",
     "output_type": "stream",
     "text": [
      "0005\n"
     ]
    },
    {
     "name": "stdout",
     "output_type": "stream",
     "text": [
      "0006\n"
     ]
    },
    {
     "name": "stdout",
     "output_type": "stream",
     "text": [
      "0007\n"
     ]
    },
    {
     "name": "stdout",
     "output_type": "stream",
     "text": [
      "0008\n"
     ]
    },
    {
     "name": "stdout",
     "output_type": "stream",
     "text": [
      "0009\n"
     ]
    },
    {
     "name": "stdout",
     "output_type": "stream",
     "text": [
      "0010\n"
     ]
    },
    {
     "name": "stdout",
     "output_type": "stream",
     "text": [
      "Medications 882347\n"
     ]
    },
    {
     "name": "stdout",
     "output_type": "stream",
     "text": [
      "Unique encounter IDs with diagnoses reported are written to C:\\Users\\reblo\\Box\\Residency Personal Files\\Scholarly Work\\Locke Research Projects\\TriNetX Code\\Hypercapnia TriNetX CSV Processing\\Working\\data_checks\\medication_encounters.csv\n"
     ]
    },
    {
     "data": {
      "text/plain": [
       "0"
      ]
     },
     "execution_count": 13,
     "metadata": {},
     "output_type": "execute_result"
    }
   ],
   "source": [
    "# Inpatient Medication\n",
    "num_spreadsheets = 10\n",
    "#num_spreadsheets = 2991\n",
    "columns = [\"patient_id\",\"encounter_id\",\"unique_id\",\"code_system\",\"code\",\"start_date\",\"route\",\"brand\",\"strength\",\"derived_by_TriNetX\",\"source_id\"]\n",
    "\n",
    "unique_med_encounters = set()\n",
    "\n",
    "for i in range(1, num_spreadsheets + 1):\n",
    "    print(f'{i:04}')  \n",
    "    labs = pd.read_csv(\n",
    "        database_dir + r\"Medications\\medication\"+f'{i:04}'+\".csv\",\n",
    "        names=columns,          # Override column names\n",
    "        usecols=[\"encounter_id\"],  # Only read the \"encounter_id\" column\n",
    "        dtype={\"encounter_id\": str}  # Ensure \"encounter_id\" is read as a string\n",
    "    )\n",
    "    unique_med_encounters.update(labs[\"encounter_id\"].unique())\n",
    "print(\"Medications\", len(unique_med_encounters))\n",
    "\n",
    "df_unique_encounters = pd.DataFrame(list(unique_med_encounters), columns=[\"encounter_id\"])\n",
    "output_file = os.path.join(working_dir[:-1], \"data_checks\", \"medication_encounters.csv\")\n",
    "df_unique_encounters.to_csv(output_file, index=False)\n",
    "\n",
    "print(f\"Unique encounter IDs with diagnoses reported are written to {output_file}\")\n",
    "gc.collect()"
   ]
  },
  {
   "cell_type": "code",
   "execution_count": 14,
   "metadata": {
    "execution": {
     "iopub.execute_input": "2024-05-12T20:32:38.839885Z",
     "iopub.status.busy": "2024-05-12T20:32:38.839885Z",
     "iopub.status.idle": "2024-05-12T20:32:39.183129Z",
     "shell.execute_reply": "2024-05-12T20:32:39.183129Z"
    }
   },
   "outputs": [
    {
     "name": "stdout",
     "output_type": "stream",
     "text": [
      "Diagnosis 882347\n"
     ]
    }
   ],
   "source": [
    "# Tests\n",
    "unique_med_encounters_list = list(pd.read_csv(os.path.join(working_dir[:-1], \"data_checks\", \"medication_encounters.csv\"))[\"encounter_id\"])\n",
    "print(\"Diagnosis\", len(unique_med_encounters_list))"
   ]
  },
  {
   "cell_type": "markdown",
   "metadata": {},
   "source": [
    "Generate Ambulatory and Inpatient/ED Screens"
   ]
  },
  {
   "cell_type": "code",
   "execution_count": 15,
   "metadata": {
    "execution": {
     "iopub.execute_input": "2024-05-12T20:32:39.186134Z",
     "iopub.status.busy": "2024-05-12T20:32:39.185132Z",
     "iopub.status.idle": "2024-05-12T20:32:44.413605Z",
     "shell.execute_reply": "2024-05-12T20:32:44.413605Z"
    }
   },
   "outputs": [
    {
     "name": "stdout",
     "output_type": "stream",
     "text": [
      "Vitals 1075066\n"
     ]
    },
    {
     "name": "stdout",
     "output_type": "stream",
     "text": [
      "Diagnosis  2407805\n",
      "Number of Unique Encounters in OP Filter: 462341\n"
     ]
    },
    {
     "name": "stdout",
     "output_type": "stream",
     "text": [
      "Unique encounter IDs with diagnoses reported are written to C:\\Users\\reblo\\Box\\Residency Personal Files\\Scholarly Work\\Locke Research Projects\\TriNetX Code\\Hypercapnia TriNetX CSV Processing\\Working\\data_checks\\amb_enc_screen.csv\n"
     ]
    },
    {
     "name": "stdout",
     "output_type": "stream",
     "text": [
      "Lab 728906\n"
     ]
    },
    {
     "name": "stdout",
     "output_type": "stream",
     "text": [
      "Procedure  2745337\n"
     ]
    },
    {
     "name": "stdout",
     "output_type": "stream",
     "text": [
      "Med  882347\n"
     ]
    },
    {
     "name": "stdout",
     "output_type": "stream",
     "text": [
      "Number of Unique Encounters in IP Filter: 39069\n"
     ]
    },
    {
     "name": "stdout",
     "output_type": "stream",
     "text": [
      "Unique encounter IDs with diagnoses reported are written to C:\\Users\\reblo\\Box\\Residency Personal Files\\Scholarly Work\\Locke Research Projects\\TriNetX Code\\Hypercapnia TriNetX CSV Processing\\Working\\data_checks\\inp_enc_screen.csv\n"
     ]
    }
   ],
   "source": [
    "# Vital Signs\n",
    "unique_vs_encounters = list(pd.read_csv(os.path.join(working_dir[:-1], \"data_checks\", \"vitals_encounters.csv\"))[\"encounter_id\"])\n",
    "print(\"Vitals\", len(unique_vs_encounters))\n",
    "\n",
    "# Current Diagnosis\n",
    "unique_diag_encounters = list(pd.read_csv(os.path.join(working_dir[:-1], \"data_checks\", \"diagnosis_encounters.csv\"))[\"encounter_id\"])\n",
    "print(\"Diagnosis \", len(unique_diag_encounters))\n",
    "\n",
    "# Print the number of unique patients who passed the data quality check\n",
    "\n",
    "# Filter out patients who did not pass the data quality check\n",
    "new_OP_data_quality_check_FINAL_patients = list(set(unique_vs_encounters) & set(unique_diag_encounters)) # Note, these are all encounter types - but that should be OK\n",
    "print(\"Number of Unique Encounters in OP Filter:\", len(new_OP_data_quality_check_FINAL_patients))\n",
    "\n",
    "output_file = os.path.join(working_dir[:-1], \"data_checks\", \"amb_enc_screen.csv\")\n",
    "with open(output_file, mode='w', newline='') as file:\n",
    "    writer = csv.writer(file)\n",
    "    writer.writerow([\"encounter_id\"])  # Write the header\n",
    "    for encounter_id in unique_med_encounters:\n",
    "        writer.writerow([encounter_id])\n",
    "print(f\"Unique encounter IDs with diagnoses reported are written to {output_file}\")\n",
    "\n",
    "\n",
    "\n",
    "unique_lab_encounters = list(pd.read_csv(os.path.join(working_dir[:-1], \"data_checks\", \"labs_encounters.csv\"))[\"encounter_id\"])\n",
    "print(\"Lab\", len(unique_lab_encounters))\n",
    "\n",
    "unique_proc_encounters = list(pd.read_csv(os.path.join(working_dir[:-1], \"data_checks\", \"procedure_encounters.csv\"))[\"encounter_id\"])\n",
    "print(\"Procedure \", len(unique_proc_encounters))\n",
    "\n",
    "unique_med_encounters = list(pd.read_csv(os.path.join(working_dir[:-1], \"data_checks\", \"medication_encounters.csv\"))[\"encounter_id\"])\n",
    "print(\"Med \", len(unique_med_encounters))\n",
    "\n",
    "new_IP_data_quality_check_FINAL_patients = list(set(unique_vs_encounters) & set(unique_diag_encounters) & set(unique_med_encounters) & set(unique_proc_encounters) & set(unique_lab_encounters))\n",
    "print(\"Number of Unique Encounters in IP Filter:\", len(new_IP_data_quality_check_FINAL_patients))\n",
    "\n",
    "output_file = os.path.join(working_dir[:-1], \"data_checks\", \"inp_enc_screen.csv\")\n",
    "with open(output_file, mode='w', newline='') as file:\n",
    "    writer = csv.writer(file)\n",
    "    writer.writerow([\"encounter_id\"])  # Write the header\n",
    "    for encounter_id in unique_med_encounters:\n",
    "        writer.writerow([encounter_id])\n",
    "print(f\"Unique encounter IDs with diagnoses reported are written to {output_file}\")"
   ]
  }
 ],
 "metadata": {
  "kernelspec": {
   "display_name": "base",
   "language": "python",
   "name": "python3"
  },
  "language_info": {
   "codemirror_mode": {
    "name": "ipython",
    "version": 3
   },
   "file_extension": ".py",
   "mimetype": "text/x-python",
   "name": "python",
   "nbconvert_exporter": "python",
   "pygments_lexer": "ipython3",
   "version": "3.11.7"
  }
 },
 "nbformat": 4,
 "nbformat_minor": 2
}
