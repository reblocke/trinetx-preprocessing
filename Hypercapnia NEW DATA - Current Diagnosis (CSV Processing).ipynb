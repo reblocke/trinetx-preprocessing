{
 "cells": [
  {
   "cell_type": "markdown",
   "id": "988515ef",
   "metadata": {},
   "source": [
    "# Current Diagnosis Preprocessing (NEW DATA)"
   ]
  },
  {
   "cell_type": "code",
   "execution_count": 1,
   "id": "8348561e",
   "metadata": {},
   "outputs": [
    {
     "name": "stdout",
     "output_type": "stream",
     "text": [
      "C:\\Users\\reblo\\Box\\Residency Personal Files\\Scholarly Work\\Locke Research Projects\\TriNetX Code\\Hypercapnia TriNetX CSV Processing\\Working\\\\\n"
     ]
    }
   ],
   "source": [
    "import os\n",
    "import numpy as np\n",
    "import matplotlib.pyplot as plt\n",
    "import pandas as pd\n",
    "import seaborn as sns\n",
    "from datetime import datetime\n",
    "import glob\n",
    "\n",
    "database_dir = r\"D:\\TriNetX\\Diagnosis\\\\\"   # Location where the database files are stored \n",
    "#working_dir = r\"D:\\TriNetX\\Diagnosis\\\"\n",
    "working_dir = r\"C:\\Users\\reblo\\Box\\Residency Personal Files\\Scholarly Work\\Locke Research Projects\\TriNetX Code\\Hypercapnia TriNetX CSV Processing\\Working\\\\\" #location where to read and right from (faster = better if space allows)\n",
    "print(working_dir)\n",
    "# num_spreadsheets = 10\n",
    "num_spreadsheets = 1273\n",
    "\n",
    "d_type_spec = {\"patient_id\":str, \n",
    "               \"encounter_id\":str, \n",
    "               \"code\":'category', \n",
    "               \"principal_diagnosis_indicator\":'category',\n",
    "               \"admitting_diagnosis\":'category',\n",
    "               \"reason_for_visit\":'category', \n",
    "               \"date\":'category'}"
   ]
  },
  {
   "cell_type": "code",
   "execution_count": null,
   "id": "f8e8d0db",
   "metadata": {},
   "outputs": [],
   "source": [
    "# No need to reformat the diagnosis CSVs as these were reformatted in the \"Prior Diagnosis\" notebook\n",
    "\"\"\"\n",
    "columns = [\"patient_id\",\"encounter_id\",\"code_system\",\"code\",\"principal_diagnosis_indicator\",\"admitting_diagnosis\",\"reason_for_visit\",\"date\",\"derived_by_TriNetX\",\"source_id\"]\n",
    "for i in range(1, num_spreadsheets+1):\n",
    "    print(f'{i:04}')\n",
    "    diagnosis = pd.read_csv(database_dir + \"diagnosis\"+f'{i:04}'+\".csv\",\n",
    "                            names = columns,\n",
    "                            dtype = {\"patient_id\":str,\"encounter_id\":str,\"code\":str},\n",
    "                            parse_dates = [\"date\"])\n",
    "    diagnosis.loc[diagnosis[\"principal_diagnosis_indicator\"] == \"Unknown\", \"principal_diagnosis_indicator\"] = \"U\"\n",
    "    diagnosis.loc[diagnosis[\"admitting_diagnosis\"] == \"Unknown\", \"admitting_diagnosis\"] = \"U\"\n",
    "    diagnosis.loc[diagnosis[\"reason_for_visit\"] == \"Unknown\", \"reason_for_visit\"] = \"U\"\n",
    "    diagnosis = diagnosis.drop(columns = [\"code_system\",\"derived_by_TriNetX\",\"source_id\"])\n",
    "    diagnosis.to_csv(working_dir + \"diagnosis_NEW_\"+f'{i:04}'+\".csv\", index = False)\n",
    "    print(diagnosis.shape)\n",
    "    del diagnosis\n",
    "\"\"\""
   ]
  },
  {
   "cell_type": "markdown",
   "id": "38188c15",
   "metadata": {},
   "source": [
    "### #############################################################################################"
   ]
  },
  {
   "cell_type": "markdown",
   "id": "b659a1ad",
   "metadata": {},
   "source": [
    "# Chronic Respiratory Failure with Hypercapnia\n",
    "### ICD-10: J96.12 - Chronic Respiratory Failure with Hypercapnia"
   ]
  },
  {
   "cell_type": "code",
   "execution_count": null,
   "id": "cf4f67c2",
   "metadata": {},
   "outputs": [],
   "source": [
    "# ICD-10: J96.12 - Chronic Respiratory Failure with Hypercapnia\n",
    "# With new \"principal_diagnosis_indicator\", \"admitting_diagnosis\", and \"reason_for_visit\" variables\n",
    "\n",
    "sub_blocks = []\n",
    "for i in range(1, num_spreadsheets+1):\n",
    "    print(f'{i:04}')\n",
    "    diagnosis = pd.read_csv(working_dir + \"diagnosis_NEW_\"+f'{i:04}'+\".csv\", \n",
    "        dtype=d_type_spec)\n",
    "    diagnosis = diagnosis[diagnosis[\"code\"].str.match(\"^J96.12$\")]\n",
    "    sub_blocks.append(diagnosis)\n",
    "    del diagnosis\n",
    "\n",
    "HAS_J9612 = pd.concat(sub_blocks, ignore_index = True)\n",
    "HAS_J9612.to_csv(working_dir +\"HAS_J9612.csv\", index = False)\n",
    "display(HAS_J9612.head())\n",
    "print(\"\\n\")\n",
    "print(HAS_J9612.shape)\n",
    "print(\"\\n\")\n",
    "print(HAS_J9612[\"code\"].value_counts())"
   ]
  },
  {
   "cell_type": "markdown",
   "id": "ef35a2fd",
   "metadata": {},
   "source": [
    "### #############################################################################################"
   ]
  },
  {
   "cell_type": "markdown",
   "id": "29b3cba9",
   "metadata": {},
   "source": [
    "# Acute on Chronic Respiratory Failure with Hypercapnia\n",
    "### ICD-10: J96.22 - Acute on Chronic Respiratory Failure with Hypercapnia"
   ]
  },
  {
   "cell_type": "code",
   "execution_count": null,
   "id": "a1a0d6a4",
   "metadata": {},
   "outputs": [],
   "source": [
    "# ICD-10: J96.22 - Acute on Chronic Respiratory Failure with Hypercapnia\n",
    "# With new \"principal_diagnosis_indicator\", \"admitting_diagnosis\", and \"reason_for_visit\" variables\n",
    "\n",
    "sub_blocks = []\n",
    "for i in range(1, num_spreadsheets+1):\n",
    "    print(f'{i:04}')\n",
    "    diagnosis = pd.read_csv(working_dir + \"diagnosis_NEW_\"+f'{i:04}'+\".csv\", \n",
    "        dtype=d_type_spec)\n",
    "    diagnosis = diagnosis[diagnosis[\"code\"].str.match(\"^J96.22$\")]\n",
    "    sub_blocks.append(diagnosis)\n",
    "    del diagnosis\n",
    "\n",
    "HAS_J9622 = pd.concat(sub_blocks, ignore_index = True)\n",
    "HAS_J9622.to_csv(working_dir +\"HAS_J9622.csv\", index = False)\n",
    "display(HAS_J9622.head())\n",
    "print(\"\\n\")\n",
    "print(HAS_J9622.shape)\n",
    "print(\"\\n\")\n",
    "print(HAS_J9622[\"code\"].value_counts())"
   ]
  },
  {
   "cell_type": "markdown",
   "id": "d3adf91b",
   "metadata": {},
   "source": [
    "### #############################################################################################"
   ]
  },
  {
   "cell_type": "markdown",
   "id": "d7a69dca",
   "metadata": {},
   "source": [
    "# Acute respiratory Failure with Hypercapnia\n",
    "### ICD-10: J96.02 - Acute respiratory Failure with Hypercapnia"
   ]
  },
  {
   "cell_type": "code",
   "execution_count": null,
   "id": "2b0a53d6",
   "metadata": {},
   "outputs": [],
   "source": [
    "# ICD-10: J96.02 - Acute respiratory Failure with Hypercapnia\n",
    "# With new \"principal_diagnosis_indicator\", \"admitting_diagnosis\", and \"reason_for_visit\" variables\n",
    "\n",
    "sub_blocks = []\n",
    "for i in range(1, num_spreadsheets+1):\n",
    "    print(f'{i:04}')\n",
    "    diagnosis = pd.read_csv(working_dir + \"diagnosis_NEW_\"+f'{i:04}'+\".csv\", \n",
    "        dtype=d_type_spec)\n",
    "    diagnosis = diagnosis[diagnosis[\"code\"].str.match(\"^J96.02$\")]\n",
    "    sub_blocks.append(diagnosis)\n",
    "    del diagnosis\n",
    "\n",
    "HAS_J9602 = pd.concat(sub_blocks, ignore_index = True)\n",
    "HAS_J9602.to_csv(working_dir +\"HAS_J9602.csv\", index = False)\n",
    "display(HAS_J9602.head())\n",
    "print(\"\\n\")\n",
    "print(HAS_J9602.shape)\n",
    "print(\"\\n\")\n",
    "print(HAS_J9602[\"code\"].value_counts())"
   ]
  },
  {
   "cell_type": "markdown",
   "id": "d1fb4759",
   "metadata": {},
   "source": [
    "### #############################################################################################"
   ]
  },
  {
   "cell_type": "markdown",
   "id": "822ab6dc",
   "metadata": {},
   "source": [
    "# Respiratory Failure Unspecified with Hypercapnia\n",
    "### ICD-10: J96.92 - Respiratory Failure Unspecified with Hypercapnia"
   ]
  },
  {
   "cell_type": "code",
   "execution_count": null,
   "id": "d9c8f53d",
   "metadata": {},
   "outputs": [],
   "source": [
    "# ICD-10: J96.92 - Respiratory Failure Unspecified with Hypercapnia\n",
    "# With new \"principal_diagnosis_indicator\", \"admitting_diagnosis\", and \"reason_for_visit\" variables\n",
    "\n",
    "sub_blocks = []\n",
    "for i in range(1, num_spreadsheets+1):\n",
    "    print(f'{i:04}')\n",
    "    diagnosis = pd.read_csv(working_dir + \"diagnosis_NEW_\"+f'{i:04}'+\".csv\", \n",
    "        dtype=d_type_spec)\n",
    "    diagnosis = diagnosis[diagnosis[\"code\"].str.match(\"^J96.92$\")]\n",
    "    sub_blocks.append(diagnosis)\n",
    "    del diagnosis\n",
    "\n",
    "HAS_J9692 = pd.concat(sub_blocks, ignore_index = True)\n",
    "HAS_J9692.to_csv(working_dir +\"HAS_J9692.csv\", index = False)\n",
    "display(HAS_J9692.head())\n",
    "print(\"\\n\")\n",
    "print(HAS_J9692.shape)\n",
    "print(\"\\n\")\n",
    "print(HAS_J9692[\"code\"].value_counts())"
   ]
  },
  {
   "cell_type": "markdown",
   "id": "855aa947",
   "metadata": {},
   "source": [
    "### #############################################################################################"
   ]
  },
  {
   "cell_type": "markdown",
   "id": "c9aaff64",
   "metadata": {},
   "source": [
    "# Morbid Obesity with Hypoventilation\n",
    "### ICD-10: E66.2 - Morbid Obesity with Hypoventilation"
   ]
  },
  {
   "cell_type": "code",
   "execution_count": null,
   "id": "4623dd20",
   "metadata": {},
   "outputs": [],
   "source": [
    "# ICD-10: E66.2 - Morbid Obesity with Hypoventilation\n",
    "# With new \"principal_diagnosis_indicator\", \"admitting_diagnosis\", and \"reason_for_visit\" variables\n",
    "\n",
    "sub_blocks = []\n",
    "for i in range(1, num_spreadsheets+1):\n",
    "    print(f'{i:04}')\n",
    "    diagnosis = pd.read_csv(working_dir + \"diagnosis_NEW_\"+f'{i:04}'+\".csv\", \n",
    "        dtype=d_type_spec)\n",
    "    diagnosis = diagnosis[diagnosis[\"code\"].str.match(\"^E66.2$\")]\n",
    "    sub_blocks.append(diagnosis)\n",
    "    del diagnosis\n",
    "\n",
    "HAS_E662 = pd.concat(sub_blocks, ignore_index = True)\n",
    "HAS_E662.to_csv(working_dir +\"HAS_E662.csv\", index = False)\n",
    "display(HAS_E662.head())\n",
    "print(\"\\n\")\n",
    "print(HAS_E662.shape)\n",
    "print(\"\\n\")\n",
    "print(HAS_E662[\"code\"].value_counts())"
   ]
  },
  {
   "cell_type": "markdown",
   "id": "9de00a3a",
   "metadata": {},
   "source": [
    "### #############################################################################################"
   ]
  },
  {
   "cell_type": "markdown",
   "id": "304ba433",
   "metadata": {},
   "source": [
    "# Acute Respiratory Failure, Unspecified Whether Hypoxia or Hypercapnia\n",
    "### ICD-10: J96.00 - Acute Respiratory Failure, Unspecified Whether Hypoxia or Hypercapnia"
   ]
  },
  {
   "cell_type": "code",
   "execution_count": null,
   "id": "d3b3d565",
   "metadata": {},
   "outputs": [],
   "source": [
    "# ICD-10: J96.00 - Acute Respiratory Failure, Unspecified Whether Hypoxia or Hypercapnia\n",
    "\n",
    "sub_blocks = []\n",
    "for i in range(1, num_spreadsheets+1):\n",
    "    print(f'{i:04}')\n",
    "    diagnosis = pd.read_csv(working_dir + \"diagnosis_NEW_\"+f'{i:04}'+\".csv\", \n",
    "        dtype=d_type_spec)\n",
    "    diagnosis = diagnosis[diagnosis[\"code\"].str.match(\"^J96.00$\")]\n",
    "    sub_blocks.append(diagnosis)\n",
    "    del diagnosis\n",
    "\n",
    "HAS_J9600 = pd.concat(sub_blocks, ignore_index = True)\n",
    "HAS_J9600.to_csv(working_dir +\"HAS_J9600.csv\", index = False)\n",
    "display(HAS_J9600.head())\n",
    "print(\"\\n\")\n",
    "print(HAS_J9600.shape)\n",
    "print(\"\\n\")\n",
    "print(HAS_J9600[\"code\"].value_counts())"
   ]
  },
  {
   "cell_type": "markdown",
   "id": "93b8d5bd",
   "metadata": {},
   "source": [
    "### #############################################################################################"
   ]
  },
  {
   "cell_type": "markdown",
   "id": "ea257bad",
   "metadata": {},
   "source": [
    "# Acute Respiratory Failure, with Hypoxia\n",
    "### ICD-10: J96.01 - Acute Respiratory Failure, with Hypoxia"
   ]
  },
  {
   "cell_type": "code",
   "execution_count": null,
   "id": "091b5a87",
   "metadata": {},
   "outputs": [],
   "source": [
    "# ICD-10: J96.01 - Acute Respiratory Failure, with Hypoxia\n",
    "\n",
    "sub_blocks = []\n",
    "for i in range(1, num_spreadsheets+1):\n",
    "    print(f'{i:04}')\n",
    "    diagnosis = pd.read_csv(working_dir + \"diagnosis_NEW_\"+f'{i:04}'+\".csv\", \n",
    "        dtype=d_type_spec)\n",
    "    diagnosis = diagnosis[diagnosis[\"code\"].str.match(\"^J96.01$\")]\n",
    "    sub_blocks.append(diagnosis)\n",
    "    del diagnosis\n",
    "\n",
    "HAS_J9601 = pd.concat(sub_blocks, ignore_index = True)\n",
    "HAS_J9601.to_csv(working_dir +\"HAS_J9601.csv\", index = False)\n",
    "display(HAS_J9601.head())\n",
    "print(\"\\n\")\n",
    "print(HAS_J9601.shape)\n",
    "print(\"\\n\")\n",
    "print(HAS_J9601[\"code\"].value_counts())"
   ]
  },
  {
   "cell_type": "markdown",
   "id": "9edbc956",
   "metadata": {},
   "source": [
    "### #############################################################################################"
   ]
  },
  {
   "cell_type": "markdown",
   "id": "e545bbd6",
   "metadata": {},
   "source": [
    "# Chronic Respiratory Failure\n",
    "### ICD-10: J96.1 - Chronic Respiratory Failure"
   ]
  },
  {
   "cell_type": "code",
   "execution_count": null,
   "id": "e4af95ff",
   "metadata": {},
   "outputs": [],
   "source": [
    "# ICD-10: J96.1 - Chronic Respiratory Failure\n",
    "\n",
    "sub_blocks = []\n",
    "for i in range(1, num_spreadsheets+1):\n",
    "    print(f'{i:04}')\n",
    "    diagnosis = pd.read_csv(working_dir + \"diagnosis_NEW_\"+f'{i:04}'+\".csv\", \n",
    "        dtype=d_type_spec)\n",
    "    diagnosis = diagnosis[diagnosis[\"code\"].str.match(\"^J96.1$\")]\n",
    "    sub_blocks.append(diagnosis)\n",
    "    del diagnosis\n",
    "\n",
    "HAS_J961 = pd.concat(sub_blocks, ignore_index = True)\n",
    "HAS_J961.to_csv(working_dir +\"HAS_J961.csv\", index = False)\n",
    "display(HAS_J961.head())\n",
    "print(\"\\n\")\n",
    "print(HAS_J961.shape)\n",
    "print(\"\\n\")\n",
    "print(HAS_J961[\"code\"].value_counts())"
   ]
  },
  {
   "cell_type": "markdown",
   "id": "389fb74a",
   "metadata": {},
   "source": [
    "### #############################################################################################"
   ]
  },
  {
   "cell_type": "markdown",
   "id": "33bbfd51",
   "metadata": {},
   "source": [
    "# Chronic Respiratory Failure, Unspecified Whether Hypoxia or Hypercapnia \n",
    "### ICD-10: J96.10 - Chronic Respiratory Failure, Unspecified Whether Hypoxia or Hypercapnia "
   ]
  },
  {
   "cell_type": "code",
   "execution_count": null,
   "id": "0aa78a65",
   "metadata": {},
   "outputs": [],
   "source": [
    "# ICD-10: J96.10 - Chronic Respiratory Failure, Unspecified Whether Hypoxia or Hypercapnia \n",
    "\n",
    "sub_blocks = []\n",
    "for i in range(1, num_spreadsheets+1):\n",
    "    print(f'{i:04}')\n",
    "    diagnosis = pd.read_csv(working_dir + \"diagnosis_NEW_\"+f'{i:04}'+\".csv\", \n",
    "        dtype=d_type_spec)\n",
    "    diagnosis = diagnosis[diagnosis[\"code\"].str.match(\"^J96.10$\")]\n",
    "    sub_blocks.append(diagnosis)\n",
    "    del diagnosis\n",
    "\n",
    "HAS_J9610 = pd.concat(sub_blocks, ignore_index = True)\n",
    "HAS_J9610.to_csv(working_dir +\"HAS_J9610.csv\", index = False)\n",
    "display(HAS_J9610.head())\n",
    "print(\"\\n\")\n",
    "print(HAS_J9610.shape)\n",
    "print(\"\\n\")\n",
    "print(HAS_J9610[\"code\"].value_counts())"
   ]
  },
  {
   "cell_type": "markdown",
   "id": "8fd752fe",
   "metadata": {},
   "source": [
    "### #############################################################################################"
   ]
  },
  {
   "cell_type": "markdown",
   "id": "7cc9f547",
   "metadata": {},
   "source": [
    "# Chronic Respiratory Failure with Hypoxia\n",
    "### ICD-10: J96.11 - Chronic Respiratory Failure with Hypoxia"
   ]
  },
  {
   "cell_type": "code",
   "execution_count": null,
   "id": "69786ee1",
   "metadata": {},
   "outputs": [],
   "source": [
    "# ICD-10: J96.11 - Chronic Respiratory Failure with Hypoxia\n",
    "\n",
    "sub_blocks = []\n",
    "for i in range(1, num_spreadsheets+1):\n",
    "    print(f'{i:04}')\n",
    "    diagnosis = pd.read_csv(working_dir + \"diagnosis_NEW_\"+f'{i:04}'+\".csv\", \n",
    "        dtype=d_type_spec)\n",
    "    diagnosis = diagnosis[diagnosis[\"code\"].str.match(\"^J96.11$\")]\n",
    "    sub_blocks.append(diagnosis)\n",
    "    del diagnosis\n",
    "\n",
    "HAS_J9611 = pd.concat(sub_blocks, ignore_index = True)\n",
    "HAS_J9611.to_csv(working_dir +\"HAS_J9611.csv\", index = False)\n",
    "display(HAS_J9611.head())\n",
    "print(\"\\n\")\n",
    "print(HAS_J9611.shape)\n",
    "print(\"\\n\")\n",
    "print(HAS_J9611[\"code\"].value_counts())"
   ]
  },
  {
   "cell_type": "markdown",
   "id": "98a2fa2f",
   "metadata": {},
   "source": [
    "### #############################################################################################"
   ]
  },
  {
   "cell_type": "markdown",
   "id": "40d3320f",
   "metadata": {},
   "source": [
    "# Acute and Chronic Respiratory Failure\n",
    "### ICD-10: J96.2 - Acute and Chronic Respiratory Failure"
   ]
  },
  {
   "cell_type": "code",
   "execution_count": null,
   "id": "d528b9de",
   "metadata": {},
   "outputs": [],
   "source": [
    "# ICD-10: J96.2 - Acute and Chronic Respiratory Failure\n",
    "\n",
    "sub_blocks = []\n",
    "for i in range(1, num_spreadsheets+1):\n",
    "    print(f'{i:04}')\n",
    "    diagnosis = pd.read_csv(working_dir + \"diagnosis_NEW_\"+f'{i:04}'+\".csv\", \n",
    "        dtype=d_type_spec)\n",
    "    diagnosis = diagnosis[diagnosis[\"code\"].str.match(\"^J96.2$\")]\n",
    "    sub_blocks.append(diagnosis)\n",
    "    del diagnosis\n",
    "\n",
    "HAS_J962 = pd.concat(sub_blocks, ignore_index = True)\n",
    "HAS_J962.to_csv(working_dir +\"HAS_J962.csv\", index = False)\n",
    "display(HAS_J962.head())\n",
    "print(\"\\n\")\n",
    "print(HAS_J962.shape)\n",
    "print(\"\\n\")\n",
    "print(HAS_J962[\"code\"].value_counts())"
   ]
  },
  {
   "cell_type": "markdown",
   "id": "5b3ff40f",
   "metadata": {},
   "source": [
    "### #############################################################################################"
   ]
  },
  {
   "cell_type": "markdown",
   "id": "dd9b519c",
   "metadata": {},
   "source": [
    "# Acute and Chronic Respiratory Failure, Unspecified Whether Hypoxia or Hypercapnia\n",
    "### ICD-10: J96.20 - Acute and Chronic Respiratory Failure, Unspecified Whether Hypoxia or Hypercapnia"
   ]
  },
  {
   "cell_type": "code",
   "execution_count": null,
   "id": "714937d4",
   "metadata": {},
   "outputs": [],
   "source": [
    "# ICD-10: J96.20 - Acute and Chronic Respiratory Failure, Unspecified Whether Hypoxia or Hypercapnia\n",
    "\n",
    "sub_blocks = []\n",
    "for i in range(1, num_spreadsheets+1):\n",
    "    print(f'{i:04}')\n",
    "    diagnosis = pd.read_csv(working_dir + \"diagnosis_NEW_\"+f'{i:04}'+\".csv\", \n",
    "        dtype=d_type_spec)\n",
    "    diagnosis = diagnosis[diagnosis[\"code\"].str.match(\"^J96.20$\")]\n",
    "    sub_blocks.append(diagnosis)\n",
    "    del diagnosis\n",
    "\n",
    "HAS_J9620 = pd.concat(sub_blocks, ignore_index = True)\n",
    "HAS_J9620.to_csv(working_dir +\"HAS_J9620.csv\", index = False)\n",
    "display(HAS_J9620.head())\n",
    "print(\"\\n\")\n",
    "print(HAS_J9620.shape)\n",
    "print(\"\\n\")\n",
    "print(HAS_J9620[\"code\"].value_counts())"
   ]
  },
  {
   "cell_type": "markdown",
   "id": "539134ef",
   "metadata": {},
   "source": [
    "### #############################################################################################"
   ]
  },
  {
   "cell_type": "markdown",
   "id": "0fbe23ac",
   "metadata": {},
   "source": [
    "# Acute and Chronic Respiratory Failure, with Hypoxia\n",
    "### ICD-10: J96.21 - Acute and Chronic Respiratory Failure, with Hypoxia"
   ]
  },
  {
   "cell_type": "code",
   "execution_count": null,
   "id": "fabfe190",
   "metadata": {},
   "outputs": [],
   "source": [
    "# ICD-10: J96.21 - Acute and Chronic Respiratory Failure, with Hypoxia\n",
    "\n",
    "sub_blocks = []\n",
    "for i in range(1, num_spreadsheets+1):\n",
    "    print(f'{i:04}')\n",
    "    diagnosis = pd.read_csv(working_dir + \"diagnosis_NEW_\"+f'{i:04}'+\".csv\", \n",
    "        dtype=d_type_spec)\n",
    "    diagnosis = diagnosis[diagnosis[\"code\"].str.match(\"^J96.21$\")]\n",
    "    sub_blocks.append(diagnosis)\n",
    "    del diagnosis\n",
    "\n",
    "HAS_J9621 = pd.concat(sub_blocks, ignore_index = True)\n",
    "HAS_J9621.to_csv(working_dir +\"HAS_J9621.csv\", index = False)\n",
    "display(HAS_J9621.head())\n",
    "print(\"\\n\")\n",
    "print(HAS_J9621.shape)\n",
    "print(\"\\n\")\n",
    "print(HAS_J9621[\"code\"].value_counts())"
   ]
  },
  {
   "cell_type": "markdown",
   "id": "26be3bbe",
   "metadata": {},
   "source": [
    "### #############################################################################################"
   ]
  },
  {
   "cell_type": "markdown",
   "id": "660cedb9",
   "metadata": {},
   "source": [
    "# Respiratory Failure, Unspecified Whether with Hypoxia or Hypercapnia\n",
    "### ICD-10: J96.90 - Respiratory Failure, Unspecified Whether with Hypoxia or Hypercapnia"
   ]
  },
  {
   "cell_type": "code",
   "execution_count": null,
   "id": "432e73b7",
   "metadata": {},
   "outputs": [],
   "source": [
    "# ICD-10: J96.90 - Respiratory Failure, Unspecified Whether with Hypoxia or Hypercapnia\n",
    "\n",
    "sub_blocks = []\n",
    "for i in range(1, num_spreadsheets+1):\n",
    "    print(f'{i:04}')\n",
    "    diagnosis = pd.read_csv(working_dir + \"diagnosis_NEW_\"+f'{i:04}'+\".csv\", \n",
    "        dtype=d_type_spec)\n",
    "    diagnosis = diagnosis[diagnosis[\"code\"].str.match(\"^J96.90$\")]\n",
    "    sub_blocks.append(diagnosis)\n",
    "    del diagnosis\n",
    "\n",
    "HAS_J9690 = pd.concat(sub_blocks, ignore_index = True)\n",
    "HAS_J9690.to_csv(working_dir +\"HAS_J9690.csv\", index = False)\n",
    "display(HAS_J9690.head())\n",
    "print(\"\\n\")\n",
    "print(HAS_J9690.shape)\n",
    "print(\"\\n\")\n",
    "print(HAS_J9690[\"code\"].value_counts())"
   ]
  },
  {
   "cell_type": "markdown",
   "id": "d70f0b1f",
   "metadata": {},
   "source": [
    "### #############################################################################################"
   ]
  },
  {
   "cell_type": "markdown",
   "id": "b622e134",
   "metadata": {},
   "source": [
    "# Respiratory Failure, Unspecified with Hypoxia\n",
    "### ICD-10: J96.91 - Respiratory Failure, Unspecified with Hypoxia"
   ]
  },
  {
   "cell_type": "code",
   "execution_count": null,
   "id": "768ea695",
   "metadata": {},
   "outputs": [],
   "source": [
    "# ICD-10: J96.91 - Respiratory Failure, Unspecified with Hypoxia\n",
    "\n",
    "sub_blocks = []\n",
    "for i in range(1, num_spreadsheets+1):\n",
    "    print(f'{i:04}')\n",
    "    diagnosis = pd.read_csv(working_dir + \"diagnosis_NEW_\"+f'{i:04}'+\".csv\", \n",
    "        dtype=d_type_spec)\n",
    "    diagnosis = diagnosis[diagnosis[\"code\"].str.match(\"^J96.91$\")]\n",
    "    sub_blocks.append(diagnosis)\n",
    "    del diagnosis\n",
    "\n",
    "HAS_J9691 = pd.concat(sub_blocks, ignore_index = True)\n",
    "HAS_J9691.to_csv(working_dir +\"HAS_J9691.csv\", index = False)\n",
    "display(HAS_J9691.head())\n",
    "print(\"\\n\")\n",
    "print(HAS_J9691.shape)\n",
    "print(\"\\n\")\n",
    "print(HAS_J9691[\"code\"].value_counts())"
   ]
  },
  {
   "cell_type": "markdown",
   "id": "728a309f",
   "metadata": {},
   "source": [
    "### #############################################################################################"
   ]
  },
  {
   "cell_type": "markdown",
   "id": "2f4a5766",
   "metadata": {},
   "source": [
    "# Abnormalities of Breathing\n",
    "### ICD-10: R06 - Abnormalities of Breathing"
   ]
  },
  {
   "cell_type": "code",
   "execution_count": null,
   "id": "29c58ee8",
   "metadata": {},
   "outputs": [],
   "source": [
    "# ICD-10: R06 - Abnormalities of Breathing\n",
    "\n",
    "sub_blocks = []\n",
    "for i in range(1, num_spreadsheets+1):\n",
    "    print(f'{i:04}')\n",
    "    diagnosis = pd.read_csv(working_dir + \"diagnosis_NEW_\"+f'{i:04}'+\".csv\", \n",
    "        dtype=d_type_spec)\n",
    "    diagnosis = diagnosis[diagnosis[\"code\"].str.match(\"^R06$\")]\n",
    "    sub_blocks.append(diagnosis)\n",
    "    del diagnosis\n",
    "\n",
    "HAS_R06 = pd.concat(sub_blocks, ignore_index = True)\n",
    "HAS_R06.to_csv(working_dir +\"HAS_R06.csv\", index = False)\n",
    "display(HAS_R06.head())\n",
    "print(\"\\n\")\n",
    "print(HAS_R06.shape)\n",
    "print(\"\\n\")\n",
    "print(HAS_R06[\"code\"].value_counts())"
   ]
  },
  {
   "cell_type": "markdown",
   "id": "66280856",
   "metadata": {},
   "source": [
    "### #############################################################################################"
   ]
  },
  {
   "cell_type": "markdown",
   "id": "83ce7235",
   "metadata": {},
   "source": [
    "# Dyspnea\n",
    "### ICD-10: R06.0 - Dyspnea"
   ]
  },
  {
   "cell_type": "code",
   "execution_count": null,
   "id": "1c5ec53f",
   "metadata": {},
   "outputs": [],
   "source": [
    "# ICD-10: R06.0 - Dyspnea\n",
    "\n",
    "sub_blocks = []\n",
    "for i in range(1, num_spreadsheets+1):\n",
    "    print(f'{i:04}')\n",
    "    diagnosis = pd.read_csv(working_dir + \"diagnosis_NEW_\"+f'{i:04}'+\".csv\", \n",
    "        dtype=d_type_spec)\n",
    "    diagnosis = diagnosis[diagnosis[\"code\"].str.match(\"^R06.0$\")]\n",
    "    sub_blocks.append(diagnosis)\n",
    "    del diagnosis\n",
    "\n",
    "HAS_R060 = pd.concat(sub_blocks, ignore_index = True)\n",
    "HAS_R060.to_csv(working_dir +\"HAS_R060.csv\", index = False)\n",
    "display(HAS_R060.head())\n",
    "print(\"\\n\")\n",
    "print(HAS_R060.shape)\n",
    "print(\"\\n\")\n",
    "print(HAS_R060[\"code\"].value_counts())"
   ]
  },
  {
   "cell_type": "markdown",
   "id": "c9a8f6d8",
   "metadata": {},
   "source": [
    "### #############################################################################################"
   ]
  },
  {
   "cell_type": "markdown",
   "id": "7bc9f294",
   "metadata": {},
   "source": [
    "# Dyspnea Unspecified\n",
    "### ICD-10: R06.00 - Dyspnea Unspecified"
   ]
  },
  {
   "cell_type": "code",
   "execution_count": null,
   "id": "b6429175",
   "metadata": {},
   "outputs": [],
   "source": [
    "# ICD-10: R06.00 - Dyspnea Unspecified\n",
    "\n",
    "sub_blocks = []\n",
    "for i in range(1, num_spreadsheets+1):\n",
    "    print(f'{i:04}')\n",
    "    diagnosis = pd.read_csv(working_dir + \"diagnosis_NEW_\"+f'{i:04}'+\".csv\", \n",
    "        dtype=d_type_spec)\n",
    "    diagnosis = diagnosis[diagnosis[\"code\"].str.match(\"^R06.00$\")]\n",
    "    sub_blocks.append(diagnosis)\n",
    "    del diagnosis\n",
    "\n",
    "HAS_R0600 = pd.concat(sub_blocks, ignore_index = True)\n",
    "HAS_R0600.to_csv(working_dir +\"HAS_R0600.csv\", index = False)\n",
    "display(HAS_R0600.head())\n",
    "print(\"\\n\")\n",
    "print(HAS_R0600.shape)\n",
    "print(\"\\n\")\n",
    "print(HAS_R0600[\"code\"].value_counts())"
   ]
  },
  {
   "cell_type": "markdown",
   "id": "8a2e3aa6",
   "metadata": {},
   "source": [
    "### #############################################################################################"
   ]
  },
  {
   "cell_type": "markdown",
   "id": "0ba50022",
   "metadata": {},
   "source": [
    "# Orthopnea\n",
    "### ICD-10: R06.01 - Orthopnea"
   ]
  },
  {
   "cell_type": "code",
   "execution_count": null,
   "id": "c752740e",
   "metadata": {},
   "outputs": [],
   "source": [
    "# ICD-10: R06.01 - Orthopnea\n",
    "\n",
    "sub_blocks = []\n",
    "for i in range(1, num_spreadsheets+1):\n",
    "    print(f'{i:04}')\n",
    "    diagnosis = pd.read_csv(working_dir + \"diagnosis_NEW_\"+f'{i:04}'+\".csv\", \n",
    "        dtype=d_type_spec)\n",
    "    diagnosis = diagnosis[diagnosis[\"code\"].str.match(\"^R06.01$\")]\n",
    "    sub_blocks.append(diagnosis)\n",
    "    del diagnosis\n",
    "\n",
    "HAS_R0601 = pd.concat(sub_blocks, ignore_index = True)\n",
    "HAS_R0601.to_csv(working_dir +\"HAS_R0601.csv\", index = False)\n",
    "display(HAS_R0601.head())\n",
    "print(\"\\n\")\n",
    "print(HAS_R0601.shape)\n",
    "print(\"\\n\")\n",
    "print(HAS_R0601[\"code\"].value_counts())"
   ]
  },
  {
   "cell_type": "markdown",
   "id": "41b0715d",
   "metadata": {},
   "source": [
    "### #############################################################################################"
   ]
  },
  {
   "cell_type": "markdown",
   "id": "68e9e822",
   "metadata": {},
   "source": [
    "# Shortness of Breath\n",
    "### ICD-10: R06.02 - Shortness of Breath"
   ]
  },
  {
   "cell_type": "code",
   "execution_count": null,
   "id": "66bd6781",
   "metadata": {},
   "outputs": [],
   "source": [
    "# ICD-10: R06.02 - Shortness of Breath\n",
    "\n",
    "sub_blocks = []\n",
    "for i in range(1, num_spreadsheets+1):\n",
    "    print(f'{i:04}')\n",
    "    diagnosis = pd.read_csv(working_dir + \"diagnosis_NEW_\"+f'{i:04}'+\".csv\", \n",
    "        dtype=d_type_spec)\n",
    "    diagnosis = diagnosis[diagnosis[\"code\"].str.match(\"^R06.02$\")]\n",
    "    sub_blocks.append(diagnosis)\n",
    "    del diagnosis\n",
    "\n",
    "HAS_R0602 = pd.concat(sub_blocks, ignore_index = True)\n",
    "HAS_R0602.to_csv(working_dir +\"HAS_R0602.csv\", index = False)\n",
    "display(HAS_R0602.head())\n",
    "print(\"\\n\")\n",
    "print(HAS_R0602.shape)\n",
    "print(\"\\n\")\n",
    "print(HAS_R0602[\"code\"].value_counts())"
   ]
  },
  {
   "cell_type": "markdown",
   "id": "1580520a",
   "metadata": {},
   "source": [
    "### #############################################################################################"
   ]
  },
  {
   "cell_type": "markdown",
   "id": "65db6803",
   "metadata": {},
   "source": [
    "# Acute Respiratory Distress\n",
    "### ICD-10: R06.03 - Acute Respiratory Distress"
   ]
  },
  {
   "cell_type": "code",
   "execution_count": null,
   "id": "432e5bd1",
   "metadata": {},
   "outputs": [],
   "source": [
    "# ICD-10: R06.03 - Acute Respiratory Distress\n",
    "\n",
    "sub_blocks = []\n",
    "for i in range(1, num_spreadsheets+1):\n",
    "    print(f'{i:04}')\n",
    "    diagnosis = pd.read_csv(working_dir + \"diagnosis_NEW_\"+f'{i:04}'+\".csv\", \n",
    "        dtype=d_type_spec)\n",
    "    diagnosis = diagnosis[diagnosis[\"code\"].str.match(\"^R06.03$\")]\n",
    "    sub_blocks.append(diagnosis)\n",
    "    del diagnosis\n",
    "\n",
    "HAS_R0603 = pd.concat(sub_blocks, ignore_index = True)\n",
    "HAS_R0603.to_csv(working_dir +\"HAS_R0603.csv\", index = False)\n",
    "display(HAS_R0603.head())\n",
    "print(\"\\n\")\n",
    "print(HAS_R0603.shape)\n",
    "print(\"\\n\")\n",
    "print(HAS_R0603[\"code\"].value_counts())"
   ]
  },
  {
   "cell_type": "markdown",
   "id": "03fc79b0",
   "metadata": {},
   "source": [
    "### #############################################################################################"
   ]
  },
  {
   "cell_type": "markdown",
   "id": "805b09ca",
   "metadata": {},
   "source": [
    "# Other Forms of Dyspnea\n",
    "### ICD-10: R06.09 - Other Forms of Dyspnea"
   ]
  },
  {
   "cell_type": "code",
   "execution_count": null,
   "id": "7f4675d9",
   "metadata": {},
   "outputs": [],
   "source": [
    "# ICD-10: R06.09 - Other Forms of Dyspnea\n",
    "\n",
    "sub_blocks = []\n",
    "for i in range(1, num_spreadsheets+1):\n",
    "    print(f'{i:04}')\n",
    "    diagnosis = pd.read_csv(working_dir + \"diagnosis_NEW_\"+f'{i:04}'+\".csv\", \n",
    "        dtype=d_type_spec)\n",
    "    diagnosis = diagnosis[diagnosis[\"code\"].str.match(\"^R06.09$\")]\n",
    "    sub_blocks.append(diagnosis)\n",
    "    del diagnosis\n",
    "\n",
    "HAS_R0609 = pd.concat(sub_blocks, ignore_index = True)\n",
    "HAS_R0609.to_csv(working_dir +\"HAS_R0609.csv\", index = False)\n",
    "display(HAS_R0609.head())\n",
    "print(\"\\n\")\n",
    "print(HAS_R0609.shape)\n",
    "print(\"\\n\")\n",
    "print(HAS_R0609[\"code\"].value_counts())"
   ]
  },
  {
   "cell_type": "markdown",
   "id": "5f9ba3f2",
   "metadata": {},
   "source": [
    "### #############################################################################################"
   ]
  },
  {
   "cell_type": "markdown",
   "id": "4ecb84fc",
   "metadata": {},
   "source": [
    "# Stridor\n",
    "### ICD-10: R06.1 - Stridor"
   ]
  },
  {
   "cell_type": "code",
   "execution_count": null,
   "id": "9f81ffb3",
   "metadata": {},
   "outputs": [],
   "source": [
    "# ICD-10: R06.1 - Stridor\n",
    "\n",
    "sub_blocks = []\n",
    "for i in range(1, num_spreadsheets+1):\n",
    "    print(f'{i:04}')\n",
    "    diagnosis = pd.read_csv(working_dir + \"diagnosis_NEW_\"+f'{i:04}'+\".csv\", \n",
    "        dtype=d_type_spec)\n",
    "    diagnosis = diagnosis[diagnosis[\"code\"].str.match(\"^R06.1$\")]\n",
    "    sub_blocks.append(diagnosis)\n",
    "    del diagnosis\n",
    "\n",
    "HAS_R061 = pd.concat(sub_blocks, ignore_index = True)\n",
    "HAS_R061.to_csv(working_dir +\"HAS_R061.csv\", index = False)\n",
    "display(HAS_R061.head())\n",
    "print(\"\\n\")\n",
    "print(HAS_R061.shape)\n",
    "print(\"\\n\")\n",
    "print(HAS_R061[\"code\"].value_counts())"
   ]
  },
  {
   "cell_type": "markdown",
   "id": "17709053",
   "metadata": {},
   "source": [
    "### #############################################################################################"
   ]
  },
  {
   "cell_type": "markdown",
   "id": "d37f492b",
   "metadata": {},
   "source": [
    "# Wheezing\n",
    "### ICD-10: R06.2 - Wheezing"
   ]
  },
  {
   "cell_type": "code",
   "execution_count": null,
   "id": "0f00cbb1",
   "metadata": {},
   "outputs": [],
   "source": [
    "# ICD-10: R06.2 - Wheezing\n",
    "\n",
    "sub_blocks = []\n",
    "for i in range(1, num_spreadsheets+1):\n",
    "    print(f'{i:04}')\n",
    "    diagnosis = pd.read_csv(working_dir + \"diagnosis_NEW_\"+f'{i:04}'+\".csv\", \n",
    "        dtype=d_type_spec)\n",
    "    diagnosis = diagnosis[diagnosis[\"code\"].str.match(\"^R06.2$\")]\n",
    "    sub_blocks.append(diagnosis)\n",
    "    del diagnosis\n",
    "\n",
    "HAS_R062 = pd.concat(sub_blocks, ignore_index = True)\n",
    "HAS_R062.to_csv(working_dir +\"HAS_R062.csv\", index = False)\n",
    "display(HAS_R062.head())\n",
    "print(\"\\n\")\n",
    "print(HAS_R062.shape)\n",
    "print(\"\\n\")\n",
    "print(HAS_R062[\"code\"].value_counts())"
   ]
  },
  {
   "cell_type": "markdown",
   "id": "32c8e789",
   "metadata": {},
   "source": [
    "### #############################################################################################"
   ]
  },
  {
   "cell_type": "markdown",
   "id": "df9ccea2",
   "metadata": {},
   "source": [
    "# Periodic Breathing\n",
    "### ICD-10: R06.3 - Periodic Breathing"
   ]
  },
  {
   "cell_type": "code",
   "execution_count": null,
   "id": "4987d731",
   "metadata": {},
   "outputs": [],
   "source": [
    "# ICD-10: R06.3 - Periodic Breathing\n",
    "\n",
    "sub_blocks = []\n",
    "for i in range(1, num_spreadsheets+1):\n",
    "    print(f'{i:04}')\n",
    "    diagnosis = pd.read_csv(working_dir + \"diagnosis_NEW_\"+f'{i:04}'+\".csv\", \n",
    "        dtype=d_type_spec)\n",
    "    diagnosis = diagnosis[diagnosis[\"code\"].str.match(\"^R06.3$\")]\n",
    "    sub_blocks.append(diagnosis)\n",
    "    del diagnosis\n",
    "\n",
    "HAS_R063 = pd.concat(sub_blocks, ignore_index = True)\n",
    "HAS_R063.to_csv(working_dir +\"HAS_R063.csv\", index = False)\n",
    "display(HAS_R063.head())\n",
    "print(\"\\n\")\n",
    "print(HAS_R063.shape)\n",
    "print(\"\\n\")\n",
    "print(HAS_R063[\"code\"].value_counts())"
   ]
  },
  {
   "cell_type": "markdown",
   "id": "229c2a13",
   "metadata": {},
   "source": [
    "### #############################################################################################"
   ]
  },
  {
   "cell_type": "markdown",
   "id": "31a80024",
   "metadata": {},
   "source": [
    "# Hyperventilation\n",
    "### ICD-10: R06.4 - Hyperventilation"
   ]
  },
  {
   "cell_type": "code",
   "execution_count": null,
   "id": "225e2ed4",
   "metadata": {},
   "outputs": [],
   "source": [
    "# ICD-10: R06.4 - Hyperventilation\n",
    "\n",
    "sub_blocks = []\n",
    "for i in range(1, num_spreadsheets+1):\n",
    "    print(f'{i:04}')\n",
    "    diagnosis = pd.read_csv(working_dir + \"diagnosis_NEW_\"+f'{i:04}'+\".csv\", \n",
    "        dtype=d_type_spec)\n",
    "    diagnosis = diagnosis[diagnosis[\"code\"].str.match(\"^R06.4$\")]\n",
    "    sub_blocks.append(diagnosis)\n",
    "    del diagnosis\n",
    "\n",
    "HAS_R064 = pd.concat(sub_blocks, ignore_index = True)\n",
    "HAS_R064.to_csv(working_dir +\"HAS_R064.csv\", index = False)\n",
    "display(HAS_R064.head())\n",
    "print(\"\\n\")\n",
    "print(HAS_R064.shape)\n",
    "print(\"\\n\")\n",
    "print(HAS_R064[\"code\"].value_counts())"
   ]
  },
  {
   "cell_type": "markdown",
   "id": "b300374f",
   "metadata": {},
   "source": [
    "### #############################################################################################"
   ]
  },
  {
   "cell_type": "markdown",
   "id": "42220700",
   "metadata": {},
   "source": [
    "# Mouth Breathing\n",
    "### ICD-10: R06.5 - Mouth Breathing"
   ]
  },
  {
   "cell_type": "code",
   "execution_count": null,
   "id": "0501182a",
   "metadata": {},
   "outputs": [],
   "source": [
    "# Mouth Breathing\n",
    "# ICD-10: R06.5 - Mouth Breathing\n",
    "\n",
    "sub_blocks = []\n",
    "for i in range(1, num_spreadsheets+1):\n",
    "    print(f'{i:04}')\n",
    "    diagnosis = pd.read_csv(working_dir + \"diagnosis_NEW_\"+f'{i:04}'+\".csv\", \n",
    "        dtype=d_type_spec)\n",
    "    diagnosis = diagnosis[diagnosis[\"code\"].str.match(\"^R06.5$\")]\n",
    "    sub_blocks.append(diagnosis)\n",
    "    del diagnosis\n",
    "\n",
    "HAS_R065 = pd.concat(sub_blocks, ignore_index = True)\n",
    "HAS_R065.to_csv(working_dir +\"HAS_R065.csv\", index = False)\n",
    "display(HAS_R065.head())\n",
    "print(\"\\n\")\n",
    "print(HAS_R065.shape)\n",
    "print(\"\\n\")\n",
    "print(HAS_R065[\"code\"].value_counts())"
   ]
  },
  {
   "cell_type": "markdown",
   "id": "f983764e",
   "metadata": {},
   "source": [
    "### #############################################################################################"
   ]
  },
  {
   "cell_type": "markdown",
   "id": "04e10339",
   "metadata": {},
   "source": [
    "# Hiccough\n",
    "### ICD-10: R06.6 - Hiccough"
   ]
  },
  {
   "cell_type": "code",
   "execution_count": null,
   "id": "ede831c3",
   "metadata": {},
   "outputs": [],
   "source": [
    "# ICD-10: R06.6 - Hiccough\n",
    "\n",
    "sub_blocks = []\n",
    "for i in range(1, num_spreadsheets+1):\n",
    "    print(f'{i:04}')\n",
    "    diagnosis = pd.read_csv(working_dir + \"diagnosis_NEW_\"+f'{i:04}'+\".csv\", \n",
    "        dtype=d_type_spec)\n",
    "    diagnosis = diagnosis[diagnosis[\"code\"].str.match(\"^R06.6$\")]\n",
    "    sub_blocks.append(diagnosis)\n",
    "    del diagnosis\n",
    "\n",
    "HAS_R066 = pd.concat(sub_blocks, ignore_index = True)\n",
    "HAS_R066.to_csv(working_dir +\"HAS_R066.csv\", index = False)\n",
    "display(HAS_R066.head())\n",
    "print(\"\\n\")\n",
    "print(HAS_R066.shape)\n",
    "print(\"\\n\")\n",
    "print(HAS_R066[\"code\"].value_counts())"
   ]
  },
  {
   "cell_type": "markdown",
   "id": "9b93a9a7",
   "metadata": {},
   "source": [
    "### #############################################################################################"
   ]
  },
  {
   "cell_type": "markdown",
   "id": "59d9588b",
   "metadata": {},
   "source": [
    "# Sneezing\n",
    "### ICD-10: R06.7 - Sneezing"
   ]
  },
  {
   "cell_type": "code",
   "execution_count": null,
   "id": "1ad767bb",
   "metadata": {},
   "outputs": [],
   "source": [
    "# ICD-10: R06.7 - Sneezing\n",
    "\n",
    "sub_blocks = []\n",
    "for i in range(1, num_spreadsheets+1):\n",
    "    print(f'{i:04}')\n",
    "    diagnosis = pd.read_csv(working_dir + \"diagnosis_NEW_\"+f'{i:04}'+\".csv\", \n",
    "        dtype=d_type_spec)\n",
    "    diagnosis = diagnosis[diagnosis[\"code\"].str.match(\"^R06.7$\")]\n",
    "    sub_blocks.append(diagnosis)\n",
    "    del diagnosis\n",
    "\n",
    "HAS_R067 = pd.concat(sub_blocks, ignore_index = True)\n",
    "HAS_R067.to_csv(working_dir +\"HAS_R067.csv\", index = False)\n",
    "display(HAS_R067.head())\n",
    "print(\"\\n\")\n",
    "print(HAS_R067.shape)\n",
    "print(\"\\n\")\n",
    "print(HAS_R067[\"code\"].value_counts())"
   ]
  },
  {
   "cell_type": "markdown",
   "id": "516ff3a3",
   "metadata": {},
   "source": [
    "### #############################################################################################"
   ]
  },
  {
   "cell_type": "markdown",
   "id": "8de2995f",
   "metadata": {},
   "source": [
    "# Other Abnormalities of Breathing\n",
    "### ICD-10: R06.8 - Other Abnormalities of Breathing"
   ]
  },
  {
   "cell_type": "code",
   "execution_count": null,
   "id": "a0eecb76",
   "metadata": {},
   "outputs": [],
   "source": [
    "# ICD-10: R06.8 - Other Abnormalities of Breathing\n",
    "\n",
    "sub_blocks = []\n",
    "for i in range(1, num_spreadsheets+1):\n",
    "    print(f'{i:04}')\n",
    "    diagnosis = pd.read_csv(working_dir + \"diagnosis_NEW_\"+f'{i:04}'+\".csv\", \n",
    "        dtype=d_type_spec)\n",
    "    diagnosis = diagnosis[diagnosis[\"code\"].str.match(\"^R06.8$\")]\n",
    "    sub_blocks.append(diagnosis)\n",
    "    del diagnosis\n",
    "\n",
    "HAS_R068 = pd.concat(sub_blocks, ignore_index = True)\n",
    "HAS_R068.to_csv(working_dir +\"HAS_R068.csv\", index = False)\n",
    "display(HAS_R068.head())\n",
    "print(\"\\n\")\n",
    "print(HAS_R068.shape)\n",
    "print(\"\\n\")\n",
    "print(HAS_R068[\"code\"].value_counts())"
   ]
  },
  {
   "cell_type": "markdown",
   "id": "dddc24a5",
   "metadata": {},
   "source": [
    "### #############################################################################################"
   ]
  },
  {
   "cell_type": "markdown",
   "id": "99575501",
   "metadata": {},
   "source": [
    "# Apnea, Not Elsewhere Classified\n",
    "### ICD-10: R06.81 - Apnea, Not Elsewhere Classified"
   ]
  },
  {
   "cell_type": "code",
   "execution_count": null,
   "id": "06aaa5b5",
   "metadata": {},
   "outputs": [],
   "source": [
    "### ICD-10: R06.81 - Apnea, Not Elsewhere Classified\n",
    "\n",
    "sub_blocks = []\n",
    "for i in range(1, num_spreadsheets+1):\n",
    "    print(f'{i:04}')\n",
    "    diagnosis = pd.read_csv(working_dir + \"diagnosis_NEW_\"+f'{i:04}'+\".csv\", \n",
    "        dtype=d_type_spec)\n",
    "    diagnosis = diagnosis[diagnosis[\"code\"].str.match(\"^R06.81$\")]\n",
    "    sub_blocks.append(diagnosis)\n",
    "    del diagnosis\n",
    "\n",
    "HAS_R0681 = pd.concat(sub_blocks, ignore_index = True)\n",
    "HAS_R0681.to_csv(working_dir +\"HAS_R0681.csv\", index = False)\n",
    "display(HAS_R0681.head())\n",
    "print(\"\\n\")\n",
    "print(HAS_R0681.shape)\n",
    "print(\"\\n\")\n",
    "print(HAS_R0681[\"code\"].value_counts())"
   ]
  },
  {
   "cell_type": "markdown",
   "id": "4976b688",
   "metadata": {},
   "source": [
    "### #############################################################################################"
   ]
  },
  {
   "cell_type": "markdown",
   "id": "4e2ab9a6",
   "metadata": {},
   "source": [
    "# Tachypnea, Not Elsewhere Classified\n",
    "### ICD-10: R06.82 - Tachypnea, Not Elsewhere Classified"
   ]
  },
  {
   "cell_type": "code",
   "execution_count": null,
   "id": "eaa70c32",
   "metadata": {},
   "outputs": [],
   "source": [
    "# ICD-10: R06.82 - Tachypnea, Not Elsewhere Classified\n",
    "\n",
    "sub_blocks = []\n",
    "for i in range(1, num_spreadsheets+1):\n",
    "    print(f'{i:04}')\n",
    "    diagnosis = pd.read_csv(working_dir + \"diagnosis_NEW_\"+f'{i:04}'+\".csv\", \n",
    "        dtype=d_type_spec)\n",
    "    diagnosis = diagnosis[diagnosis[\"code\"].str.match(\"^R06.82$\")]\n",
    "    sub_blocks.append(diagnosis)\n",
    "    del diagnosis\n",
    "\n",
    "HAS_R0682 = pd.concat(sub_blocks, ignore_index = True)\n",
    "HAS_R0682.to_csv(working_dir +\"HAS_R0682.csv\", index = False)\n",
    "display(HAS_R0682.head())\n",
    "print(\"\\n\")\n",
    "print(HAS_R0682.shape)\n",
    "print(\"\\n\")\n",
    "print(HAS_R0682[\"code\"].value_counts())"
   ]
  },
  {
   "cell_type": "markdown",
   "id": "7954797d",
   "metadata": {},
   "source": [
    "### #############################################################################################"
   ]
  },
  {
   "cell_type": "markdown",
   "id": "73d9e60f",
   "metadata": {},
   "source": [
    "# Snoring\n",
    "### ICD-10: R06.83 - Snoring"
   ]
  },
  {
   "cell_type": "code",
   "execution_count": null,
   "id": "1dd0670a",
   "metadata": {},
   "outputs": [],
   "source": [
    "### ICD-10: R06.83 - Snoring\n",
    "\n",
    "sub_blocks = []\n",
    "for i in range(1, num_spreadsheets+1):\n",
    "    print(f'{i:04}')\n",
    "    diagnosis = pd.read_csv(working_dir + \"diagnosis_NEW_\"+f'{i:04}'+\".csv\", \n",
    "        dtype=d_type_spec)\n",
    "    diagnosis = diagnosis[diagnosis[\"code\"].str.match(\"^R06.83$\")]\n",
    "    sub_blocks.append(diagnosis)\n",
    "    del diagnosis\n",
    "\n",
    "HAS_R0683 = pd.concat(sub_blocks, ignore_index = True)\n",
    "HAS_R0683.to_csv(working_dir +\"HAS_R0683.csv\", index = False)\n",
    "display(HAS_R0683.head())\n",
    "print(\"\\n\")\n",
    "print(HAS_R0683.shape)\n",
    "print(\"\\n\")\n",
    "print(HAS_R0683[\"code\"].value_counts())"
   ]
  },
  {
   "cell_type": "markdown",
   "id": "de5ea38c",
   "metadata": {},
   "source": [
    "### #############################################################################################"
   ]
  },
  {
   "cell_type": "markdown",
   "id": "4e1f04fb",
   "metadata": {},
   "source": [
    "# Other Abnormalities of Breathing\n",
    "### ICD-10: R06.89 - Other Abnormalities of Breathing"
   ]
  },
  {
   "cell_type": "code",
   "execution_count": null,
   "id": "b93923ef",
   "metadata": {},
   "outputs": [],
   "source": [
    "# ICD-10: R06.89 - Other Abnormalities of Breathing\n",
    "\n",
    "sub_blocks = []\n",
    "for i in range(1, num_spreadsheets+1):\n",
    "    print(f'{i:04}')\n",
    "    diagnosis = pd.read_csv(working_dir + \"diagnosis_NEW_\"+f'{i:04}'+\".csv\", \n",
    "        dtype=d_type_spec)\n",
    "    diagnosis = diagnosis[diagnosis[\"code\"].str.match(\"^R06.89$\")]\n",
    "    sub_blocks.append(diagnosis)\n",
    "    del diagnosis\n",
    "\n",
    "HAS_R0689 = pd.concat(sub_blocks, ignore_index = True)\n",
    "HAS_R0689.to_csv(working_dir +\"HAS_R0689.csv\", index = False)\n",
    "display(HAS_R0689.head())\n",
    "print(\"\\n\")\n",
    "print(HAS_R0689.shape)\n",
    "print(\"\\n\")\n",
    "print(HAS_R0689[\"code\"].value_counts())"
   ]
  },
  {
   "cell_type": "markdown",
   "id": "fa699e8a",
   "metadata": {},
   "source": [
    "### #############################################################################################"
   ]
  },
  {
   "cell_type": "markdown",
   "id": "0fa30b74",
   "metadata": {},
   "source": [
    "# Unspecified Abnormalities of Breathing\n",
    "### ICD-10: R06.9 - Unspecified Abnormalities of Breathing"
   ]
  },
  {
   "cell_type": "code",
   "execution_count": null,
   "id": "45a4deaa",
   "metadata": {},
   "outputs": [],
   "source": [
    "# ICD-10: R06.9 - Unspecified Abnormalities of Breathing\n",
    "\n",
    "sub_blocks = []\n",
    "for i in range(1, num_spreadsheets+1):\n",
    "    print(f'{i:04}')\n",
    "    diagnosis = pd.read_csv(working_dir + \"diagnosis_NEW_\"+f'{i:04}'+\".csv\", \n",
    "        dtype=d_type_spec)\n",
    "    diagnosis = diagnosis[diagnosis[\"code\"].str.match(\"^R06.9$\")]\n",
    "    sub_blocks.append(diagnosis)\n",
    "    del diagnosis\n",
    "\n",
    "HAS_R069 = pd.concat(sub_blocks, ignore_index = True)\n",
    "HAS_R069.to_csv(working_dir +\"HAS_R069.csv\", index = False)\n",
    "display(HAS_R069.head())\n",
    "print(\"\\n\")\n",
    "print(HAS_R069.shape)\n",
    "print(\"\\n\")\n",
    "print(HAS_R069[\"code\"].value_counts())"
   ]
  },
  {
   "cell_type": "markdown",
   "id": "de734c82",
   "metadata": {},
   "source": [
    "### #############################################################################################"
   ]
  },
  {
   "cell_type": "markdown",
   "id": "3401f34f",
   "metadata": {},
   "source": [
    "# Pulmonary Edema\n",
    "### ICD-10: J81 - Pulmonary Edema"
   ]
  },
  {
   "cell_type": "code",
   "execution_count": null,
   "id": "ebfef50e",
   "metadata": {},
   "outputs": [],
   "source": [
    "# ICD-10: J81 - Pulmonary Edema\n",
    "\n",
    "sub_blocks = []\n",
    "for i in range(1, num_spreadsheets+1):\n",
    "    print(f'{i:04}')\n",
    "    diagnosis = pd.read_csv(working_dir + \"diagnosis_NEW_\"+f'{i:04}'+\".csv\", \n",
    "        dtype=d_type_spec)\n",
    "    diagnosis = diagnosis[diagnosis[\"code\"].str.match(\"^J81.*\")]\n",
    "    sub_blocks.append(diagnosis)\n",
    "    del diagnosis\n",
    "\n",
    "HAS_J81 = pd.concat(sub_blocks, ignore_index = True)\n",
    "HAS_J81.to_csv(working_dir +\"HAS_J81.csv\", index = False)\n",
    "display(HAS_J81.head())\n",
    "print(\"\\n\")\n",
    "print(HAS_J81.shape)\n",
    "print(\"\\n\")\n",
    "print(HAS_J81[\"code\"].value_counts())"
   ]
  },
  {
   "cell_type": "markdown",
   "id": "3f5ad00e",
   "metadata": {},
   "source": [
    "### #############################################################################################"
   ]
  },
  {
   "cell_type": "markdown",
   "id": "37417bae",
   "metadata": {},
   "source": [
    "# Influenza\n",
    "### ICD-10: J09 - Influenza"
   ]
  },
  {
   "cell_type": "code",
   "execution_count": null,
   "id": "ea636659",
   "metadata": {},
   "outputs": [],
   "source": [
    "# ICD-10: J09 - Influenza\n",
    "\n",
    "sub_blocks = []\n",
    "for i in range(1, num_spreadsheets+1):\n",
    "    print(f'{i:04}')\n",
    "    diagnosis = pd.read_csv(working_dir + \"diagnosis_NEW_\"+f'{i:04}'+\".csv\", \n",
    "        dtype=d_type_spec)\n",
    "    diagnosis = diagnosis[diagnosis[\"code\"].str.match(\"^J09.*\")]\n",
    "    sub_blocks.append(diagnosis)\n",
    "    del diagnosis\n",
    "\n",
    "HAS_J09 = pd.concat(sub_blocks, ignore_index = True)\n",
    "HAS_J09.to_csv(working_dir +\"HAS_J09.csv\", index = False)\n",
    "display(HAS_J09.head())\n",
    "print(\"\\n\")\n",
    "print(HAS_J09.shape)\n",
    "print(\"\\n\")\n",
    "print(HAS_J09[\"code\"].value_counts())"
   ]
  },
  {
   "cell_type": "markdown",
   "id": "b60f699b",
   "metadata": {},
   "source": [
    "### #############################################################################################"
   ]
  },
  {
   "cell_type": "markdown",
   "id": "0d4c1a94",
   "metadata": {},
   "source": [
    "# Pneumonia - #1\n",
    "### ICD-10: J10 - Pneumonia"
   ]
  },
  {
   "cell_type": "code",
   "execution_count": null,
   "id": "62aa0836",
   "metadata": {},
   "outputs": [],
   "source": [
    "# ICD-10: J10 - Pneumonia\n",
    "\n",
    "sub_blocks = []\n",
    "for i in range(1, num_spreadsheets+1):\n",
    "    print(f'{i:04}')\n",
    "    diagnosis = pd.read_csv(working_dir + \"diagnosis_NEW_\"+f'{i:04}'+\".csv\", \n",
    "        dtype=d_type_spec)\n",
    "    diagnosis = diagnosis[diagnosis[\"code\"].str.match(\"^J10.*\")]\n",
    "    sub_blocks.append(diagnosis)\n",
    "    del diagnosis\n",
    "\n",
    "HAS_J10 = pd.concat(sub_blocks, ignore_index = True)\n",
    "HAS_J10.to_csv(working_dir +\"HAS_J10.csv\", index = False)\n",
    "display(HAS_J10.head())\n",
    "print(\"\\n\")\n",
    "print(HAS_J10.shape)\n",
    "print(\"\\n\")\n",
    "print(HAS_J10[\"code\"].value_counts())"
   ]
  },
  {
   "cell_type": "markdown",
   "id": "f756a8bb",
   "metadata": {},
   "source": [
    "### #############################################################################################"
   ]
  },
  {
   "cell_type": "markdown",
   "id": "4f60c419",
   "metadata": {},
   "source": [
    "# Pneumonia - #2\n",
    "### ICD-10: J11 - Pneumonia"
   ]
  },
  {
   "cell_type": "code",
   "execution_count": null,
   "id": "147aaea7",
   "metadata": {},
   "outputs": [],
   "source": [
    "# ICD-10: J11 - Pneumonia\n",
    "\n",
    "sub_blocks = []\n",
    "for i in range(1, num_spreadsheets+1):\n",
    "    print(f'{i:04}')\n",
    "    diagnosis = pd.read_csv(working_dir + \"diagnosis_NEW_\"+f'{i:04}'+\".csv\", \n",
    "        dtype=d_type_spec)\n",
    "    diagnosis = diagnosis[diagnosis[\"code\"].str.match(\"^J11.*\")]\n",
    "    sub_blocks.append(diagnosis)\n",
    "    del diagnosis\n",
    "\n",
    "HAS_J11 = pd.concat(sub_blocks, ignore_index = True)\n",
    "HAS_J11.to_csv(working_dir +\"HAS_J11.csv\", index = False)\n",
    "display(HAS_J11.head())\n",
    "print(\"\\n\")\n",
    "print(HAS_J11.shape)\n",
    "print(\"\\n\")\n",
    "print(HAS_J11[\"code\"].value_counts())"
   ]
  },
  {
   "cell_type": "markdown",
   "id": "7536c3c3",
   "metadata": {},
   "source": [
    "### #############################################################################################"
   ]
  },
  {
   "cell_type": "markdown",
   "id": "18f91b7b",
   "metadata": {},
   "source": [
    "# Pneumonia - #3\n",
    "### ICD-10: J12 - Pneumonia"
   ]
  },
  {
   "cell_type": "code",
   "execution_count": null,
   "id": "8ecdf1cb",
   "metadata": {},
   "outputs": [],
   "source": [
    "# ICD-10: J12 - Pneumonia\n",
    "\n",
    "sub_blocks = []\n",
    "for i in range(1, num_spreadsheets+1):\n",
    "    print(f'{i:04}')\n",
    "    diagnosis = pd.read_csv(working_dir + \"diagnosis_NEW_\"+f'{i:04}'+\".csv\", \n",
    "        dtype=d_type_spec)\n",
    "    diagnosis = diagnosis[diagnosis[\"code\"].str.match(\"^J12.*\")]\n",
    "    sub_blocks.append(diagnosis)\n",
    "    del diagnosis\n",
    "\n",
    "HAS_J12 = pd.concat(sub_blocks, ignore_index = True)\n",
    "HAS_J12.to_csv(working_dir +\"HAS_J12.csv\", index = False)\n",
    "display(HAS_J12.head())\n",
    "print(\"\\n\")\n",
    "print(HAS_J12.shape)\n",
    "print(\"\\n\")\n",
    "print(HAS_J12[\"code\"].value_counts())"
   ]
  },
  {
   "cell_type": "markdown",
   "id": "085096b4",
   "metadata": {},
   "source": [
    "### #############################################################################################"
   ]
  },
  {
   "cell_type": "markdown",
   "id": "2ac5bbef",
   "metadata": {},
   "source": [
    "# Pneumonia - #4\n",
    "### ICD-10: J13 - Pneumonia"
   ]
  },
  {
   "cell_type": "code",
   "execution_count": null,
   "id": "6483fabe",
   "metadata": {},
   "outputs": [],
   "source": [
    "# ICD-10: J13 - Pneumonia\n",
    "\n",
    "sub_blocks = []\n",
    "for i in range(1, num_spreadsheets+1):\n",
    "    print(f'{i:04}')\n",
    "    diagnosis = pd.read_csv(working_dir + \"diagnosis_NEW_\"+f'{i:04}'+\".csv\", \n",
    "        dtype=d_type_spec)\n",
    "    diagnosis = diagnosis[diagnosis[\"code\"].str.match(\"^J13.*\")]\n",
    "    sub_blocks.append(diagnosis)\n",
    "    del diagnosis\n",
    "\n",
    "HAS_J13 = pd.concat(sub_blocks, ignore_index = True)\n",
    "HAS_J13.to_csv(working_dir +\"HAS_J13.csv\", index = False)\n",
    "display(HAS_J13.head())\n",
    "print(\"\\n\")\n",
    "print(HAS_J13.shape)\n",
    "print(\"\\n\")\n",
    "print(HAS_J13[\"code\"].value_counts())"
   ]
  },
  {
   "cell_type": "markdown",
   "id": "2b511114",
   "metadata": {},
   "source": [
    "### #############################################################################################"
   ]
  },
  {
   "cell_type": "markdown",
   "id": "9b63f359",
   "metadata": {},
   "source": [
    "# Pneumonia - #5\n",
    "### ICD-10: J14 - Pneumonia"
   ]
  },
  {
   "cell_type": "code",
   "execution_count": null,
   "id": "4d54910f",
   "metadata": {},
   "outputs": [],
   "source": [
    "# ICD-10: J14 - Pneumonia\n",
    "\n",
    "sub_blocks = []\n",
    "for i in range(1, num_spreadsheets+1):\n",
    "    print(f'{i:04}')\n",
    "    diagnosis = pd.read_csv(working_dir + \"diagnosis_NEW_\"+f'{i:04}'+\".csv\", \n",
    "        dtype=d_type_spec)\n",
    "    diagnosis = diagnosis[diagnosis[\"code\"].str.match(\"^J14.*\")]\n",
    "    sub_blocks.append(diagnosis)\n",
    "    del diagnosis\n",
    "\n",
    "HAS_J14 = pd.concat(sub_blocks, ignore_index = True)\n",
    "HAS_J14.to_csv(working_dir +\"HAS_J14.csv\", index = False)\n",
    "display(HAS_J14.head())\n",
    "print(\"\\n\")\n",
    "print(HAS_J14.shape)\n",
    "print(\"\\n\")\n",
    "print(HAS_J14[\"code\"].value_counts())"
   ]
  },
  {
   "cell_type": "markdown",
   "id": "bc66dd39",
   "metadata": {},
   "source": [
    "### #############################################################################################"
   ]
  },
  {
   "cell_type": "markdown",
   "id": "269af11a",
   "metadata": {},
   "source": [
    "# Pneumonia - #6\n",
    "### ICD-10: J15 - Pneumonia"
   ]
  },
  {
   "cell_type": "code",
   "execution_count": null,
   "id": "267d4e75",
   "metadata": {},
   "outputs": [],
   "source": [
    "# ICD-10: J15 - Pneumonia\n",
    "\n",
    "sub_blocks = []\n",
    "for i in range(1, num_spreadsheets+1):\n",
    "    print(f'{i:04}')\n",
    "    diagnosis = pd.read_csv(working_dir + \"diagnosis_NEW_\"+f'{i:04}'+\".csv\", \n",
    "        dtype=d_type_spec)\n",
    "    diagnosis = diagnosis[diagnosis[\"code\"].str.match(\"^J15.*\")]\n",
    "    sub_blocks.append(diagnosis)\n",
    "    del diagnosis\n",
    "\n",
    "HAS_J15 = pd.concat(sub_blocks, ignore_index = True)\n",
    "HAS_J15.to_csv(working_dir +\"HAS_J15.csv\", index = False)\n",
    "display(HAS_J15.head())\n",
    "print(\"\\n\")\n",
    "print(HAS_J15.shape)\n",
    "print(\"\\n\")\n",
    "print(HAS_J15[\"code\"].value_counts())"
   ]
  },
  {
   "cell_type": "markdown",
   "id": "bda77d04",
   "metadata": {},
   "source": [
    "### #############################################################################################"
   ]
  },
  {
   "cell_type": "markdown",
   "id": "9e45cde4",
   "metadata": {},
   "source": [
    "# Pneumonia - #7\n",
    "### ICD-10: J16 - Pneumonia"
   ]
  },
  {
   "cell_type": "code",
   "execution_count": null,
   "id": "c50b6821",
   "metadata": {},
   "outputs": [],
   "source": [
    "# ICD-10: J16 - Pneumonia\n",
    "\n",
    "sub_blocks = []\n",
    "for i in range(1, num_spreadsheets+1):\n",
    "    print(f'{i:04}')\n",
    "    diagnosis = pd.read_csv(working_dir + \"diagnosis_NEW_\"+f'{i:04}'+\".csv\", \n",
    "        dtype=d_type_spec)\n",
    "    diagnosis = diagnosis[diagnosis[\"code\"].str.match(\"^J16.*\")]\n",
    "    sub_blocks.append(diagnosis)\n",
    "    del diagnosis\n",
    "\n",
    "HAS_J16 = pd.concat(sub_blocks, ignore_index = True)\n",
    "HAS_J16.to_csv(working_dir +\"HAS_J16.csv\", index = False)\n",
    "display(HAS_J16.head())\n",
    "print(\"\\n\")\n",
    "print(HAS_J16.shape)\n",
    "print(\"\\n\")\n",
    "print(HAS_J16[\"code\"].value_counts())"
   ]
  },
  {
   "cell_type": "markdown",
   "id": "bd9ed3d9",
   "metadata": {},
   "source": [
    "### #############################################################################################"
   ]
  },
  {
   "cell_type": "markdown",
   "id": "408d10fd",
   "metadata": {},
   "source": [
    "# Pneumonia - #8\n",
    "### ICD-10: J17 - Pneumonia"
   ]
  },
  {
   "cell_type": "code",
   "execution_count": null,
   "id": "ff0540c0",
   "metadata": {},
   "outputs": [],
   "source": [
    "# ICD-10: J17 - Pneumonia\n",
    "\n",
    "sub_blocks = []\n",
    "for i in range(1, num_spreadsheets+1):\n",
    "    print(f'{i:04}')\n",
    "    diagnosis = pd.read_csv(working_dir + \"diagnosis_NEW_\"+f'{i:04}'+\".csv\", \n",
    "        dtype=d_type_spec)\n",
    "    diagnosis = diagnosis[diagnosis[\"code\"].str.match(\"^J17.*\")]\n",
    "    sub_blocks.append(diagnosis)\n",
    "    del diagnosis\n",
    "\n",
    "HAS_J17 = pd.concat(sub_blocks, ignore_index = True)\n",
    "HAS_J17.to_csv(working_dir +\"HAS_J17.csv\", index = False)\n",
    "display(HAS_J17.head())\n",
    "print(\"\\n\")\n",
    "print(HAS_J17.shape)\n",
    "print(\"\\n\")\n",
    "print(HAS_J17[\"code\"].value_counts())"
   ]
  },
  {
   "cell_type": "markdown",
   "id": "e664d1a0",
   "metadata": {},
   "source": [
    "### #############################################################################################"
   ]
  },
  {
   "cell_type": "markdown",
   "id": "1c9c413c",
   "metadata": {},
   "source": [
    "# Pneumonia - #9\n",
    "### ICD-10: J18 - Pneumonia"
   ]
  },
  {
   "cell_type": "code",
   "execution_count": null,
   "id": "080eed79",
   "metadata": {},
   "outputs": [],
   "source": [
    "# ICD-10: J18 - Pneumonia\n",
    "\n",
    "sub_blocks = []\n",
    "for i in range(1, num_spreadsheets+1):\n",
    "    print(f'{i:04}')\n",
    "    diagnosis = pd.read_csv(working_dir + \"diagnosis_NEW_\"+f'{i:04}'+\".csv\", \n",
    "        dtype=d_type_spec)\n",
    "    diagnosis = diagnosis[diagnosis[\"code\"].str.match(\"^J18.*\")]\n",
    "    sub_blocks.append(diagnosis)\n",
    "    del diagnosis\n",
    "\n",
    "HAS_J18 = pd.concat(sub_blocks, ignore_index = True)\n",
    "HAS_J18.to_csv(working_dir +\"HAS_J18.csv\", index = False)\n",
    "display(HAS_J18.head())\n",
    "print(\"\\n\")\n",
    "print(HAS_J18.shape)\n",
    "print(\"\\n\")\n",
    "print(HAS_J18[\"code\"].value_counts())"
   ]
  },
  {
   "cell_type": "markdown",
   "id": "f478e1a8",
   "metadata": {},
   "source": [
    "### #############################################################################################"
   ]
  },
  {
   "cell_type": "markdown",
   "id": "b3aa69a7",
   "metadata": {},
   "source": [
    "# Cystic Fibrosis\n",
    "### ICD-10: E84 - Cystic Fibrosis"
   ]
  },
  {
   "cell_type": "code",
   "execution_count": null,
   "id": "2b0027c1",
   "metadata": {},
   "outputs": [],
   "source": [
    "# ICD-10: E84 - Cystic Fibrosis\n",
    "\n",
    "sub_blocks = []\n",
    "for i in range(1, num_spreadsheets+1):\n",
    "    print(f'{i:04}')\n",
    "    diagnosis = pd.read_csv(working_dir + \"diagnosis_NEW_\"+f'{i:04}'+\".csv\", \n",
    "        dtype=d_type_spec)\n",
    "    diagnosis = diagnosis[diagnosis[\"code\"].str.match(\"^E84.*\")]\n",
    "    sub_blocks.append(diagnosis)\n",
    "    del diagnosis\n",
    "\n",
    "HAS_E84 = pd.concat(sub_blocks, ignore_index = True)\n",
    "HAS_E84.to_csv(working_dir +\"HAS_E84.csv\", index = False)\n",
    "display(HAS_E84.head())\n",
    "print(\"\\n\")\n",
    "print(HAS_E84.shape)\n",
    "print(\"\\n\")\n",
    "print(HAS_E84[\"code\"].value_counts())"
   ]
  },
  {
   "cell_type": "markdown",
   "id": "41fabb1d",
   "metadata": {},
   "source": [
    "### #############################################################################################"
   ]
  },
  {
   "cell_type": "markdown",
   "id": "9d767046",
   "metadata": {},
   "source": [
    "# Heart Failure\n",
    "### I50: Heart Failure \n",
    "### I50.33 Acute on Chronic Diastolic HF\n",
    "### I50.31 Acute Diastolic HF\n",
    "### I50.23 Acute on Chronic Systolic HF\n",
    "### I50.21 Acute Systolic HF\n",
    "### I50.43 Acute on Chronic Combined HF\n",
    "### I50.41 Acute Combined HF"
   ]
  },
  {
   "cell_type": "code",
   "execution_count": null,
   "id": "b984fa4a",
   "metadata": {},
   "outputs": [],
   "source": [
    "# I50: Heart Failure \n",
    "# I50.33 Acute on Chronic Diastolic HF\n",
    "# I50.31 Acute Diastolic HF\n",
    "# I50.23 Acute on Chronic Systolic HF\n",
    "# I50.21 Acute Systolic HF\n",
    "# I50.43 Acute on Chronic Combined HF\n",
    "# I50.41 Acute Combined HF\n",
    "\n",
    "sub_blocks = []\n",
    "for i in range(1, num_spreadsheets+1):\n",
    "    print(f'{i:04}')\n",
    "    diagnosis = pd.read_csv(working_dir + \"diagnosis_NEW_\"+f'{i:04}'+\".csv\", \n",
    "        dtype=d_type_spec)\n",
    "    diagnosis = diagnosis[diagnosis[\"code\"].str.match(\"^I50.33$|^I50.31$|^I50.23$|^I50.21$|^I50.43$|^I50.41$\")]\n",
    "    sub_blocks.append(diagnosis)\n",
    "    del diagnosis\n",
    "\n",
    "HAS_I50 = pd.concat(sub_blocks, ignore_index = True)\n",
    "HAS_I50.to_csv(working_dir +\"HAS_I50_acute.csv\", index = False)\n",
    "display(HAS_I50.head())\n",
    "print(\"\\n\")\n",
    "print(HAS_I50.shape)\n",
    "print(\"\\n\")\n",
    "print(HAS_I50[\"code\"].value_counts())"
   ]
  },
  {
   "cell_type": "markdown",
   "id": "124078c3",
   "metadata": {},
   "source": [
    "### #############################################################################################"
   ]
  },
  {
   "cell_type": "markdown",
   "id": "2da7e2fb",
   "metadata": {},
   "source": [
    "# Acute Inf COPD\n",
    "### ICD-10: J44.0 - Acute Inf COPD"
   ]
  },
  {
   "cell_type": "code",
   "execution_count": null,
   "id": "26c0c37b",
   "metadata": {},
   "outputs": [],
   "source": [
    "# ICD-10: J44.0 - Acute Inf COPD\n",
    "\n",
    "sub_blocks = []\n",
    "for i in range(1, num_spreadsheets+1):\n",
    "    print(f'{i:04}')\n",
    "    diagnosis = pd.read_csv(working_dir + \"diagnosis_NEW_\"+f'{i:04}'+\".csv\", \n",
    "        dtype=d_type_spec)\n",
    "    diagnosis = diagnosis[diagnosis[\"code\"].str.match(\"^J44.0$\")]\n",
    "    sub_blocks.append(diagnosis)\n",
    "    del diagnosis\n",
    "\n",
    "HAS_J440 = pd.concat(sub_blocks, ignore_index = True)\n",
    "HAS_J440.to_csv(working_dir +\"HAS_J440.csv\", index = False)\n",
    "display(HAS_J440.head())\n",
    "print(\"\\n\")\n",
    "print(HAS_J440.shape)\n",
    "print(\"\\n\")\n",
    "print(HAS_J440[\"code\"].value_counts())"
   ]
  },
  {
   "cell_type": "markdown",
   "id": "5aceed49",
   "metadata": {},
   "source": [
    "### #############################################################################################"
   ]
  },
  {
   "cell_type": "markdown",
   "id": "02708f8f",
   "metadata": {},
   "source": [
    "# Acute Exac COPD\n",
    "### ICD-10: J44.1 - Acute Exac COPD"
   ]
  },
  {
   "cell_type": "code",
   "execution_count": null,
   "id": "a6d1b604",
   "metadata": {},
   "outputs": [],
   "source": [
    "# ICD-10: J44.1 - Acute Exac COPD\n",
    "\n",
    "sub_blocks = []\n",
    "for i in range(1, num_spreadsheets+1):\n",
    "    print(f'{i:04}')\n",
    "    diagnosis = pd.read_csv(working_dir + \"diagnosis_NEW_\"+f'{i:04}'+\".csv\", \n",
    "        dtype=d_type_spec)\n",
    "    diagnosis = diagnosis[diagnosis[\"code\"].str.match(\"^J44.1$\")]\n",
    "    sub_blocks.append(diagnosis)\n",
    "    del diagnosis\n",
    "\n",
    "HAS_J441 = pd.concat(sub_blocks, ignore_index = True)\n",
    "HAS_J441.to_csv(working_dir +\"HAS_J441.csv\", index = False)\n",
    "display(HAS_J441.head())\n",
    "print(\"\\n\")\n",
    "print(HAS_J441.shape)\n",
    "print(\"\\n\")\n",
    "print(HAS_J441[\"code\"].value_counts())"
   ]
  },
  {
   "cell_type": "markdown",
   "id": "fb1d3bbf",
   "metadata": {},
   "source": [
    "### #############################################################################################"
   ]
  },
  {
   "cell_type": "markdown",
   "id": "9df6667b",
   "metadata": {},
   "source": [
    "# Acute Bronchitis\n",
    "### ICD-10: J21 - Acute Bronchitis"
   ]
  },
  {
   "cell_type": "code",
   "execution_count": null,
   "id": "9d4e00f6",
   "metadata": {},
   "outputs": [],
   "source": [
    "# ICD-10: J21 - Acute Bronchitis\n",
    "\n",
    "sub_blocks = []\n",
    "for i in range(1, num_spreadsheets+1):\n",
    "    print(f'{i:04}')\n",
    "    diagnosis = pd.read_csv(working_dir + \"diagnosis_NEW_\"+f'{i:04}'+\".csv\", \n",
    "        dtype=d_type_spec)\n",
    "    diagnosis = diagnosis[diagnosis[\"code\"].str.match(\"^J21.*\")]\n",
    "    sub_blocks.append(diagnosis)\n",
    "    del diagnosis\n",
    "\n",
    "HAS_J21 = pd.concat(sub_blocks, ignore_index = True)\n",
    "HAS_J21.to_csv(working_dir +\"HAS_J21.csv\", index = False)\n",
    "display(HAS_J21.head())\n",
    "print(\"\\n\")\n",
    "print(HAS_J21.shape)\n",
    "print(\"\\n\")\n",
    "print(HAS_J21[\"code\"].value_counts())"
   ]
  },
  {
   "cell_type": "markdown",
   "id": "fa328fc4",
   "metadata": {},
   "source": [
    "### #############################################################################################"
   ]
  },
  {
   "cell_type": "markdown",
   "id": "8309747c",
   "metadata": {},
   "source": [
    "# Status asthmaticus\n",
    "### ICD-10: J45.91\n",
    "### ICD-10: J45.92\n",
    "### ICD-10: J45.21\n",
    "### ICD-10: J45.22\n",
    "### ICD-10: J45.31\n",
    "### ICD-10: J45.32\n",
    "### ICD-10: J45.41\n",
    "### ICD-10: J45.32\n",
    "### ICD-10: J45.51\n",
    "### ICD-10: J45.52"
   ]
  },
  {
   "cell_type": "code",
   "execution_count": null,
   "id": "a6a45d55",
   "metadata": {},
   "outputs": [],
   "source": [
    "# ICD-10: J45.91\n",
    "# ICD-10: J45.92\n",
    "# ICD-10: J45.21\n",
    "# ICD-10: J45.22\n",
    "# ICD-10: J45.31\n",
    "# ICD-10: J45.32\n",
    "# ICD-10: J45.41\n",
    "# ICD-10: J45.32\n",
    "# ICD-10: J45.51\n",
    "# ICD-10: J45.52\n",
    "\n",
    "sub_blocks = []\n",
    "for i in range(1, num_spreadsheets+1):\n",
    "    print(f'{i:04}')\n",
    "    diagnosis = pd.read_csv(working_dir + \"diagnosis_NEW_\"+f'{i:04}'+\".csv\", \n",
    "        dtype=d_type_spec)\n",
    "    diagnosis = diagnosis[diagnosis[\"code\"].str.match(\"^J45.91$|^J45.92$|^J45.21$|^J45.22$|^J45.31$|^J45.32$|^J45.41$|^J45.32$|^J45.51$|^J45.52$\")]\n",
    "    sub_blocks.append(diagnosis)\n",
    "    del diagnosis\n",
    "\n",
    "HAS_J46 = pd.concat(sub_blocks, ignore_index = True)\n",
    "HAS_J46.to_csv(working_dir +\"HAS_J46.csv\", index = False)\n",
    "display(HAS_J46.head())\n",
    "print(\"\\n\")\n",
    "print(HAS_J46.shape)\n",
    "print(\"\\n\")\n",
    "print(HAS_J46[\"code\"].value_counts())"
   ]
  },
  {
   "cell_type": "markdown",
   "id": "6f8b6aee",
   "metadata": {},
   "source": [
    "### #############################################################################################"
   ]
  },
  {
   "cell_type": "markdown",
   "id": "dfdbcc04",
   "metadata": {},
   "source": [
    "# Long Term (Current) Use of Opiate Analgesic Dx\n",
    "### ICD-10: Z79.891 - Long Term (Current) Use of Opiate Analgesic Dx"
   ]
  },
  {
   "cell_type": "code",
   "execution_count": null,
   "id": "a0e1c3bb",
   "metadata": {},
   "outputs": [],
   "source": [
    "# ICD-10: Z79.891 - Long Term (Current) Use of Opiate Analgesic Dx\n",
    "\n",
    "sub_blocks = []\n",
    "for i in range(1, num_spreadsheets+1):\n",
    "    print(f'{i:04}')\n",
    "    diagnosis = pd.read_csv(working_dir + \"diagnosis_NEW_\"+f'{i:04}'+\".csv\", \n",
    "        dtype=d_type_spec)\n",
    "    diagnosis = diagnosis[diagnosis[\"code\"].str.match(\"^Z79.891$\")]\n",
    "    sub_blocks.append(diagnosis)\n",
    "    del diagnosis\n",
    "\n",
    "HAS_Z79891 = pd.concat(sub_blocks, ignore_index = True)\n",
    "HAS_Z79891.to_csv(working_dir +\"HAS_Z79891.csv\", index = False)\n",
    "display(HAS_Z79891.head())\n",
    "print(\"\\n\")\n",
    "print(HAS_Z79891.shape)\n",
    "print(\"\\n\")\n",
    "print(HAS_Z79891[\"code\"].value_counts())"
   ]
  },
  {
   "cell_type": "markdown",
   "id": "0cce33c7",
   "metadata": {},
   "source": [
    "### #############################################################################################"
   ]
  },
  {
   "cell_type": "markdown",
   "id": "41a322d3",
   "metadata": {},
   "source": [
    "# Adverse Effect of Unspecified Narcotics, Initial Encounter\n",
    "### ICD-10: E935.2 - Adverse Effect of Unspecified Narcotics, Initial Encounter"
   ]
  },
  {
   "cell_type": "code",
   "execution_count": null,
   "id": "5eccb6a3",
   "metadata": {},
   "outputs": [],
   "source": [
    "# ICD-10: E935.2 - Adverse Effect of Unspecified Narcotics, Initial Encounter\n",
    "\n",
    "sub_blocks = []\n",
    "for i in range(1, num_spreadsheets+1):\n",
    "    print(f'{i:04}')\n",
    "    diagnosis = pd.read_csv(working_dir + \"diagnosis_NEW_\"+f'{i:04}'+\".csv\", \n",
    "        dtype=d_type_spec)\n",
    "    diagnosis = diagnosis[diagnosis[\"code\"].str.match(\"^E935.2$\")]\n",
    "    sub_blocks.append(diagnosis)\n",
    "    del diagnosis\n",
    "\n",
    "HAS_E9352 = pd.concat(sub_blocks, ignore_index = True)\n",
    "HAS_E9352.to_csv(working_dir +\"HAS_E9352.csv\", index = False)\n",
    "display(HAS_E9352.head())\n",
    "print(\"\\n\")\n",
    "print(HAS_E9352.shape)\n",
    "print(\"\\n\")\n",
    "print(HAS_E9352[\"code\"].value_counts())"
   ]
  },
  {
   "cell_type": "markdown",
   "id": "6e11b824",
   "metadata": {},
   "source": [
    "### #############################################################################################"
   ]
  },
  {
   "cell_type": "markdown",
   "id": "71d65faa",
   "metadata": {},
   "source": [
    "# Opiate Abuse, Uncomplicated\n",
    "### ICD-10: F11.10 - Opiate Abuse, Uncomplicated"
   ]
  },
  {
   "cell_type": "code",
   "execution_count": null,
   "id": "d8235114",
   "metadata": {},
   "outputs": [],
   "source": [
    "# ICD-10: F11.10 - Opiate Abuse, Uncomplicated\n",
    "\n",
    "sub_blocks = []\n",
    "for i in range(1, num_spreadsheets+1):\n",
    "    print(f'{i:04}')\n",
    "    diagnosis = pd.read_csv(working_dir + \"diagnosis_NEW_\"+f'{i:04}'+\".csv\", \n",
    "        dtype=d_type_spec)\n",
    "    diagnosis = diagnosis[diagnosis[\"code\"].str.match(\"^F11.10$\")]\n",
    "    sub_blocks.append(diagnosis)\n",
    "    del diagnosis\n",
    "\n",
    "HAS_F1110 = pd.concat(sub_blocks, ignore_index = True)\n",
    "HAS_F1110.to_csv(working_dir +\"HAS_F1110.csv\", index = False)\n",
    "display(HAS_F1110.head())\n",
    "print(\"\\n\")\n",
    "print(HAS_F1110.shape)\n",
    "print(\"\\n\")\n",
    "print(HAS_F1110[\"code\"].value_counts())"
   ]
  },
  {
   "cell_type": "markdown",
   "id": "a526d337",
   "metadata": {},
   "source": [
    "### #############################################################################################"
   ]
  },
  {
   "cell_type": "markdown",
   "id": "e35bfd6b",
   "metadata": {},
   "source": [
    "# Poisoning By Narcotic\n",
    "### ICD-10: T40 - Poisoning By Narcotic"
   ]
  },
  {
   "cell_type": "code",
   "execution_count": null,
   "id": "682dd522",
   "metadata": {},
   "outputs": [],
   "source": [
    "# ICD-10: T40 - Poisoning By Narcotic\n",
    "\n",
    "sub_blocks = []\n",
    "for i in range(1, num_spreadsheets+1):\n",
    "    print(f'{i:04}')\n",
    "    diagnosis = pd.read_csv(working_dir + \"diagnosis_NEW_\"+f'{i:04}'+\".csv\", \n",
    "        dtype=d_type_spec)\n",
    "    diagnosis = diagnosis[diagnosis[\"code\"].str.match(\"^T40.*\")]\n",
    "    sub_blocks.append(diagnosis)\n",
    "    del diagnosis\n",
    "\n",
    "HAS_T40 = pd.concat(sub_blocks, ignore_index = True)\n",
    "HAS_T40.to_csv(working_dir +\"HAS_T40.csv\", index = False)\n",
    "display(HAS_T40.head())\n",
    "print(\"\\n\")\n",
    "print(HAS_T40.shape)\n",
    "print(\"\\n\")\n",
    "print(HAS_T40[\"code\"].value_counts())"
   ]
  },
  {
   "cell_type": "markdown",
   "id": "661e39b7",
   "metadata": {},
   "source": [
    "### #############################################################################################"
   ]
  },
  {
   "cell_type": "markdown",
   "id": "8d089976",
   "metadata": {},
   "source": [
    "# Hypoventilation Due to Central Respiratory Drive Depression Associated With Medication, Substance Use, or Other Medical Conditions (Opioids) \n",
    "### ICD-10: F19.982 - Hypoventilation Due to Central Respiratory Drive Depression Associated With Medication, Substance Use, or Other Medical Conditions (Opioids) "
   ]
  },
  {
   "cell_type": "code",
   "execution_count": null,
   "id": "e75ba813",
   "metadata": {},
   "outputs": [],
   "source": [
    "# ICD-10: F19.982 - Hypoventilation Due to Central Respiratory Drive Depression Associated With Medication, Substance Use, or Other Medical Conditions (Opioids) \n",
    "\n",
    "sub_blocks = []\n",
    "for i in range(1, num_spreadsheets+1):\n",
    "    print(f'{i:04}')\n",
    "    diagnosis = pd.read_csv(working_dir + \"diagnosis_NEW_\"+f'{i:04}'+\".csv\", \n",
    "        dtype=d_type_spec)\n",
    "    diagnosis = diagnosis[diagnosis[\"code\"].str.match(\"^F19.982$\")]\n",
    "    sub_blocks.append(diagnosis)\n",
    "    del diagnosis\n",
    "\n",
    "HAS_F19982 = pd.concat(sub_blocks, ignore_index = True)\n",
    "HAS_F19982.to_csv(working_dir +\"HAS_F19982.csv\", index = False)\n",
    "display(HAS_F19982.head())\n",
    "print(\"\\n\")\n",
    "print(HAS_F19982.shape)\n",
    "print(\"\\n\")\n",
    "print(HAS_F19982[\"code\"].value_counts())"
   ]
  },
  {
   "cell_type": "markdown",
   "id": "1f06044b",
   "metadata": {},
   "source": [
    "### #############################################################################################"
   ]
  },
  {
   "cell_type": "markdown",
   "id": "a323ce94",
   "metadata": {},
   "source": [
    "# Guillain Barre\n",
    "### ICD-10: G61 - Guillain Barre"
   ]
  },
  {
   "cell_type": "code",
   "execution_count": null,
   "id": "0e70df74",
   "metadata": {},
   "outputs": [],
   "source": [
    "# ICD-10: G61 - Guillain Barre\n",
    "\n",
    "sub_blocks = []\n",
    "for i in range(1, num_spreadsheets+1):\n",
    "    print(f'{i:04}')\n",
    "    diagnosis = pd.read_csv(working_dir + \"diagnosis_NEW_\"+f'{i:04}'+\".csv\", \n",
    "        dtype=d_type_spec)\n",
    "    diagnosis = diagnosis[diagnosis[\"code\"].str.match(\"^G61.*\")]\n",
    "    sub_blocks.append(diagnosis)\n",
    "    del diagnosis\n",
    "\n",
    "HAS_G61 = pd.concat(sub_blocks, ignore_index = True)\n",
    "HAS_G61.to_csv(working_dir +\"HAS_G61.csv\", index = False)\n",
    "display(HAS_G61.head())\n",
    "print(\"\\n\")\n",
    "print(HAS_G61.shape)\n",
    "print(\"\\n\")\n",
    "print(HAS_G61[\"code\"].value_counts())"
   ]
  },
  {
   "cell_type": "markdown",
   "id": "3ba16d65",
   "metadata": {},
   "source": [
    "### #############################################################################################"
   ]
  },
  {
   "cell_type": "markdown",
   "id": "b17904e0",
   "metadata": {},
   "source": [
    "# Other Sepsis\n",
    "### ICD-10: A41 - Other Sepsis\n"
   ]
  },
  {
   "cell_type": "code",
   "execution_count": null,
   "id": "84a571a0",
   "metadata": {},
   "outputs": [],
   "source": [
    "# ICD-10-CM: A41 - Other Sepsis\n",
    "\n",
    "sub_blocks = []\n",
    "for i in range(1, num_spreadsheets+1):\n",
    "    print(f'{i:04}')\n",
    "    diagnosis = pd.read_csv(working_dir + \"diagnosis_NEW_\"+f'{i:04}'+\".csv\", \n",
    "        dtype=d_type_spec)\n",
    "    diagnosis = diagnosis[diagnosis[\"code\"].str.match(\"^A41.*\")]\n",
    "    sub_blocks.append(diagnosis)\n",
    "    del diagnosis\n",
    "\n",
    "HAS_A41 = pd.concat(sub_blocks, ignore_index = True)\n",
    "HAS_A41.to_csv(working_dir +\"HAS_A41.csv\", index = False)\n",
    "display(HAS_A41.head())\n",
    "print(\"\\n\")\n",
    "print(HAS_A41.shape)\n",
    "print(\"\\n\")\n",
    "print(HAS_A41[\"code\"].value_counts())"
   ]
  },
  {
   "cell_type": "markdown",
   "id": "ccd94be6",
   "metadata": {},
   "source": [
    "### #############################################################################################"
   ]
  },
  {
   "cell_type": "markdown",
   "id": "904e5d1c",
   "metadata": {},
   "source": [
    "# Stupor or Coma\n",
    "### ICD-10: R40 Stupor or Coma"
   ]
  },
  {
   "cell_type": "code",
   "execution_count": null,
   "id": "14c1f826",
   "metadata": {},
   "outputs": [],
   "source": [
    "# ICD-10: R40 Stupor or Coma\n",
    "\n",
    "sub_blocks = []\n",
    "for i in range(1, num_spreadsheets+1):\n",
    "    print(f'{i:04}')\n",
    "    diagnosis = pd.read_csv(working_dir + \"diagnosis_NEW_\"+f'{i:04}'+\".csv\", \n",
    "        dtype=d_type_spec)\n",
    "    diagnosis = diagnosis[diagnosis[\"code\"].str.match(\"^R40.*\")]\n",
    "    sub_blocks.append(diagnosis)\n",
    "    del diagnosis\n",
    "\n",
    "HAS_R40 = pd.concat(sub_blocks, ignore_index = True)\n",
    "HAS_R40.to_csv(working_dir +\"HAS_R40.csv\", index = False)\n",
    "display(HAS_R40.head())\n",
    "print(\"\\n\")\n",
    "print(HAS_R40.shape)\n",
    "print(\"\\n\")\n",
    "print(HAS_R40[\"code\"].value_counts())"
   ]
  },
  {
   "cell_type": "markdown",
   "id": "6824e535",
   "metadata": {},
   "source": [
    "### #############################################################################################"
   ]
  },
  {
   "cell_type": "markdown",
   "id": "5c9680ca",
   "metadata": {},
   "source": [
    "# Other Signs of Cognitive Functions\n",
    "### ICD-10: R41 Other signs of cognitive functions"
   ]
  },
  {
   "cell_type": "code",
   "execution_count": null,
   "id": "2ac3125e",
   "metadata": {},
   "outputs": [],
   "source": [
    "# ICD-10: R41 Other signs of cognitive functions\n",
    "\n",
    "sub_blocks = []\n",
    "for i in range(1, num_spreadsheets+1):\n",
    "    print(f'{i:04}')\n",
    "    diagnosis = pd.read_csv(working_dir + \"diagnosis_NEW_\"+f'{i:04}'+\".csv\", \n",
    "        dtype=d_type_spec)\n",
    "    diagnosis = diagnosis[diagnosis[\"code\"].str.match(\"^R41.*\")]\n",
    "    sub_blocks.append(diagnosis)\n",
    "    del diagnosis\n",
    "\n",
    "HAS_R41 = pd.concat(sub_blocks, ignore_index = True)\n",
    "HAS_R41.to_csv(working_dir +\"HAS_R41.csv\", index = False)\n",
    "display(HAS_R41.head())\n",
    "print(\"\\n\")\n",
    "print(HAS_R41.shape)\n",
    "print(\"\\n\")\n",
    "print(HAS_R41[\"code\"].value_counts())"
   ]
  },
  {
   "cell_type": "markdown",
   "id": "748afec9",
   "metadata": {},
   "source": [
    "### #############################################################################################"
   ]
  },
  {
   "cell_type": "markdown",
   "id": "619b27e9",
   "metadata": {},
   "source": [
    "# Malaise and Fatigue\n",
    "### ICD-10: R53 Malaise and Fatigue"
   ]
  },
  {
   "cell_type": "code",
   "execution_count": null,
   "id": "6ecc51e8",
   "metadata": {},
   "outputs": [],
   "source": [
    "# ICD-10: R53 Malaise and Fatigue\n",
    "\n",
    "sub_blocks = []\n",
    "for i in range(1, num_spreadsheets+1):\n",
    "    print(f'{i:04}')\n",
    "    diagnosis = pd.read_csv(working_dir + \"diagnosis_NEW_\"+f'{i:04}'+\".csv\", \n",
    "        dtype=d_type_spec)\n",
    "    diagnosis = diagnosis[diagnosis[\"code\"].str.match(\"^R53.*\")]\n",
    "    sub_blocks.append(diagnosis)\n",
    "    del diagnosis\n",
    "\n",
    "HAS_R53 = pd.concat(sub_blocks, ignore_index = True)\n",
    "HAS_R53.to_csv(working_dir +\"HAS_R53.csv\", index = False)\n",
    "display(HAS_R53.head())\n",
    "print(\"\\n\")\n",
    "print(HAS_R53.shape)\n",
    "print(\"\\n\")\n",
    "print(HAS_R53[\"code\"].value_counts())"
   ]
  },
  {
   "cell_type": "markdown",
   "metadata": {},
   "source": [
    "# New Ones 4/2/2024"
   ]
  },
  {
   "cell_type": "markdown",
   "metadata": {},
   "source": [
    "# Respiratory Acidosis\n",
    "### E87.29, Other Acidosis"
   ]
  },
  {
   "cell_type": "code",
   "execution_count": null,
   "id": "d0bb1008",
   "metadata": {},
   "outputs": [],
   "source": [
    "# ICD-10: E87.29 Other Acidosis\n",
    "\n",
    "sub_blocks = []\n",
    "for i in range(1, num_spreadsheets+1):\n",
    "    print(f'{i:04}')\n",
    "    diagnosis = pd.read_csv(working_dir + \"diagnosis_NEW_\"+f'{i:04}'+\".csv\", \n",
    "        dtype=d_type_spec)\n",
    "    diagnosis = diagnosis[diagnosis[\"code\"].str.match(\"^E87.29$\")]\n",
    "    sub_blocks.append(diagnosis)\n",
    "    del diagnosis\n",
    "\n",
    "HAS_E8729 = pd.concat(sub_blocks, ignore_index = True)\n",
    "HAS_E8729.to_csv(working_dir +\"HAS_E8729.csv\", index = False)\n",
    "display(HAS_E8729.head())\n",
    "print(\"\\n\")\n",
    "print(HAS_E8729.shape)\n",
    "print(\"\\n\")\n",
    "print(HAS_E8729[\"code\"].value_counts())"
   ]
  },
  {
   "cell_type": "markdown",
   "id": "8bbc0fdb",
   "metadata": {},
   "source": [
    "# Sleep Alveolar Hypovent\n",
    "### G47.34 Idiopathic sleep related nonobstructive alveolar hypoventilation"
   ]
  },
  {
   "cell_type": "code",
   "execution_count": null,
   "id": "5313d060",
   "metadata": {},
   "outputs": [],
   "source": [
    "# ICD-10: G47.34 Idiopathic sleep related nonobstructive alveolar hypoventilation\n",
    "\n",
    "sub_blocks = []\n",
    "for i in range(1, num_spreadsheets+1):\n",
    "    print(f'{i:04}')\n",
    "    diagnosis = pd.read_csv(working_dir + \"diagnosis_NEW_\"+f'{i:04}'+\".csv\", \n",
    "        dtype=d_type_spec)\n",
    "    diagnosis = diagnosis[diagnosis[\"code\"].str.match(\"^G47.34$\")]\n",
    "    sub_blocks.append(diagnosis)\n",
    "    del diagnosis\n",
    "\n",
    "HAS_G4734 = pd.concat(sub_blocks, ignore_index = True)\n",
    "HAS_G4734.to_csv(working_dir +\"HAS_G4734.csv\", index = False)\n",
    "display(HAS_G4734.head())\n",
    "print(\"\\n\")\n",
    "print(HAS_G4734.shape)\n",
    "print(\"\\n\")\n",
    "print(HAS_G4734[\"code\"].value_counts())"
   ]
  },
  {
   "cell_type": "markdown",
   "id": "f0f9aef8",
   "metadata": {},
   "source": [
    "# CCHS\n",
    "### G47.35 Congenital central alveolar hypoventilation syndrome"
   ]
  },
  {
   "cell_type": "code",
   "execution_count": null,
   "id": "31aae392",
   "metadata": {},
   "outputs": [],
   "source": [
    "# ICD-10: G47.35 Congenital central alveolar hypoventilation syndrome\n",
    "\n",
    "sub_blocks = []\n",
    "for i in range(1, num_spreadsheets+1):\n",
    "    print(f'{i:04}')\n",
    "    diagnosis = pd.read_csv(working_dir + \"diagnosis_NEW_\"+f'{i:04}'+\".csv\", \n",
    "        dtype=d_type_spec)\n",
    "    diagnosis = diagnosis[diagnosis[\"code\"].str.match(\"^G47.35$\")]\n",
    "    sub_blocks.append(diagnosis)\n",
    "    del diagnosis\n",
    "\n",
    "HAS_G4735 = pd.concat(sub_blocks, ignore_index = True)\n",
    "HAS_G4735.to_csv(working_dir +\"HAS_G4735.csv\", index = False)\n",
    "display(HAS_G4735.head())\n",
    "print(\"\\n\")\n",
    "print(HAS_G4735.shape)\n",
    "print(\"\\n\")\n",
    "print(HAS_G4735[\"code\"].value_counts())"
   ]
  },
  {
   "cell_type": "markdown",
   "id": "22b93d64",
   "metadata": {},
   "source": [
    "# Sleep Related Hypoventilation\n",
    "### G47.36 Sleep related hypoventilation in conditions classified"
   ]
  },
  {
   "cell_type": "code",
   "execution_count": null,
   "id": "516aaed7",
   "metadata": {},
   "outputs": [],
   "source": [
    "# ICD 10 : G47.36 Sleep related hypoventilation in conditions classified\n",
    "\n",
    "sub_blocks = []\n",
    "for i in range(1, num_spreadsheets+1):\n",
    "    print(f'{i:04}')\n",
    "    diagnosis = pd.read_csv(working_dir + \"diagnosis_NEW_\"+f'{i:04}'+\".csv\", \n",
    "        dtype=d_type_spec)\n",
    "    diagnosis = diagnosis[diagnosis[\"code\"].str.match(\"^G47.36$\")]\n",
    "    sub_blocks.append(diagnosis)\n",
    "    del diagnosis\n",
    "\n",
    "HAS_G4736 = pd.concat(sub_blocks, ignore_index = True)\n",
    "HAS_G4736.to_csv(working_dir +\"HAS_G4736.csv\", index = False)\n",
    "display(HAS_G4736.head())\n",
    "print(\"\\n\")\n",
    "print(HAS_G4736.shape)\n",
    "print(\"\\n\")\n",
    "print(HAS_G4736[\"code\"].value_counts())"
   ]
  },
  {
   "cell_type": "markdown",
   "id": "2da125de",
   "metadata": {},
   "source": [
    "# Hypercapnia NOS\n",
    "\n",
    "### R06.89 (hypercapnia NOS, but other things too) - Other abnormalities of breathing"
   ]
  },
  {
   "cell_type": "code",
   "execution_count": null,
   "id": "c7f196fd",
   "metadata": {},
   "outputs": [],
   "source": [
    "# iCD 10 : R06.89 (hypercapnia NOS, but other things too) - Other abnormalities of breathing\n",
    "sub_blocks = []\n",
    "\n",
    "for i in range(1, num_spreadsheets+1):\n",
    "    print(f'{i:04}')\n",
    "    diagnosis = pd.read_csv(working_dir + \"diagnosis_NEW_\"+f'{i:04}'+\".csv\", \n",
    "        dtype=d_type_spec)\n",
    "    diagnosis = diagnosis[diagnosis[\"code\"].str.match(\"^R06.89$\")]\n",
    "    sub_blocks.append(diagnosis)\n",
    "    del diagnosis\n",
    "\n",
    "HAS_R0689 = pd.concat(sub_blocks, ignore_index = True)\n",
    "HAS_R0689.to_csv(working_dir +\"HAS_R0689.csv\", index = False)\n",
    "display(HAS_R0689.head())\n",
    "print(\"\\n\")\n",
    "print(HAS_R0689.shape)\n",
    "print(\"\\n\")\n",
    "print(HAS_R0689[\"code\"].value_counts())"
   ]
  },
  {
   "cell_type": "markdown",
   "metadata": {},
   "source": [
    "# Acidosis , unspecified\n",
    "### E87.20"
   ]
  },
  {
   "cell_type": "code",
   "execution_count": null,
   "id": "d34a4dff",
   "metadata": {},
   "outputs": [],
   "source": [
    "sub_blocks = []\n",
    "\n",
    "for i in range(1, num_spreadsheets+1):\n",
    "    print(f'{i:04}')\n",
    "    diagnosis = pd.read_csv(working_dir + \"diagnosis_NEW_\"+f'{i:04}'+\".csv\", \n",
    "        dtype=d_type_spec)\n",
    "    diagnosis = diagnosis[diagnosis[\"code\"].str.match(\"^E87.20$\")]\n",
    "    sub_blocks.append(diagnosis)\n",
    "    del diagnosis\n",
    "\n",
    "HAS_E8720 = pd.concat(sub_blocks, ignore_index = True)\n",
    "HAS_E8720.to_csv(working_dir +\"HAS_E8720.csv\", index = False)\n",
    "display(HAS_E8720.head())\n",
    "print(\"\\n\")\n",
    "print(HAS_E8720.shape)\n",
    "print(\"\\n\")\n",
    "print(HAS_E8720[\"code\"].value_counts())"
   ]
  },
  {
   "cell_type": "markdown",
   "id": "7a7b2edc",
   "metadata": {},
   "source": [
    "# Headache\n",
    "\n",
    "### R51* \n",
    "### G44*"
   ]
  },
  {
   "cell_type": "code",
   "execution_count": null,
   "id": "77cf6027",
   "metadata": {},
   "outputs": [],
   "source": [
    "sub_blocks = []\n",
    "\n",
    "for i in range(1, num_spreadsheets+1):\n",
    "    print(f'{i:04}')\n",
    "    diagnosis = pd.read_csv(working_dir + \"diagnosis_NEW_\"+f'{i:04}'+\".csv\", \n",
    "        dtype=d_type_spec)\n",
    "    diagnosis = diagnosis[diagnosis[\"code\"].str.match(\"^R51.*|^G44.*\")]\n",
    "    sub_blocks.append(diagnosis)\n",
    "    del diagnosis\n",
    "\n",
    "HAS_headache = pd.concat(sub_blocks, ignore_index = True)\n",
    "HAS_headache.to_csv(working_dir +\"HAS_headache.csv\", index = False)\n",
    "display(HAS_headache.head())\n",
    "print(\"\\n\")\n",
    "print(HAS_headache.shape)\n",
    "print(\"\\n\")\n",
    "print(HAS_headache[\"code\"].value_counts())"
   ]
  },
  {
   "cell_type": "markdown",
   "metadata": {},
   "source": [
    "# Code Cleanup "
   ]
  },
  {
   "cell_type": "code",
   "execution_count": null,
   "id": "1e94b74b",
   "metadata": {},
   "outputs": [],
   "source": [
    "# Construct the pattern to match the files\n",
    "# This pattern matches \"encounter_\" followed by exactly 4 digits and \".csv\"\n",
    "pattern = os.path.join(working_dir, \"diagnosis_NEW_????\"+\".csv\")\n",
    "\n",
    "# Use glob.glob to find all files that match the pattern\n",
    "matching_files = glob.glob(pattern)\n",
    "\n",
    "# Iterate over the list of matching files and delete each one\n",
    "for file_path in matching_files:\n",
    "    try:\n",
    "        #os.remove(file_path)\n",
    "        print(f\"Deleted file: {file_path}\")\n",
    "    except Exception as e:\n",
    "        print(f\"Error deleting file {file_path}: {e}\")"
   ]
  }
 ],
 "metadata": {
  "kernelspec": {
   "display_name": "Python 3 (ipykernel)",
   "language": "python",
   "name": "python3"
  },
  "language_info": {
   "codemirror_mode": {
    "name": "ipython",
    "version": 3
   },
   "file_extension": ".py",
   "mimetype": "text/x-python",
   "name": "python",
   "nbconvert_exporter": "python",
   "pygments_lexer": "ipython3",
   "version": "3.11.7"
  }
 },
 "nbformat": 4,
 "nbformat_minor": 5
}
